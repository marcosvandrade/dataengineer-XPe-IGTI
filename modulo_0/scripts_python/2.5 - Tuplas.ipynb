{
 "cells": [
  {
   "cell_type": "markdown",
   "id": "collective-center",
   "metadata": {},
   "source": [
    "# Tuplas"
   ]
  },
  {
   "cell_type": "code",
   "execution_count": 45,
   "id": "planned-rebate",
   "metadata": {},
   "outputs": [],
   "source": [
    "tupla = \"janeiro\", \"fevereiro\", \"março\", \"abril\", \"maio\", \"junho\"\n",
    "tupla1 = (\"janeiro\", 1, \"fevereiro\", 2, \"março\", 3, \"abril\", 4, \"maio\", 5, \"junho\", 6)"
   ]
  },
  {
   "cell_type": "code",
   "execution_count": 46,
   "id": "complicated-table",
   "metadata": {
    "scrolled": true
   },
   "outputs": [
    {
     "data": {
      "text/plain": [
       "tuple"
      ]
     },
     "execution_count": 46,
     "metadata": {},
     "output_type": "execute_result"
    }
   ],
   "source": [
    "#tipo\n",
    "type(tupla)"
   ]
  },
  {
   "cell_type": "code",
   "execution_count": 47,
   "id": "powered-deficit",
   "metadata": {},
   "outputs": [
    {
     "data": {
      "text/plain": [
       "6"
      ]
     },
     "execution_count": 47,
     "metadata": {},
     "output_type": "execute_result"
    }
   ],
   "source": [
    "#tamanho da lista\n",
    "len(tupla)"
   ]
  },
  {
   "cell_type": "code",
   "execution_count": 48,
   "id": "prompt-departure",
   "metadata": {},
   "outputs": [
    {
     "data": {
      "text/plain": [
       "'março'"
      ]
     },
     "execution_count": 48,
     "metadata": {},
     "output_type": "execute_result"
    }
   ],
   "source": [
    "tupla[2]"
   ]
  },
  {
   "cell_type": "code",
   "execution_count": 49,
   "id": "timely-first",
   "metadata": {},
   "outputs": [
    {
     "ename": "TypeError",
     "evalue": "'tuple' object does not support item assignment",
     "output_type": "error",
     "traceback": [
      "\u001b[0;31m---------------------------------------------------------------------------\u001b[0m",
      "\u001b[0;31mTypeError\u001b[0m                                 Traceback (most recent call last)",
      "\u001b[0;32m<ipython-input-49-ac3bcdc47ef3>\u001b[0m in \u001b[0;36m<module>\u001b[0;34m\u001b[0m\n\u001b[1;32m      1\u001b[0m \u001b[0;31m#alterar o valor da tupla\u001b[0m\u001b[0;34m\u001b[0m\u001b[0;34m\u001b[0m\u001b[0;34m\u001b[0m\u001b[0m\n\u001b[0;32m----> 2\u001b[0;31m \u001b[0mtupla\u001b[0m\u001b[0;34m[\u001b[0m\u001b[0;36m2\u001b[0m\u001b[0;34m]\u001b[0m \u001b[0;34m=\u001b[0m \u001b[0;34m-\u001b[0m\u001b[0;36m6\u001b[0m\u001b[0;34m\u001b[0m\u001b[0;34m\u001b[0m\u001b[0m\n\u001b[0m\u001b[1;32m      3\u001b[0m \u001b[0mtupla\u001b[0m\u001b[0;34m\u001b[0m\u001b[0;34m\u001b[0m\u001b[0m\n",
      "\u001b[0;31mTypeError\u001b[0m: 'tuple' object does not support item assignment"
     ]
    }
   ],
   "source": [
    "#alterar o valor da tupla\n",
    "tupla[2] = -6\n",
    "tupla"
   ]
  },
  {
   "cell_type": "code",
   "execution_count": 50,
   "id": "systematic-scene",
   "metadata": {},
   "outputs": [
    {
     "name": "stdout",
     "output_type": "stream",
     "text": [
      "Object `tupla.pop` not found.\n"
     ]
    }
   ],
   "source": [
    "#métodos\n",
    "tupla.pop?"
   ]
  },
  {
   "cell_type": "code",
   "execution_count": 51,
   "id": "ultimate-volunteer",
   "metadata": {},
   "outputs": [
    {
     "ename": "AttributeError",
     "evalue": "'tuple' object has no attribute 'reverse'",
     "output_type": "error",
     "traceback": [
      "\u001b[0;31m---------------------------------------------------------------------------\u001b[0m",
      "\u001b[0;31mAttributeError\u001b[0m                            Traceback (most recent call last)",
      "\u001b[0;32m<ipython-input-51-ef02ce79deaf>\u001b[0m in \u001b[0;36m<module>\u001b[0;34m\u001b[0m\n\u001b[0;32m----> 1\u001b[0;31m \u001b[0mtupla\u001b[0m\u001b[0;34m.\u001b[0m\u001b[0mreverse\u001b[0m\u001b[0;34m(\u001b[0m\u001b[0;34m)\u001b[0m\u001b[0;34m\u001b[0m\u001b[0;34m\u001b[0m\u001b[0m\n\u001b[0m",
      "\u001b[0;31mAttributeError\u001b[0m: 'tuple' object has no attribute 'reverse'"
     ]
    }
   ],
   "source": [
    "tupla.reverse()"
   ]
  },
  {
   "cell_type": "code",
   "execution_count": 52,
   "id": "south-summer",
   "metadata": {},
   "outputs": [
    {
     "ename": "AttributeError",
     "evalue": "'tuple' object has no attribute 'insert'",
     "output_type": "error",
     "traceback": [
      "\u001b[0;31m---------------------------------------------------------------------------\u001b[0m",
      "\u001b[0;31mAttributeError\u001b[0m                            Traceback (most recent call last)",
      "\u001b[0;32m<ipython-input-52-245b83450ece>\u001b[0m in \u001b[0;36m<module>\u001b[0;34m\u001b[0m\n\u001b[0;32m----> 1\u001b[0;31m \u001b[0mtupla\u001b[0m\u001b[0;34m.\u001b[0m\u001b[0minsert\u001b[0m\u001b[0;34m(\u001b[0m\u001b[0;36m10\u001b[0m\u001b[0;34m,\u001b[0m\u001b[0;36m200\u001b[0m\u001b[0;34m)\u001b[0m\u001b[0;34m\u001b[0m\u001b[0;34m\u001b[0m\u001b[0m\n\u001b[0m",
      "\u001b[0;31mAttributeError\u001b[0m: 'tuple' object has no attribute 'insert'"
     ]
    }
   ],
   "source": [
    "tupla.insert(10,200)"
   ]
  },
  {
   "cell_type": "code",
   "execution_count": 53,
   "id": "prerequisite-shell",
   "metadata": {},
   "outputs": [
    {
     "ename": "AttributeError",
     "evalue": "'tuple' object has no attribute 'remove'",
     "output_type": "error",
     "traceback": [
      "\u001b[0;31m---------------------------------------------------------------------------\u001b[0m",
      "\u001b[0;31mAttributeError\u001b[0m                            Traceback (most recent call last)",
      "\u001b[0;32m<ipython-input-53-e7b8879cef2e>\u001b[0m in \u001b[0;36m<module>\u001b[0;34m\u001b[0m\n\u001b[0;32m----> 1\u001b[0;31m \u001b[0mtupla\u001b[0m\u001b[0;34m.\u001b[0m\u001b[0mremove\u001b[0m\u001b[0;34m(\u001b[0m\u001b[0;36m200\u001b[0m\u001b[0;34m)\u001b[0m\u001b[0;34m\u001b[0m\u001b[0;34m\u001b[0m\u001b[0m\n\u001b[0m",
      "\u001b[0;31mAttributeError\u001b[0m: 'tuple' object has no attribute 'remove'"
     ]
    }
   ],
   "source": [
    "tupla.remove(200)"
   ]
  },
  {
   "cell_type": "code",
   "execution_count": 54,
   "id": "occupational-swiss",
   "metadata": {},
   "outputs": [
    {
     "ename": "NameError",
     "evalue": "name 'lista' is not defined",
     "output_type": "error",
     "traceback": [
      "\u001b[0;31m---------------------------------------------------------------------------\u001b[0m",
      "\u001b[0;31mNameError\u001b[0m                                 Traceback (most recent call last)",
      "\u001b[0;32m<ipython-input-54-f7feeaebce6e>\u001b[0m in \u001b[0;36m<module>\u001b[0;34m\u001b[0m\n\u001b[0;32m----> 1\u001b[0;31m \u001b[0mlista\u001b[0m\u001b[0;34m.\u001b[0m\u001b[0mremove\u001b[0m\u001b[0;34m(\u001b[0m\u001b[0;36m2000\u001b[0m\u001b[0;34m)\u001b[0m\u001b[0;34m\u001b[0m\u001b[0;34m\u001b[0m\u001b[0m\n\u001b[0m\u001b[1;32m      2\u001b[0m \u001b[0mlista\u001b[0m\u001b[0;34m\u001b[0m\u001b[0;34m\u001b[0m\u001b[0m\n",
      "\u001b[0;31mNameError\u001b[0m: name 'lista' is not defined"
     ]
    }
   ],
   "source": [
    "lista.remove(2000)\n",
    "lista"
   ]
  },
  {
   "cell_type": "code",
   "execution_count": 55,
   "id": "affecting-insert",
   "metadata": {},
   "outputs": [
    {
     "data": {
      "text/plain": [
       "False"
      ]
     },
     "execution_count": 55,
     "metadata": {},
     "output_type": "execute_result"
    }
   ],
   "source": [
    "100 in tupla"
   ]
  },
  {
   "cell_type": "code",
   "execution_count": 56,
   "id": "pretty-southeast",
   "metadata": {},
   "outputs": [
    {
     "data": {
      "text/plain": [
       "False"
      ]
     },
     "execution_count": 56,
     "metadata": {},
     "output_type": "execute_result"
    }
   ],
   "source": [
    "1 in tupla"
   ]
  },
  {
   "cell_type": "code",
   "execution_count": null,
   "id": "controlled-glenn",
   "metadata": {},
   "outputs": [],
   "source": [
    "#funciona os slices\n",
    "tupla[:2]"
   ]
  },
  {
   "cell_type": "markdown",
   "id": "therapeutic-buying",
   "metadata": {},
   "source": [
    "## Tuplas de Tuplas"
   ]
  },
  {
   "cell_type": "code",
   "execution_count": 17,
   "id": "quiet-conditioning",
   "metadata": {},
   "outputs": [],
   "source": [
    "tupla2 = (\"1\",\"2\",\"3\")"
   ]
  },
  {
   "cell_type": "code",
   "execution_count": 20,
   "id": "qualified-chamber",
   "metadata": {},
   "outputs": [],
   "source": [
    "tupla3 = (\"1\",\"2\",\"3\",1,5,6)"
   ]
  },
  {
   "cell_type": "code",
   "execution_count": 21,
   "id": "electric-large",
   "metadata": {},
   "outputs": [],
   "source": [
    "tupla4 = ((\"1\",\"2\",\"3\"),(\"1\",\"2\",\"3\",1,5,6))"
   ]
  },
  {
   "cell_type": "code",
   "execution_count": 22,
   "id": "hearing-organizer",
   "metadata": {},
   "outputs": [
    {
     "data": {
      "text/plain": [
       "(('1', '2', '3'), ('1', '2', '3', 1, 5, 6))"
      ]
     },
     "execution_count": 22,
     "metadata": {},
     "output_type": "execute_result"
    }
   ],
   "source": [
    "tupla4"
   ]
  },
  {
   "cell_type": "markdown",
   "id": "classified-chile",
   "metadata": {},
   "source": [
    "## Funções built in"
   ]
  },
  {
   "cell_type": "code",
   "execution_count": 23,
   "id": "permanent-translator",
   "metadata": {},
   "outputs": [
    {
     "data": {
      "text/plain": [
       "120"
      ]
     },
     "execution_count": 23,
     "metadata": {},
     "output_type": "execute_result"
    }
   ],
   "source": [
    "max(tupla)"
   ]
  },
  {
   "cell_type": "code",
   "execution_count": 26,
   "id": "accomplished-chosen",
   "metadata": {},
   "outputs": [
    {
     "ename": "TypeError",
     "evalue": "'>' not supported between instances of 'int' and 'str'",
     "output_type": "error",
     "traceback": [
      "\u001b[0;31m---------------------------------------------------------------------------\u001b[0m",
      "\u001b[0;31mTypeError\u001b[0m                                 Traceback (most recent call last)",
      "\u001b[0;32m<ipython-input-26-70d3adf8624c>\u001b[0m in \u001b[0;36m<module>\u001b[0;34m\u001b[0m\n\u001b[1;32m      1\u001b[0m \u001b[0;31m#não funciona para string\u001b[0m\u001b[0;34m\u001b[0m\u001b[0;34m\u001b[0m\u001b[0;34m\u001b[0m\u001b[0m\n\u001b[0;32m----> 2\u001b[0;31m \u001b[0mmax\u001b[0m\u001b[0;34m(\u001b[0m\u001b[0mtupla2\u001b[0m\u001b[0;34m)\u001b[0m\u001b[0;34m\u001b[0m\u001b[0;34m\u001b[0m\u001b[0m\n\u001b[0m",
      "\u001b[0;31mTypeError\u001b[0m: '>' not supported between instances of 'int' and 'str'"
     ]
    }
   ],
   "source": [
    "#não funciona para string\n",
    "max(tupla2)"
   ]
  },
  {
   "cell_type": "code",
   "execution_count": 28,
   "id": "listed-flooring",
   "metadata": {},
   "outputs": [
    {
     "data": {
      "text/plain": [
       "(1, 2)"
      ]
     },
     "execution_count": 28,
     "metadata": {},
     "output_type": "execute_result"
    }
   ],
   "source": [
    "#funciona os slices\n",
    "tupla[:2]"
   ]
  },
  {
   "cell_type": "markdown",
   "id": "pacific-spyware",
   "metadata": {},
   "source": [
    "# Métodos das Tuplas"
   ]
  },
  {
   "cell_type": "code",
   "execution_count": 29,
   "id": "included-latter",
   "metadata": {},
   "outputs": [
    {
     "data": {
      "text/plain": [
       "(1, 2, 5, 3, 0, -2, -5, 1, 120)"
      ]
     },
     "execution_count": 29,
     "metadata": {},
     "output_type": "execute_result"
    }
   ],
   "source": [
    "tupla"
   ]
  },
  {
   "cell_type": "code",
   "execution_count": 30,
   "id": "academic-bangkok",
   "metadata": {},
   "outputs": [
    {
     "data": {
      "text/plain": [
       "2"
      ]
     },
     "execution_count": 30,
     "metadata": {},
     "output_type": "execute_result"
    }
   ],
   "source": [
    "tupla.count(1)"
   ]
  },
  {
   "cell_type": "code",
   "execution_count": 36,
   "id": "organic-recognition",
   "metadata": {},
   "outputs": [
    {
     "data": {
      "text/plain": [
       "4"
      ]
     },
     "execution_count": 36,
     "metadata": {},
     "output_type": "execute_result"
    }
   ],
   "source": [
    "tupla.index(0)"
   ]
  },
  {
   "cell_type": "markdown",
   "id": "entitled-begin",
   "metadata": {},
   "source": [
    "## Desafio"
   ]
  },
  {
   "cell_type": "markdown",
   "id": "closing-lemon",
   "metadata": {},
   "source": [
    "### Dada a tupla abaixo, transforme em string"
   ]
  },
  {
   "cell_type": "code",
   "execution_count": 38,
   "id": "dominant-fever",
   "metadata": {},
   "outputs": [],
   "source": [
    "palavra = (\"p\",\"y\",\"t\",\"h\",\"o\",\"n\")"
   ]
  },
  {
   "cell_type": "code",
   "execution_count": null,
   "id": "overhead-height",
   "metadata": {},
   "outputs": [],
   "source": []
  },
  {
   "cell_type": "code",
   "execution_count": null,
   "id": "painted-classic",
   "metadata": {},
   "outputs": [],
   "source": []
  },
  {
   "cell_type": "markdown",
   "id": "dried-notion",
   "metadata": {},
   "source": [
    "## Bora pratica mais?\n",
    "\n",
    "Sugestão: https://www.w3resource.com/python-exercises/tuple/"
   ]
  },
  {
   "cell_type": "code",
   "execution_count": null,
   "id": "nonprofit-doctrine",
   "metadata": {},
   "outputs": [],
   "source": []
  }
 ],
 "metadata": {
  "kernelspec": {
   "display_name": "Python 3",
   "language": "python",
   "name": "python3"
  },
  "language_info": {
   "codemirror_mode": {
    "name": "ipython",
    "version": 3
   },
   "file_extension": ".py",
   "mimetype": "text/x-python",
   "name": "python",
   "nbconvert_exporter": "python",
   "pygments_lexer": "ipython3",
   "version": "3.8.5"
  }
 },
 "nbformat": 4,
 "nbformat_minor": 5
}
