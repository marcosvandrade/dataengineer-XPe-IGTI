{
 "cells": [
  {
   "cell_type": "markdown",
   "id": "collect-upper",
   "metadata": {},
   "source": [
    "# Dicionários"
   ]
  },
  {
   "cell_type": "code",
   "execution_count": null,
   "id": "portuguese-seafood",
   "metadata": {},
   "outputs": [],
   "source": [
    "cardapio = {\"salada\": 20, \"suco\":5, \"sorvete\":10, \"refrigerente\":4}\n",
    "cardapio"
   ]
  },
  {
   "cell_type": "code",
   "execution_count": null,
   "id": "historical-addiction",
   "metadata": {},
   "outputs": [],
   "source": [
    "#verifica quais chaves existe\n",
    "cardapio.keys()"
   ]
  },
  {
   "cell_type": "code",
   "execution_count": null,
   "id": "loving-precipitation",
   "metadata": {},
   "outputs": [],
   "source": [
    "#acessa o valor pela chave\n",
    "cardapio[\"salada\"]"
   ]
  },
  {
   "cell_type": "code",
   "execution_count": null,
   "id": "determined-nature",
   "metadata": {},
   "outputs": [],
   "source": [
    "#altera o valor pela chave\n",
    "cardapio[\"salada\"] = 18\n",
    "cardapio"
   ]
  },
  {
   "cell_type": "code",
   "execution_count": null,
   "id": "specialized-consensus",
   "metadata": {},
   "outputs": [],
   "source": [
    "#mostra os valores\n",
    "cardapio.values()"
   ]
  },
  {
   "cell_type": "code",
   "execution_count": null,
   "id": "incoming-thumbnail",
   "metadata": {},
   "outputs": [],
   "source": [
    "#adiciona novo valor\n",
    "cardapio[\"chocolate\"] = 5\n",
    "cardapio"
   ]
  },
  {
   "cell_type": "markdown",
   "id": "distributed-amplifier",
   "metadata": {},
   "source": [
    "## Cria um dicionário vazio"
   ]
  },
  {
   "cell_type": "code",
   "execution_count": null,
   "id": "structural-questionnaire",
   "metadata": {},
   "outputs": [],
   "source": [
    "dic1 = {}"
   ]
  },
  {
   "cell_type": "code",
   "execution_count": null,
   "id": "smooth-thumb",
   "metadata": {},
   "outputs": [],
   "source": [
    "dic1[\"barbara\"] = 5"
   ]
  },
  {
   "cell_type": "code",
   "execution_count": null,
   "id": "solar-karen",
   "metadata": {},
   "outputs": [],
   "source": [
    "dic1[\"barbara\"] = 15"
   ]
  },
  {
   "cell_type": "code",
   "execution_count": null,
   "id": "indirect-revelation",
   "metadata": {},
   "outputs": [],
   "source": [
    "dic1[\"josé\"] = 5"
   ]
  },
  {
   "cell_type": "code",
   "execution_count": null,
   "id": "continent-student",
   "metadata": {},
   "outputs": [],
   "source": [
    "dic1"
   ]
  },
  {
   "cell_type": "code",
   "execution_count": null,
   "id": "established-retention",
   "metadata": {},
   "outputs": [],
   "source": [
    "dic2 = {}"
   ]
  },
  {
   "cell_type": "code",
   "execution_count": null,
   "id": "equivalent-confidentiality",
   "metadata": {},
   "outputs": [],
   "source": [
    "dic2[\"meses_ano\"] = \"janeiro\", \"fevereiro\", \"março\", \"abril\", \"maio\", \"junho\"\n"
   ]
  },
  {
   "cell_type": "code",
   "execution_count": null,
   "id": "numeric-bible",
   "metadata": {},
   "outputs": [],
   "source": [
    "dic2[\"dia_semana\"] = \"segunda\",\"terça\",\"quarta\",\"quinta\",\"sexta\",\"sabado\",\"domingo\""
   ]
  },
  {
   "cell_type": "code",
   "execution_count": null,
   "id": "twelve-banner",
   "metadata": {},
   "outputs": [],
   "source": [
    "dic2"
   ]
  },
  {
   "cell_type": "code",
   "execution_count": null,
   "id": "ignored-syria",
   "metadata": {},
   "outputs": [],
   "source": [
    "dic1 + dic2"
   ]
  },
  {
   "cell_type": "code",
   "execution_count": null,
   "id": "liable-italian",
   "metadata": {},
   "outputs": [],
   "source": []
  },
  {
   "cell_type": "markdown",
   "id": "parliamentary-editor",
   "metadata": {},
   "source": [
    "## Dicionário de Dicionário"
   ]
  },
  {
   "cell_type": "code",
   "execution_count": null,
   "id": "vietnamese-group",
   "metadata": {},
   "outputs": [],
   "source": [
    "dic3 = {}"
   ]
  },
  {
   "cell_type": "code",
   "execution_count": null,
   "id": "neural-summary",
   "metadata": {},
   "outputs": [],
   "source": [
    "dic3[\"meses_ano\"] = {}\n",
    "\n",
    "dic3[\"meses_ano\"][\"janeiro\"] = 1\n",
    "dic3[\"meses_ano\"][\"fevereiro\"] = 2\n",
    "dic3[\"meses_ano\"][\"março\"] = 3\n",
    "dic3[\"meses_ano\"][\"abril\"] = 4\n",
    "dic3[\"meses_ano\"][\"maio\"] = 5\n",
    "dic3[\"meses_ano\"][\"junho\"] = 6\n"
   ]
  },
  {
   "cell_type": "code",
   "execution_count": null,
   "id": "phantom-resistance",
   "metadata": {},
   "outputs": [],
   "source": [
    "dic3[\"meses_ano\"]"
   ]
  },
  {
   "cell_type": "code",
   "execution_count": null,
   "id": "successful-content",
   "metadata": {},
   "outputs": [],
   "source": []
  },
  {
   "cell_type": "markdown",
   "id": "dense-austria",
   "metadata": {},
   "source": [
    "## Métodos"
   ]
  },
  {
   "cell_type": "code",
   "execution_count": 9,
   "metadata": {},
   "outputs": [],
   "source": [
    "dict1 = {}"
   ]
  },
  {
   "cell_type": "code",
   "execution_count": 12,
   "metadata": {},
   "outputs": [
    {
     "name": "stdout",
     "output_type": "stream",
     "text": [
      "\u001b[1;31mDocstring:\u001b[0m\n",
      "D.pop(k[,d]) -> v, remove specified key and return the corresponding value.\n",
      "\n",
      "If the key is not found, return the default if given; otherwise,\n",
      "raise a KeyError.\n",
      "\u001b[1;31mType:\u001b[0m      builtin_function_or_method"
     ]
    }
   ],
   "source": [
    "dict1.pop?"
   ]
  },
  {
   "cell_type": "code",
   "execution_count": null,
   "id": "hazardous-puppy",
   "metadata": {},
   "outputs": [],
   "source": [
    "dic1.pop(\"barbara\")"
   ]
  },
  {
   "cell_type": "code",
   "execution_count": null,
   "id": "signed-arrest",
   "metadata": {},
   "outputs": [],
   "source": [
    "dic1.items()"
   ]
  },
  {
   "cell_type": "code",
   "execution_count": null,
   "id": "experienced-population",
   "metadata": {},
   "outputs": [],
   "source": [
    "dic1.get(\"josé\")"
   ]
  },
  {
   "cell_type": "markdown",
   "id": "italic-occasion",
   "metadata": {},
   "source": [
    "## Desafio"
   ]
  },
  {
   "cell_type": "markdown",
   "id": "gross-suggestion",
   "metadata": {},
   "source": [
    "### Ordene o Dicionário abaiexo pela chave. Depois ordene também pelos valores"
   ]
  },
  {
   "cell_type": "code",
   "execution_count": null,
   "id": "pleased-europe",
   "metadata": {},
   "outputs": [],
   "source": [
    "nomes = {\"Maria\":18,\n",
    "        \"José\":50,\n",
    "        \"Ana\":30,\n",
    "        \"Fernanda\":22}"
   ]
  },
  {
   "cell_type": "code",
   "execution_count": null,
   "id": "commercial-pastor",
   "metadata": {},
   "outputs": [],
   "source": [
    "dict(sorted(nomes.items()))"
   ]
  },
  {
   "cell_type": "code",
   "execution_count": null,
   "id": "patient-circuit",
   "metadata": {},
   "outputs": [],
   "source": [
    "sorted(nomes.items(), key=lambda x: x[1])"
   ]
  },
  {
   "cell_type": "markdown",
   "id": "romance-spelling",
   "metadata": {},
   "source": [
    "## Bora pratica mais?\n",
    "\n",
    "Sugestão: https://www.w3resource.com/python-exercises/dictionary/"
   ]
  },
  {
   "cell_type": "code",
   "execution_count": null,
   "id": "desirable-builder",
   "metadata": {},
   "outputs": [],
   "source": []
  }
 ],
 "metadata": {
  "kernelspec": {
   "display_name": "Python 3",
   "language": "python",
   "name": "python3"
  },
  "language_info": {
   "codemirror_mode": {
    "name": "ipython",
    "version": 3
   },
   "file_extension": ".py",
   "mimetype": "text/x-python",
   "name": "python",
   "nbconvert_exporter": "python",
   "pygments_lexer": "ipython3",
   "version": "3.10.13"
  }
 },
 "nbformat": 4,
 "nbformat_minor": 5
}
