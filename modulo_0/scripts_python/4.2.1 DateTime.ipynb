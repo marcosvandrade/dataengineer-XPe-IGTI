{
 "cells": [
  {
   "cell_type": "markdown",
   "id": "accessory-edmonton",
   "metadata": {},
   "source": [
    "# DateTime"
   ]
  },
  {
   "cell_type": "code",
   "execution_count": 21,
   "id": "local-retailer",
   "metadata": {},
   "outputs": [],
   "source": [
    "from datetime import date, timedelta\n",
    "import datetime"
   ]
  },
  {
   "cell_type": "code",
   "execution_count": 23,
   "id": "divine-texas",
   "metadata": {},
   "outputs": [
    {
     "name": "stdout",
     "output_type": "stream",
     "text": [
      "2022-07-30 17:57:17.266161\n"
     ]
    }
   ],
   "source": [
    "date_now = datetime.datetime.now()\n",
    "print(date_now)"
   ]
  },
  {
   "cell_type": "markdown",
   "id": "emotional-henry",
   "metadata": {},
   "source": [
    "## converte string para data"
   ]
  },
  {
   "cell_type": "code",
   "execution_count": 14,
   "id": "proprietary-dutch",
   "metadata": {},
   "outputs": [],
   "source": [
    "data_string = '18/12/21 12:55:19'"
   ]
  },
  {
   "cell_type": "code",
   "execution_count": 28,
   "id": "announced-stable",
   "metadata": {},
   "outputs": [
    {
     "data": {
      "text/plain": [
       "str"
      ]
     },
     "execution_count": 28,
     "metadata": {},
     "output_type": "execute_result"
    }
   ],
   "source": [
    "type(data_string)"
   ]
  },
  {
   "cell_type": "code",
   "execution_count": 25,
   "id": "touched-hello",
   "metadata": {},
   "outputs": [],
   "source": [
    "data_object = datetime.datetime.strptime(data_string, '%d/%m/%y %H:%M:%S')"
   ]
  },
  {
   "cell_type": "code",
   "execution_count": 26,
   "id": "southwest-society",
   "metadata": {},
   "outputs": [
    {
     "data": {
      "text/plain": [
       "datetime.datetime(2021, 12, 18, 12, 55, 19)"
      ]
     },
     "execution_count": 26,
     "metadata": {},
     "output_type": "execute_result"
    }
   ],
   "source": [
    "data_object"
   ]
  },
  {
   "cell_type": "code",
   "execution_count": 27,
   "id": "independent-hartford",
   "metadata": {},
   "outputs": [
    {
     "data": {
      "text/plain": [
       "datetime.datetime"
      ]
     },
     "execution_count": 27,
     "metadata": {},
     "output_type": "execute_result"
    }
   ],
   "source": [
    "type(data_object)"
   ]
  },
  {
   "cell_type": "markdown",
   "id": "abandoned-stack",
   "metadata": {},
   "source": [
    "## strftime()\n",
    "- O datetimeobjeto tem um método para formatar objetos de data em strings legíveis.\n",
    "- https://docs.python.org/3/library/datetime.html"
   ]
  },
  {
   "cell_type": "code",
   "execution_count": 2,
   "id": "interesting-furniture",
   "metadata": {},
   "outputs": [
    {
     "name": "stdout",
     "output_type": "stream",
     "text": [
      "2022\n",
      "Saturday\n"
     ]
    }
   ],
   "source": [
    "print(date_now.year)\n",
    "print(date_now.strftime(\"%A\"))"
   ]
  },
  {
   "cell_type": "code",
   "execution_count": 4,
   "id": "younger-louisiana",
   "metadata": {},
   "outputs": [
    {
     "name": "stdout",
     "output_type": "stream",
     "text": [
      "Mês como o nome completo da localidade: June\n",
      "Dia da Seman: Friday\n",
      "Dia da semana (0-domingo; 6-sábado:  5\n",
      "Número da semana do ano: 21\n"
     ]
    }
   ],
   "source": [
    "import datetime\n",
    "\n",
    "x = datetime.datetime(2018, 6, 1)\n",
    "\n",
    "print(\"Mês como o nome completo da localidade:\",x.strftime(\"%B\"))\n",
    "print(\"Dia da Seman:\", x.strftime(\"%A\"))\n",
    "print(\"Dia da semana (0-domingo; 6-sábado: \",x.strftime(\"%w\"))\n",
    "print(\"Número da semana do ano:\", x.strftime(\"%U\"))"
   ]
  },
  {
   "cell_type": "code",
   "execution_count": 6,
   "id": "honest-synthetic",
   "metadata": {},
   "outputs": [],
   "source": [
    "year = lambda x: x.year\n",
    "month = lambda x: x.month\n",
    "day = lambda x: x.day\n",
    "t = lambda x: x.time()"
   ]
  },
  {
   "cell_type": "code",
   "execution_count": 7,
   "id": "opened-jefferson",
   "metadata": {},
   "outputs": [],
   "source": [
    "data = datetime.datetime(2018,12,11)"
   ]
  },
  {
   "cell_type": "code",
   "execution_count": 9,
   "id": "thrown-tablet",
   "metadata": {},
   "outputs": [
    {
     "name": "stdout",
     "output_type": "stream",
     "text": [
      "2018\n",
      "12\n",
      "11\n",
      "00:00:00\n"
     ]
    }
   ],
   "source": [
    "print(year(data))\n",
    "print(month(data))\n",
    "print(day(data))\n",
    "print(t(data))"
   ]
  },
  {
   "cell_type": "markdown",
   "id": "subject-consultation",
   "metadata": {},
   "source": [
    "## time delta"
   ]
  },
  {
   "cell_type": "code",
   "execution_count": 12,
   "id": "extensive-context",
   "metadata": {},
   "outputs": [
    {
     "name": "stdout",
     "output_type": "stream",
     "text": [
      "Data Atual: 2022-07-30\n",
      "10 dias antes: 2022-07-20\n",
      "10 dias depois: 2022-08-09\n"
     ]
    }
   ],
   "source": [
    "dt_antes = date.today() - timedelta(10)\n",
    "dt_depois = date.today() + timedelta(10)\n",
    "print('Data Atual:',date.today())\n",
    "print('10 dias antes:',dt_antes)\n",
    "print('10 dias depois:',dt_depois)"
   ]
  },
  {
   "cell_type": "markdown",
   "id": "trained-quilt",
   "metadata": {},
   "source": [
    "# Bora praticar?"
   ]
  },
  {
   "cell_type": "markdown",
   "id": "proud-deadline",
   "metadata": {},
   "source": [
    "https://www.w3resource.com/python-exercises/date-time-exercise/index.php"
   ]
  },
  {
   "cell_type": "code",
   "execution_count": null,
   "id": "running-pregnancy",
   "metadata": {},
   "outputs": [],
   "source": []
  }
 ],
 "metadata": {
  "kernelspec": {
   "display_name": "Python 3",
   "language": "python",
   "name": "python3"
  },
  "language_info": {
   "codemirror_mode": {
    "name": "ipython",
    "version": 3
   },
   "file_extension": ".py",
   "mimetype": "text/x-python",
   "name": "python",
   "nbconvert_exporter": "python",
   "pygments_lexer": "ipython3",
   "version": "3.8.5"
  }
 },
 "nbformat": 4,
 "nbformat_minor": 5
}
