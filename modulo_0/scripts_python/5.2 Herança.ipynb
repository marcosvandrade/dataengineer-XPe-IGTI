{
 "cells": [
  {
   "cell_type": "code",
   "execution_count": 1,
   "id": "earned-pontiac",
   "metadata": {},
   "outputs": [],
   "source": [
    "class ContaBase():\n",
    "    def __init__(self, numero, titular, saldo):\n",
    "        self.numero = numero\n",
    "        self.titular = titular\n",
    "        self.saldo = saldo\n",
    "        \n",
    "    def deposita(self, valor):\n",
    "        self.saldo += valor\n",
    "\n",
    "    def saca(self, valor):\n",
    "        novo_saldo = self.saldo - valor\n",
    "        if novo_saldo < 0:\n",
    "            print(\"Saldo de {} insuficiente para sacar {}\".format(self.saldo, valor))\n",
    "        else:\n",
    "            self.saldo = novo_saldo\n",
    "\n",
    "    def extrato(self):\n",
    "        print(\"EXTRATO de {}:\\n\\tnumero: {} \\n\\tsaldo: {}\".format(self.titular, self.numero, self.saldo))"
   ]
  },
  {
   "cell_type": "code",
   "execution_count": 2,
   "id": "adaptive-verification",
   "metadata": {},
   "outputs": [
    {
     "name": "stdout",
     "output_type": "stream",
     "text": [
      "EXTRATO de Maria:\n",
      "\tnumero: 1 \n",
      "\tsaldo: 100\n",
      "EXTRATO de Maria:\n",
      "\tnumero: 1 \n",
      "\tsaldo: 50\n",
      "Saldo de 50 insuficiente para sacar 60\n",
      "EXTRATO de Maria:\n",
      "\tnumero: 1 \n",
      "\tsaldo: 50\n"
     ]
    }
   ],
   "source": [
    "conta1 = ContaBase('1', 'Maria', 100)\n",
    "conta1.extrato()\n",
    "conta1.saca(50)\n",
    "conta1.extrato()\n",
    "conta1.saca(60)\n",
    "conta1.extrato()"
   ]
  },
  {
   "cell_type": "markdown",
   "id": "beautiful-chinese",
   "metadata": {},
   "source": [
    "## Poupança"
   ]
  },
  {
   "cell_type": "code",
   "execution_count": 3,
   "id": "thorough-charm",
   "metadata": {},
   "outputs": [],
   "source": [
    "class ContaPoupanca(ContaBase):\n",
    "    def __init__(self, numero, titular, saldo, rendimento=0.01):\n",
    "        super().__init__(numero, titular, saldo)\n",
    "        self.rendimento = rendimento\n",
    "        \n",
    "    def render(self):\n",
    "        self.saldo += self.saldo * self.rendimento"
   ]
  },
  {
   "cell_type": "code",
   "execution_count": 4,
   "id": "honey-colors",
   "metadata": {},
   "outputs": [
    {
     "name": "stdout",
     "output_type": "stream",
     "text": [
      "EXTRATO de Maria:\n",
      "\tnumero: 2 \n",
      "\tsaldo: 100\n",
      "EXTRATO de Maria:\n",
      "\tnumero: 2 \n",
      "\tsaldo: 101.0\n",
      "EXTRATO de Maria:\n",
      "\tnumero: 2 \n",
      "\tsaldo: 253.51\n"
     ]
    }
   ],
   "source": [
    "conta_poup = ContaPoupanca('2', 'Maria', 100)\n",
    "conta_poup.extrato()\n",
    "conta_poup.render()\n",
    "conta_poup.extrato()\n",
    "conta_poup.deposita(150)\n",
    "conta_poup.render()\n",
    "conta_poup.extrato()"
   ]
  },
  {
   "cell_type": "markdown",
   "id": "secondary-envelope",
   "metadata": {},
   "source": [
    "## Salário"
   ]
  },
  {
   "cell_type": "code",
   "execution_count": 5,
   "id": "minor-ireland",
   "metadata": {},
   "outputs": [],
   "source": [
    "class ContaSalario(ContaBase):\n",
    "    def __init__(self, numero, titular, saldo, salario):\n",
    "        super().__init__(numero, titular, saldo)\n",
    "        self.salario = salario\n",
    "    \n",
    "    def receber(self):\n",
    "        self.deposita(self.salario)\n",
    "    \n",
    "    def novo_salario(self, novo_salario):\n",
    "        self.salario = novo_salario"
   ]
  },
  {
   "cell_type": "code",
   "execution_count": 6,
   "id": "agreed-demonstration",
   "metadata": {},
   "outputs": [
    {
     "name": "stdout",
     "output_type": "stream",
     "text": [
      "EXTRATO de Maria:\n",
      "\tnumero: 3 \n",
      "\tsaldo: 100\n",
      "EXTRATO de Maria:\n",
      "\tnumero: 3 \n",
      "\tsaldo: 1600\n",
      "EXTRATO de Maria:\n",
      "\tnumero: 3 \n",
      "\tsaldo: 2100\n"
     ]
    }
   ],
   "source": [
    "conta_sal = ContaSalario('3', 'Maria', 100, 1500)\n",
    "conta_sal.extrato()\n",
    "conta_sal.receber()\n",
    "conta_sal.extrato()\n",
    "conta_sal.saca(1500)\n",
    "conta_sal.novo_salario(2000)\n",
    "conta_sal.receber()\n",
    "conta_sal.extrato()"
   ]
  },
  {
   "cell_type": "markdown",
   "id": "adolescent-reproduction",
   "metadata": {},
   "source": [
    "## Corrente"
   ]
  },
  {
   "cell_type": "code",
   "execution_count": 7,
   "id": "reasonable-facial",
   "metadata": {},
   "outputs": [],
   "source": [
    "class ContaCorrente(ContaBase):\n",
    "    def __init__(self, numero, titular, saldo, limite):\n",
    "        super().__init__(numero, titular, saldo)\n",
    "        limite = 0 if limite < 0 else limite #impedindo limite negativo\n",
    "        self.limite = limite\n",
    "    \n",
    "    def saca(self, valor):\n",
    "        novo_saldo = self.saldo - valor\n",
    "        if novo_saldo + self.limite < 0:\n",
    "            print(\"Limite de {} insuficiente para saque de {}. Saldo atual: {}\"\\\n",
    "                 .format(self.limite + self.saldo, valor, self.saldo))\n",
    "        else:\n",
    "            self.saldo = novo_saldo\n",
    "    \n",
    "    def extrato(self):\n",
    "        print(\"EXTRATO de {}:\\n\\tnumero: {} \\n\\tsaldo: {}\\n\\tsaldo com limite: {}\"\\\n",
    "              .format(self.titular, self.numero, self.saldo, self.saldo+self.limite))\n",
    "    \n",
    "    def novo_limite(self, novo_limite):\n",
    "        if self.saldo + novo_limite < 0:\n",
    "            print(\"Saldo em conta ({}) menor que novo limite de {}\"\\\n",
    "                 .format(self.saldo, novo_limite))\n",
    "        else:\n",
    "            self.limite = novo_limite"
   ]
  },
  {
   "cell_type": "code",
   "execution_count": 8,
   "id": "tender-giving",
   "metadata": {},
   "outputs": [
    {
     "name": "stdout",
     "output_type": "stream",
     "text": [
      "EXTRATO de Maria:\n",
      "\tnumero: 4 \n",
      "\tsaldo: 500\n",
      "\tsaldo com limite: 800\n",
      "EXTRATO de Maria:\n",
      "\tnumero: 4 \n",
      "\tsaldo: -100\n",
      "\tsaldo com limite: 200\n",
      "Limite de 200 insuficiente para saque de 600. Saldo atual: -100\n",
      "Saldo em conta (-100) menor que novo limite de 50\n",
      "EXTRATO de Maria:\n",
      "\tnumero: 4 \n",
      "\tsaldo: -700\n",
      "\tsaldo com limite: 300\n"
     ]
    }
   ],
   "source": [
    "conta_corrente = ContaCorrente('4', 'Maria', 500, 300)\n",
    "conta_corrente.extrato()\n",
    "conta_corrente.saca(600)\n",
    "conta_corrente.extrato()\n",
    "conta_corrente.saca(600)\n",
    "conta_corrente.novo_limite(50)\n",
    "conta_corrente.novo_limite(1000)\n",
    "conta_corrente.saca(600)\n",
    "conta_corrente.extrato()"
   ]
  },
  {
   "cell_type": "code",
   "execution_count": null,
   "id": "referenced-ghana",
   "metadata": {},
   "outputs": [],
   "source": []
  }
 ],
 "metadata": {
  "kernelspec": {
   "display_name": "Python 3",
   "language": "python",
   "name": "python3"
  },
  "language_info": {
   "codemirror_mode": {
    "name": "ipython",
    "version": 3
   },
   "file_extension": ".py",
   "mimetype": "text/x-python",
   "name": "python",
   "nbconvert_exporter": "python",
   "pygments_lexer": "ipython3",
   "version": "3.8.5"
  }
 },
 "nbformat": 4,
 "nbformat_minor": 5
}
