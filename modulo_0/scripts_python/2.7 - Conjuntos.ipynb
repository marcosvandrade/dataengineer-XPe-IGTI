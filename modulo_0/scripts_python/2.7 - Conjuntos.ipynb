{
 "cells": [
  {
   "cell_type": "markdown",
   "id": "unusual-banks",
   "metadata": {},
   "source": [
    "# Conjunto"
   ]
  },
  {
   "cell_type": "code",
   "execution_count": 15,
   "id": "pregnant-fever",
   "metadata": {},
   "outputs": [],
   "source": [
    "conjunto1 = {\"ana\", \"maria\", \"josé\"}\n",
    "conjunto2 = {\"ana\", \"joão\", \"marta\"}"
   ]
  },
  {
   "cell_type": "code",
   "execution_count": 16,
   "id": "rotary-container",
   "metadata": {},
   "outputs": [
    {
     "data": {
      "text/plain": [
       "set"
      ]
     },
     "execution_count": 16,
     "metadata": {},
     "output_type": "execute_result"
    }
   ],
   "source": [
    "type(conjunto1)"
   ]
  },
  {
   "cell_type": "code",
   "execution_count": 17,
   "id": "stuck-implementation",
   "metadata": {},
   "outputs": [
    {
     "data": {
      "text/plain": [
       "{'ana'}"
      ]
     },
     "execution_count": 17,
     "metadata": {},
     "output_type": "execute_result"
    }
   ],
   "source": [
    "#interseção\n",
    "conjunto1.intersection(conjunto2)"
   ]
  },
  {
   "cell_type": "code",
   "execution_count": 18,
   "id": "meaningful-geneva",
   "metadata": {},
   "outputs": [
    {
     "data": {
      "text/plain": [
       "{'ana', 'josé', 'joão', 'maria', 'marta'}"
      ]
     },
     "execution_count": 18,
     "metadata": {},
     "output_type": "execute_result"
    }
   ],
   "source": [
    "#união\n",
    "conjunto1.union(conjunto2)"
   ]
  },
  {
   "cell_type": "code",
   "execution_count": 19,
   "id": "plain-reason",
   "metadata": {},
   "outputs": [
    {
     "data": {
      "text/plain": [
       "{'josé', 'maria'}"
      ]
     },
     "execution_count": 19,
     "metadata": {},
     "output_type": "execute_result"
    }
   ],
   "source": [
    "#diferença entre os conjuntos\n",
    "conjunto1 - conjunto2"
   ]
  },
  {
   "cell_type": "code",
   "execution_count": 6,
   "id": "incident-practitioner",
   "metadata": {},
   "outputs": [
    {
     "data": {
      "text/plain": [
       "{'josé', 'joão', 'maria', 'marta'}"
      ]
     },
     "execution_count": 6,
     "metadata": {},
     "output_type": "execute_result"
    }
   ],
   "source": [
    "#diferença simétrica\n",
    "## é o conjunto de elementos que estão em um dos conjuntos, e não em sua interseção.\n",
    "conjunto2 ^ conjunto1"
   ]
  },
  {
   "cell_type": "markdown",
   "id": "pressed-restoration",
   "metadata": {},
   "source": [
    "## Métodos do set"
   ]
  },
  {
   "cell_type": "code",
   "execution_count": 22,
   "id": "valuable-pattern",
   "metadata": {},
   "outputs": [
    {
     "data": {
      "text/plain": [
       "{'ana', 'barbara', 'josé', 'maria'}"
      ]
     },
     "execution_count": 22,
     "metadata": {},
     "output_type": "execute_result"
    }
   ],
   "source": [
    "conjunto1.add(\"barbara\")\n",
    "conjunto1"
   ]
  },
  {
   "cell_type": "code",
   "execution_count": 25,
   "id": "sunset-orlando",
   "metadata": {},
   "outputs": [
    {
     "data": {
      "text/plain": [
       "{'barbara', 'josé', 'maria'}"
      ]
     },
     "execution_count": 25,
     "metadata": {},
     "output_type": "execute_result"
    }
   ],
   "source": [
    "conjunto1.discard(\"ana\")\n",
    "conjunto1"
   ]
  },
  {
   "cell_type": "code",
   "execution_count": 27,
   "id": "homeless-candidate",
   "metadata": {},
   "outputs": [
    {
     "data": {
      "text/plain": [
       "False"
      ]
     },
     "execution_count": 27,
     "metadata": {},
     "output_type": "execute_result"
    }
   ],
   "source": [
    "conjunto1.issubset(conjunto2)"
   ]
  },
  {
   "cell_type": "code",
   "execution_count": 28,
   "id": "fatty-automation",
   "metadata": {},
   "outputs": [
    {
     "data": {
      "text/plain": [
       "False"
      ]
     },
     "execution_count": 28,
     "metadata": {},
     "output_type": "execute_result"
    }
   ],
   "source": [
    "conjunto1.issubset({\"maria\"})"
   ]
  },
  {
   "cell_type": "code",
   "execution_count": 29,
   "id": "numerous-raise",
   "metadata": {},
   "outputs": [
    {
     "data": {
      "text/plain": [
       "True"
      ]
     },
     "execution_count": 29,
     "metadata": {},
     "output_type": "execute_result"
    }
   ],
   "source": [
    "{\"maria\"}.issubset(conjunto1)"
   ]
  },
  {
   "cell_type": "code",
   "execution_count": 32,
   "id": "intellectual-money",
   "metadata": {},
   "outputs": [
    {
     "data": {
      "text/plain": [
       "'maria'"
      ]
     },
     "execution_count": 32,
     "metadata": {},
     "output_type": "execute_result"
    }
   ],
   "source": [
    "conjunto1.pop()\n"
   ]
  },
  {
   "cell_type": "code",
   "execution_count": 33,
   "id": "valuable-planet",
   "metadata": {},
   "outputs": [
    {
     "data": {
      "text/plain": [
       "{'barbara', 'josé'}"
      ]
     },
     "execution_count": 33,
     "metadata": {},
     "output_type": "execute_result"
    }
   ],
   "source": [
    "conjunto1"
   ]
  },
  {
   "cell_type": "code",
   "execution_count": 35,
   "id": "peaceful-phrase",
   "metadata": {},
   "outputs": [
    {
     "ename": "KeyError",
     "evalue": "'ana'",
     "output_type": "error",
     "traceback": [
      "\u001b[0;31m---------------------------------------------------------------------------\u001b[0m",
      "\u001b[0;31mKeyError\u001b[0m                                  Traceback (most recent call last)",
      "\u001b[0;32m<ipython-input-35-98941848d774>\u001b[0m in \u001b[0;36m<module>\u001b[0;34m\u001b[0m\n\u001b[0;32m----> 1\u001b[0;31m \u001b[0mconjunto1\u001b[0m\u001b[0;34m.\u001b[0m\u001b[0mremove\u001b[0m\u001b[0;34m(\u001b[0m\u001b[0;34m\"ana\"\u001b[0m\u001b[0;34m)\u001b[0m\u001b[0;34m\u001b[0m\u001b[0;34m\u001b[0m\u001b[0m\n\u001b[0m",
      "\u001b[0;31mKeyError\u001b[0m: 'ana'"
     ]
    }
   ],
   "source": [
    "conjunto1.remove(\"ana\")"
   ]
  },
  {
   "cell_type": "code",
   "execution_count": 36,
   "id": "ahead-hungary",
   "metadata": {},
   "outputs": [],
   "source": [
    "conjunto1.remove(\"josé\")"
   ]
  },
  {
   "cell_type": "code",
   "execution_count": 37,
   "id": "official-satin",
   "metadata": {},
   "outputs": [
    {
     "data": {
      "text/plain": [
       "{'barbara'}"
      ]
     },
     "execution_count": 37,
     "metadata": {},
     "output_type": "execute_result"
    }
   ],
   "source": [
    "conjunto1"
   ]
  },
  {
   "cell_type": "markdown",
   "id": "premier-harmony",
   "metadata": {},
   "source": [
    "## Desafio"
   ]
  },
  {
   "cell_type": "markdown",
   "id": "naked-stewart",
   "metadata": {},
   "source": [
    "### Remova os elementos duplicados da lista abaixo"
   ]
  },
  {
   "cell_type": "code",
   "execution_count": 2,
   "id": "hybrid-harassment",
   "metadata": {},
   "outputs": [],
   "source": [
    "duplicates = [2, 6, 1, 5, 7, 3, 0, 8, 4, 9,9, 10, 1, 0, 11, 4, 3, 7, 6, 5]"
   ]
  },
  {
   "cell_type": "markdown",
   "id": "wanted-spirituality",
   "metadata": {},
   "source": [
    "## Bora pratica mais?\n",
    "\n",
    "Sugestão: https://www.w3resource.com/python-exercises/sets/"
   ]
  },
  {
   "cell_type": "code",
   "execution_count": 7,
   "id": "continental-aruba",
   "metadata": {},
   "outputs": [
    {
     "data": {
      "text/plain": [
       "{0, 1, 2, 3, 4, 5, 6, 7, 8, 9, 10, 11}"
      ]
     },
     "execution_count": 7,
     "metadata": {},
     "output_type": "execute_result"
    }
   ],
   "source": [
    "set(duplicates)"
   ]
  }
 ],
 "metadata": {
  "kernelspec": {
   "display_name": "Python 3",
   "language": "python",
   "name": "python3"
  },
  "language_info": {
   "codemirror_mode": {
    "name": "ipython",
    "version": 3
   },
   "file_extension": ".py",
   "mimetype": "text/x-python",
   "name": "python",
   "nbconvert_exporter": "python",
   "pygments_lexer": "ipython3",
   "version": "3.10.13"
  }
 },
 "nbformat": 4,
 "nbformat_minor": 5
}
