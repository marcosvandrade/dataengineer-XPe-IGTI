{
 "cells": [
  {
   "cell_type": "markdown",
   "id": "bearing-panic",
   "metadata": {},
   "source": [
    "# Operadores"
   ]
  },
  {
   "cell_type": "markdown",
   "id": "intense-mailing",
   "metadata": {},
   "source": [
    "## Aritméticos"
   ]
  },
  {
   "cell_type": "code",
   "execution_count": 2,
   "id": "proper-involvement",
   "metadata": {},
   "outputs": [
    {
     "data": {
      "text/plain": [
       "9"
      ]
     },
     "execution_count": 2,
     "metadata": {},
     "output_type": "execute_result"
    }
   ],
   "source": [
    "#soma\n",
    "3+6"
   ]
  },
  {
   "cell_type": "code",
   "execution_count": 3,
   "id": "tamil-forum",
   "metadata": {},
   "outputs": [
    {
     "data": {
      "text/plain": [
       "-1"
      ]
     },
     "execution_count": 3,
     "metadata": {},
     "output_type": "execute_result"
    }
   ],
   "source": [
    "#subtração\n",
    "4-5"
   ]
  },
  {
   "cell_type": "code",
   "execution_count": 5,
   "id": "blond-medicaid",
   "metadata": {},
   "outputs": [
    {
     "data": {
      "text/plain": [
       "24"
      ]
     },
     "execution_count": 5,
     "metadata": {},
     "output_type": "execute_result"
    }
   ],
   "source": [
    "#multiplicação\n",
    "4*6"
   ]
  },
  {
   "cell_type": "code",
   "execution_count": 6,
   "id": "rough-fishing",
   "metadata": {},
   "outputs": [
    {
     "data": {
      "text/plain": [
       "0.6666666666666666"
      ]
     },
     "execution_count": 6,
     "metadata": {},
     "output_type": "execute_result"
    }
   ],
   "source": [
    "#divisão\n",
    "4/6"
   ]
  },
  {
   "cell_type": "code",
   "execution_count": 7,
   "id": "inside-ambassador",
   "metadata": {},
   "outputs": [
    {
     "data": {
      "text/plain": [
       "0"
      ]
     },
     "execution_count": 7,
     "metadata": {},
     "output_type": "execute_result"
    }
   ],
   "source": [
    "#divisão inteira\n",
    "4//6"
   ]
  },
  {
   "cell_type": "code",
   "execution_count": 8,
   "id": "creative-stadium",
   "metadata": {},
   "outputs": [
    {
     "data": {
      "text/plain": [
       "4"
      ]
     },
     "execution_count": 8,
     "metadata": {},
     "output_type": "execute_result"
    }
   ],
   "source": [
    "#resto da divisão\n",
    "4%6"
   ]
  },
  {
   "cell_type": "code",
   "execution_count": 9,
   "id": "published-recovery",
   "metadata": {},
   "outputs": [
    {
     "data": {
      "text/plain": [
       "16"
      ]
     },
     "execution_count": 9,
     "metadata": {},
     "output_type": "execute_result"
    }
   ],
   "source": [
    "#potência\n",
    "4**2"
   ]
  },
  {
   "cell_type": "markdown",
   "id": "fifteen-opening",
   "metadata": {},
   "source": [
    "## Lógica"
   ]
  },
  {
   "cell_type": "code",
   "execution_count": 13,
   "id": "threaded-sellers",
   "metadata": {},
   "outputs": [
    {
     "name": "stdout",
     "output_type": "stream",
     "text": [
      "True\n",
      "False\n",
      "False\n",
      "False\n"
     ]
    }
   ],
   "source": [
    "# and &\n",
    "print(True & True)\n",
    "print(True & False)\n",
    "print(False & True)\n",
    "print(False & False)"
   ]
  },
  {
   "cell_type": "code",
   "execution_count": 14,
   "id": "opposed-compilation",
   "metadata": {},
   "outputs": [
    {
     "name": "stdout",
     "output_type": "stream",
     "text": [
      "True\n",
      "True\n",
      "True\n",
      "False\n"
     ]
    }
   ],
   "source": [
    "# or |\n",
    "print(True | True)\n",
    "print(True | False)\n",
    "print(False | True)\n",
    "print(False | False)"
   ]
  },
  {
   "cell_type": "code",
   "execution_count": 11,
   "id": "committed-celebration",
   "metadata": {},
   "outputs": [
    {
     "data": {
      "text/plain": [
       "True"
      ]
     },
     "execution_count": 11,
     "metadata": {},
     "output_type": "execute_result"
    }
   ],
   "source": [
    "# ==\n",
    "2 == 2"
   ]
  },
  {
   "cell_type": "code",
   "execution_count": 17,
   "id": "developed-opinion",
   "metadata": {},
   "outputs": [
    {
     "data": {
      "text/plain": [
       "False"
      ]
     },
     "execution_count": 17,
     "metadata": {},
     "output_type": "execute_result"
    }
   ],
   "source": [
    "# ==\n",
    "2 == 3"
   ]
  },
  {
   "cell_type": "code",
   "execution_count": 19,
   "id": "occupied-massachusetts",
   "metadata": {},
   "outputs": [
    {
     "data": {
      "text/plain": [
       "False"
      ]
     },
     "execution_count": 19,
     "metadata": {},
     "output_type": "execute_result"
    }
   ],
   "source": [
    "# !=\n",
    "2 != 2"
   ]
  },
  {
   "cell_type": "code",
   "execution_count": 16,
   "id": "weird-smell",
   "metadata": {},
   "outputs": [
    {
     "data": {
      "text/plain": [
       "True"
      ]
     },
     "execution_count": 16,
     "metadata": {},
     "output_type": "execute_result"
    }
   ],
   "source": [
    "# !=\n",
    "2 != 3"
   ]
  },
  {
   "cell_type": "code",
   "execution_count": 20,
   "id": "circular-infrastructure",
   "metadata": {},
   "outputs": [
    {
     "data": {
      "text/plain": [
       "True"
      ]
     },
     "execution_count": 20,
     "metadata": {},
     "output_type": "execute_result"
    }
   ],
   "source": [
    "#<= <\n",
    "2<=5"
   ]
  },
  {
   "cell_type": "code",
   "execution_count": 22,
   "id": "ancient-oracle",
   "metadata": {},
   "outputs": [
    {
     "data": {
      "text/plain": [
       "False"
      ]
     },
     "execution_count": 22,
     "metadata": {},
     "output_type": "execute_result"
    }
   ],
   "source": [
    "#>= >\n",
    "2>=5"
   ]
  },
  {
   "cell_type": "code",
   "execution_count": 26,
   "id": "built-mining",
   "metadata": {},
   "outputs": [
    {
     "data": {
      "text/plain": [
       "True"
      ]
     },
     "execution_count": 26,
     "metadata": {},
     "output_type": "execute_result"
    }
   ],
   "source": [
    "#Verifica se os objetos são os mesmos\n",
    "float is float"
   ]
  },
  {
   "cell_type": "code",
   "execution_count": 27,
   "id": "amended-study",
   "metadata": {},
   "outputs": [
    {
     "data": {
      "text/plain": [
       "False"
      ]
     },
     "execution_count": 27,
     "metadata": {},
     "output_type": "execute_result"
    }
   ],
   "source": [
    "#Verifica se os objetos são os mesmos\n",
    "float is int"
   ]
  },
  {
   "cell_type": "code",
   "execution_count": 28,
   "id": "lonely-career",
   "metadata": {},
   "outputs": [
    {
     "data": {
      "text/plain": [
       "True"
      ]
     },
     "execution_count": 28,
     "metadata": {},
     "output_type": "execute_result"
    }
   ],
   "source": [
    "#Verifica se os objetos são os mesmos\n",
    "float is not int"
   ]
  },
  {
   "cell_type": "code",
   "execution_count": 1,
   "id": "printable-underground",
   "metadata": {},
   "outputs": [
    {
     "name": "stderr",
     "output_type": "stream",
     "text": [
      "<>:1: SyntaxWarning: \"is\" with a literal. Did you mean \"==\"?\n",
      "<>:1: SyntaxWarning: \"is\" with a literal. Did you mean \"==\"?\n",
      "<ipython-input-1-a9d9de3545cc>:1: SyntaxWarning: \"is\" with a literal. Did you mean \"==\"?\n",
      "  \"5\" is 5\n"
     ]
    },
    {
     "data": {
      "text/plain": [
       "False"
      ]
     },
     "execution_count": 1,
     "metadata": {},
     "output_type": "execute_result"
    }
   ],
   "source": [
    "\"5\" is 5"
   ]
  },
  {
   "cell_type": "markdown",
   "id": "alone-majority",
   "metadata": {},
   "source": [
    "## Ordem dos operadores\n",
    "\n",
    "- Parênteses\n",
    "- Exponenciação \n",
    "- Multiplicação e Divisão\n",
    "- Adição e Subtração\n"
   ]
  },
  {
   "cell_type": "code",
   "execution_count": 29,
   "id": "modified-thanksgiving",
   "metadata": {},
   "outputs": [
    {
     "data": {
      "text/plain": [
       "3.333333333333333"
      ]
     },
     "execution_count": 29,
     "metadata": {},
     "output_type": "execute_result"
    }
   ],
   "source": [
    "1+2/3*5-6+10//2"
   ]
  },
  {
   "cell_type": "code",
   "execution_count": 30,
   "id": "mounted-boulder",
   "metadata": {},
   "outputs": [
    {
     "data": {
      "text/plain": [
       "4.0"
      ]
     },
     "execution_count": 30,
     "metadata": {},
     "output_type": "execute_result"
    }
   ],
   "source": [
    "(1+2)/3*5-6+10//2"
   ]
  },
  {
   "cell_type": "code",
   "execution_count": 34,
   "id": "contemporary-sustainability",
   "metadata": {},
   "outputs": [
    {
     "data": {
      "text/plain": [
       "3.6666666666666665"
      ]
     },
     "execution_count": 34,
     "metadata": {},
     "output_type": "execute_result"
    }
   ],
   "source": [
    "1+2/3*(5-6+10//2)"
   ]
  },
  {
   "cell_type": "code",
   "execution_count": 35,
   "id": "nervous-branch",
   "metadata": {},
   "outputs": [
    {
     "data": {
      "text/plain": [
       "7.333333333333332"
      ]
     },
     "execution_count": 35,
     "metadata": {},
     "output_type": "execute_result"
    }
   ],
   "source": [
    "(1+2/3)*5-6+10//2"
   ]
  },
  {
   "cell_type": "code",
   "execution_count": null,
   "id": "elegant-casino",
   "metadata": {},
   "outputs": [],
   "source": []
  }
 ],
 "metadata": {
  "kernelspec": {
   "display_name": "Python 3",
   "language": "python",
   "name": "python3"
  },
  "language_info": {
   "codemirror_mode": {
    "name": "ipython",
    "version": 3
   },
   "file_extension": ".py",
   "mimetype": "text/x-python",
   "name": "python",
   "nbconvert_exporter": "python",
   "pygments_lexer": "ipython3",
   "version": "3.8.5"
  }
 },
 "nbformat": 4,
 "nbformat_minor": 5
}
