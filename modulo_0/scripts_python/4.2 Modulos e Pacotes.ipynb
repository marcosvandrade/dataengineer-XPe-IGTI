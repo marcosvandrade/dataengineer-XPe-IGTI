{
 "cells": [
  {
   "cell_type": "markdown",
   "id": "willing-guard",
   "metadata": {},
   "source": [
    "# 0. Mostrar Jupyter"
   ]
  },
  {
   "cell_type": "code",
   "execution_count": 9,
   "id": "august-airport",
   "metadata": {},
   "outputs": [],
   "source": [
    "import sys\n",
    "sys.path.append(\"modulo/\")"
   ]
  },
  {
   "cell_type": "code",
   "execution_count": 10,
   "id": "returning-omaha",
   "metadata": {},
   "outputs": [],
   "source": [
    "import modulo as m"
   ]
  },
  {
   "cell_type": "code",
   "execution_count": 11,
   "id": "duplicate-index",
   "metadata": {},
   "outputs": [
    {
     "name": "stdout",
     "output_type": "stream",
     "text": [
      "Exemplo módulo\n",
      "teste\n"
     ]
    }
   ],
   "source": [
    "m.funcao(\"teste\")"
   ]
  },
  {
   "cell_type": "markdown",
   "id": "obvious-nursery",
   "metadata": {},
   "source": [
    "# 1. Módulos no VS code"
   ]
  },
  {
   "cell_type": "markdown",
   "id": "stunning-geometry",
   "metadata": {},
   "source": [
    "# 2. Criar um ambiente virtual"
   ]
  },
  {
   "cell_type": "markdown",
   "id": "grateful-chile",
   "metadata": {},
   "source": [
    "- conda create -n modulo python==3.9"
   ]
  },
  {
   "cell_type": "markdown",
   "id": "thorough-revolution",
   "metadata": {},
   "source": [
    "# 3. Instalar pacotes \n",
    "\n",
    "- https://pypi.org/project/pandas/\n",
    "- pip install pandas\n",
    "- pip install unidecode\n"
   ]
  },
  {
   "cell_type": "markdown",
   "id": "saved-consent",
   "metadata": {},
   "source": [
    "# 4. Mostrar conteudo do pacote no ambiente virtual\n",
    "- ambiente virtual > lib > python > site packages\n",
    "- mostrar __init__.py\n"
   ]
  },
  {
   "cell_type": "markdown",
   "id": "chemical-homeless",
   "metadata": {},
   "source": [
    "# Bora praticar?\n",
    "\n",
    "https://www.w3resource.com/python-exercises/modules/index.php"
   ]
  },
  {
   "cell_type": "code",
   "execution_count": null,
   "id": "democratic-pressing",
   "metadata": {},
   "outputs": [],
   "source": []
  }
 ],
 "metadata": {
  "kernelspec": {
   "display_name": "Python 3",
   "language": "python",
   "name": "python3"
  },
  "language_info": {
   "codemirror_mode": {
    "name": "ipython",
    "version": 3
   },
   "file_extension": ".py",
   "mimetype": "text/x-python",
   "name": "python",
   "nbconvert_exporter": "python",
   "pygments_lexer": "ipython3",
   "version": "3.8.5"
  }
 },
 "nbformat": 4,
 "nbformat_minor": 5
}
