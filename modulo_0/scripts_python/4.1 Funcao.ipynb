{
 "cells": [
  {
   "cell_type": "markdown",
   "id": "sticky-stability",
   "metadata": {},
   "source": [
    "# Fuções"
   ]
  },
  {
   "cell_type": "code",
   "execution_count": null,
   "id": "ethical-calculation",
   "metadata": {},
   "outputs": [],
   "source": [
    "def imc(peso, altura):\n",
    "    imc = round(peso / altura**2,2)\n",
    "    print(\"Seu IMC é\",imc)"
   ]
  },
  {
   "cell_type": "code",
   "execution_count": null,
   "id": "eight-cooper",
   "metadata": {
    "scrolled": true
   },
   "outputs": [],
   "source": [
    "imc"
   ]
  },
  {
   "cell_type": "code",
   "execution_count": null,
   "id": "piano-andorra",
   "metadata": {},
   "outputs": [],
   "source": [
    "#chamando a função IMC para diferentes valores\n",
    "imc(60,1.7)\n",
    "imc(75,1.7)\n",
    "imc(90,1.75)"
   ]
  },
  {
   "cell_type": "code",
   "execution_count": 1,
   "id": "large-apartment",
   "metadata": {},
   "outputs": [],
   "source": [
    "def imc_return(peso, altura):\n",
    "    imc = round(peso / altura**2,2)\n",
    "    return imc"
   ]
  },
  {
   "cell_type": "code",
   "execution_count": null,
   "id": "hawaiian-aviation",
   "metadata": {},
   "outputs": [],
   "source": [
    "imc_return"
   ]
  },
  {
   "cell_type": "code",
   "execution_count": 8,
   "id": "found-soccer",
   "metadata": {},
   "outputs": [
    {
     "name": "stdout",
     "output_type": "stream",
     "text": [
      "Seu IMC é 29.76\n"
     ]
    }
   ],
   "source": [
    "#agora a função retorna o valor do IMC\n",
    "print(\"Seu IMC é\",imc_return(86,1.70))"
   ]
  },
  {
   "cell_type": "markdown",
   "id": "revised-aside",
   "metadata": {},
   "source": [
    "## Parâemtros"
   ]
  },
  {
   "cell_type": "markdown",
   "id": "stupid-violation",
   "metadata": {},
   "source": [
    "### args"
   ]
  },
  {
   "cell_type": "code",
   "execution_count": null,
   "id": "transsexual-threat",
   "metadata": {},
   "outputs": [],
   "source": [
    "def teste(arg, *args):\n",
    "    print('primeiro argumento normal:', arg)\n",
    "    print('segundo  argumento mágico:', args)"
   ]
  },
  {
   "cell_type": "code",
   "execution_count": null,
   "id": "planned-clothing",
   "metadata": {},
   "outputs": [],
   "source": [
    "#posso não passar algo pro *args\n",
    "teste(\"param_normal\")"
   ]
  },
  {
   "cell_type": "code",
   "execution_count": null,
   "id": "tired-daughter",
   "metadata": {},
   "outputs": [],
   "source": [
    "#posso passar um parâmetro para o *args\n",
    "teste(\"param_normal\", \"param_magico_1\")"
   ]
  },
  {
   "cell_type": "code",
   "execution_count": null,
   "id": "colonial-desperate",
   "metadata": {},
   "outputs": [],
   "source": [
    "#posso passar quantos parâmetros eu quiser\n",
    "teste(\"param_normal\", \"param_magico_1\",\"param_magico_2\",\"param_magico_3\", \"quantos_params_quiser\")"
   ]
  },
  {
   "cell_type": "markdown",
   "id": "systematic-military",
   "metadata": {},
   "source": [
    "### kwargs"
   ]
  },
  {
   "cell_type": "code",
   "execution_count": null,
   "id": "civil-manhattan",
   "metadata": {},
   "outputs": [],
   "source": [
    "def teste(arg, **kwargs):\n",
    "    print('primeiro argumento normal:', arg)\n",
    "    print('segundo  argumento mágico:', kwargs)"
   ]
  },
  {
   "cell_type": "code",
   "execution_count": null,
   "id": "accompanied-mongolia",
   "metadata": {},
   "outputs": [],
   "source": [
    "#posso não passar algo pro **kwargs\n",
    "teste(\"param_normal\")"
   ]
  },
  {
   "cell_type": "code",
   "execution_count": null,
   "id": "amazing-finance",
   "metadata": {},
   "outputs": [],
   "source": [
    "#posso passar um parâmetro para o **kwargs\n",
    "teste(\"param_normal\", param=\"param_1\")"
   ]
  },
  {
   "cell_type": "code",
   "execution_count": null,
   "id": "magnetic-channel",
   "metadata": {},
   "outputs": [],
   "source": [
    "#se eu não passo o nome da chave, ocorre erro\n",
    "teste(\"param_normal\", \"param_1\")"
   ]
  },
  {
   "cell_type": "code",
   "execution_count": null,
   "id": "hybrid-vertex",
   "metadata": {},
   "outputs": [],
   "source": [
    "#posso passar vários parâmetros pro **kwargs\n",
    "teste(\"param_normal\", param=\"param_magico_1\", param2=\"param_magico_2\", outro_valor=\"oi\")"
   ]
  },
  {
   "cell_type": "markdown",
   "id": "alternative-abortion",
   "metadata": {},
   "source": [
    "## Lambda"
   ]
  },
  {
   "cell_type": "code",
   "execution_count": null,
   "id": "exceptional-emperor",
   "metadata": {},
   "outputs": [],
   "source": [
    "func = lambda x : x + 10"
   ]
  },
  {
   "cell_type": "code",
   "execution_count": null,
   "id": "productive-ribbon",
   "metadata": {},
   "outputs": [],
   "source": [
    "func(5)"
   ]
  },
  {
   "cell_type": "code",
   "execution_count": null,
   "id": "narrative-purpose",
   "metadata": {},
   "outputs": [],
   "source": [
    "nomes = {\"Maria\":18,\n",
    "        \"José\":50,\n",
    "        \"Ana\":30,\n",
    "        \"Fernanda\":22}"
   ]
  },
  {
   "cell_type": "code",
   "execution_count": null,
   "id": "answering-cemetery",
   "metadata": {},
   "outputs": [],
   "source": [
    "sorted(nomes.items(), key=lambda x:x[1])"
   ]
  },
  {
   "cell_type": "code",
   "execution_count": null,
   "id": "standard-attitude",
   "metadata": {},
   "outputs": [],
   "source": [
    "inverte = lambda s: s[::-1]"
   ]
  },
  {
   "cell_type": "code",
   "execution_count": null,
   "id": "pretty-tennis",
   "metadata": {},
   "outputs": [],
   "source": [
    "inverte([1,2,3])"
   ]
  },
  {
   "cell_type": "code",
   "execution_count": null,
   "id": "dramatic-container",
   "metadata": {},
   "outputs": [],
   "source": [
    "inverte(\"barbara\")"
   ]
  },
  {
   "cell_type": "markdown",
   "id": "hundred-relaxation",
   "metadata": {},
   "source": [
    "## Funções built in\n",
    "\n",
    "https://docs.python.org/3/library/functions.html"
   ]
  },
  {
   "cell_type": "markdown",
   "id": "banner-miniature",
   "metadata": {},
   "source": [
    "# Bora praticar?\n",
    "\n",
    "- https://www.w3resource.com/python-exercises/python-functions-exercises.php\n",
    "- https://www.w3resource.com/python-exercises/lambda/index.php"
   ]
  },
  {
   "cell_type": "code",
   "execution_count": null,
   "id": "funky-bulgaria",
   "metadata": {},
   "outputs": [],
   "source": []
  }
 ],
 "metadata": {
  "kernelspec": {
   "display_name": "Python 3",
   "language": "python",
   "name": "python3"
  },
  "language_info": {
   "codemirror_mode": {
    "name": "ipython",
    "version": 3
   },
   "file_extension": ".py",
   "mimetype": "text/x-python",
   "name": "python",
   "nbconvert_exporter": "python",
   "pygments_lexer": "ipython3",
   "version": "3.10.13"
  }
 },
 "nbformat": 4,
 "nbformat_minor": 5
}
