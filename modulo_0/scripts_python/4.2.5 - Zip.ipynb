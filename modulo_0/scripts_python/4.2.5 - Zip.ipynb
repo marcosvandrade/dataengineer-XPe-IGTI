{
 "cells": [
  {
   "cell_type": "markdown",
   "id": "amino-hanging",
   "metadata": {},
   "source": [
    "# Zip"
   ]
  },
  {
   "cell_type": "code",
   "execution_count": 1,
   "id": "renewable-lawsuit",
   "metadata": {},
   "outputs": [],
   "source": [
    "#definimos uma lista\n",
    "lista1 = [\"a\",\"b\",\"c\"]\n",
    "lista2 = [1,2,3]"
   ]
  },
  {
   "cell_type": "code",
   "execution_count": 2,
   "id": "linear-morgan",
   "metadata": {},
   "outputs": [
    {
     "data": {
      "text/plain": [
       "<zip at 0x7f31f436bc00>"
      ]
     },
     "execution_count": 2,
     "metadata": {},
     "output_type": "execute_result"
    }
   ],
   "source": [
    "#retorna um iterador do tipo zip\n",
    "zip(lista1,lista2)"
   ]
  },
  {
   "cell_type": "code",
   "execution_count": 3,
   "id": "received-dining",
   "metadata": {},
   "outputs": [
    {
     "data": {
      "text/plain": [
       "[('a', 1), ('b', 2), ('c', 3)]"
      ]
     },
     "execution_count": 3,
     "metadata": {},
     "output_type": "execute_result"
    }
   ],
   "source": [
    "#para visualizar o resultado, transformamos em uma lista\n",
    "list(zip(lista1,lista2))"
   ]
  },
  {
   "cell_type": "code",
   "execution_count": 4,
   "id": "experienced-american",
   "metadata": {},
   "outputs": [],
   "source": [
    "#podemos ter várias listas e de tamanhos diferentes\n",
    "lista3 = [\"e\",\"f\",\"g\",\"h\"]"
   ]
  },
  {
   "cell_type": "code",
   "execution_count": 5,
   "id": "spare-standing",
   "metadata": {},
   "outputs": [
    {
     "data": {
      "text/plain": [
       "[('a', 1, 'e'), ('b', 2, 'f'), ('c', 3, 'g')]"
      ]
     },
     "execution_count": 5,
     "metadata": {},
     "output_type": "execute_result"
    }
   ],
   "source": [
    "list(zip(lista1,lista2,lista3))"
   ]
  },
  {
   "cell_type": "code",
   "execution_count": 6,
   "id": "located-constitution",
   "metadata": {},
   "outputs": [
    {
     "data": {
      "text/plain": [
       "[('a', 1, 'e', 'z'), ('b', 2, 'f', 'x')]"
      ]
     },
     "execution_count": 6,
     "metadata": {},
     "output_type": "execute_result"
    }
   ],
   "source": [
    "#podemos ter várias listas e de tamanhos diferentes\n",
    "#vai prevalecer a combinação da lista de menor tamanho\n",
    "lista4 = [\"z\",\"x\"]\n",
    "list(zip(lista1,lista2,lista3,lista4))"
   ]
  },
  {
   "cell_type": "code",
   "execution_count": null,
   "id": "consistent-criterion",
   "metadata": {},
   "outputs": [],
   "source": []
  }
 ],
 "metadata": {
  "kernelspec": {
   "display_name": "Python 3",
   "language": "python",
   "name": "python3"
  },
  "language_info": {
   "codemirror_mode": {
    "name": "ipython",
    "version": 3
   },
   "file_extension": ".py",
   "mimetype": "text/x-python",
   "name": "python",
   "nbconvert_exporter": "python",
   "pygments_lexer": "ipython3",
   "version": "3.8.5"
  }
 },
 "nbformat": 4,
 "nbformat_minor": 5
}
