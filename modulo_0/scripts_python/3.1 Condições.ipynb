{
 "cells": [
  {
   "cell_type": "markdown",
   "id": "sunrise-skill",
   "metadata": {},
   "source": [
    "# Condições"
   ]
  },
  {
   "cell_type": "code",
   "execution_count": 9,
   "metadata": {},
   "outputs": [
    {
     "name": "stdout",
     "output_type": "stream",
     "text": [
      "Não é divisivel por 2, 3 e 5\n"
     ]
    }
   ],
   "source": [
    "#desafio\n",
    "numero = int(input(\"Digite um número: \"))\n",
    "\n",
    "if numero%2==0 and numero%3==0 and numero%5==0:\n",
    "    print(\"O número é divisivel por 2, 3 e 5\")\n",
    "else:\n",
    "    print(\"Não é divisivel por 2, 3 e 5\")"
   ]
  },
  {
   "cell_type": "markdown",
   "id": "republican-invalid",
   "metadata": {},
   "source": [
    "## if"
   ]
  },
  {
   "cell_type": "code",
   "execution_count": 2,
   "id": "revised-comedy",
   "metadata": {},
   "outputs": [],
   "source": [
    "idade = 18"
   ]
  },
  {
   "cell_type": "code",
   "execution_count": 40,
   "id": "appreciated-merit",
   "metadata": {},
   "outputs": [
    {
     "name": "stdout",
     "output_type": "stream",
     "text": [
      "Você pode tirar carteira!\n"
     ]
    }
   ],
   "source": [
    "if idade >= 18:\n",
    "    print(\"Você pode tirar carteira!\")"
   ]
  },
  {
   "cell_type": "markdown",
   "id": "leading-elevation",
   "metadata": {},
   "source": [
    "## if/else"
   ]
  },
  {
   "cell_type": "code",
   "execution_count": 5,
   "id": "ordered-provision",
   "metadata": {},
   "outputs": [
    {
     "name": "stdout",
     "output_type": "stream",
     "text": [
      "Você não pode tirar cartetira!\n"
     ]
    }
   ],
   "source": [
    "if idade > 18:\n",
    "    print(\"Você pode tirar carteira!\")\n",
    "else:\n",
    "    print(\"Você não pode tirar cartetira!\")"
   ]
  },
  {
   "cell_type": "code",
   "execution_count": 8,
   "id": "emerging-cancer",
   "metadata": {},
   "outputs": [],
   "source": [
    "password = '12345'"
   ]
  },
  {
   "cell_type": "code",
   "execution_count": 9,
   "id": "chronic-truth",
   "metadata": {},
   "outputs": [
    {
     "name": "stdout",
     "output_type": "stream",
     "text": [
      "Digite seu nome: 9\n",
      "Digite sua senha: 6\n",
      "Ops... você errou a senha! Tente novamente\n"
     ]
    }
   ],
   "source": [
    "nome = input('Digite seu nome: ')\n",
    "senha = input('Digite sua senha: ')\n",
    "\n",
    "if password == senha:\n",
    "    print(\"Bem vindo ao sistema\",nome)\n",
    "else:\n",
    "    print(\"Ops... você errou a senha! Tente novamente\")"
   ]
  },
  {
   "cell_type": "markdown",
   "id": "available-spectrum",
   "metadata": {},
   "source": [
    "## if/elif/else"
   ]
  },
  {
   "cell_type": "code",
   "execution_count": null,
   "id": "automated-factor",
   "metadata": {},
   "outputs": [],
   "source": [
    "nome = input('Digite seu nome: ')\n",
    "senha = input('Digite sua senha: ')\n",
    "\n",
    "if nome == \"admin\":\n",
    "    print(\"Oi administrador, você tem acesso total ao sistema!\")\n",
    "elif password == senha:\n",
    "    print(\"Bem vindo ao sistema\",nome)\n",
    "else:\n",
    "    print(\"Ops... você errou a senha! Tente novamente\")"
   ]
  },
  {
   "cell_type": "code",
   "execution_count": 10,
   "id": "linear-public",
   "metadata": {},
   "outputs": [
    {
     "name": "stdout",
     "output_type": "stream",
     "text": [
      "Digite seu nome: 3\n",
      "Digite sua senha: 3\n",
      "Ops... você errou a senha! Tente novamente\n"
     ]
    }
   ],
   "source": [
    "nome = input('Digite seu nome: ')\n",
    "senha = input('Digite sua senha: ')\n",
    "\n",
    "if password == senha and nome == \"admin\":\n",
    "    print(\"Oi administrador, você tem acesso total ao sistema!\")\n",
    "elif password == senha:\n",
    "    print(\"Bem vindo ao sistema\",nome)\n",
    "else:\n",
    "    print(\"Ops... você errou a senha! Tente novamente\")"
   ]
  },
  {
   "cell_type": "markdown",
   "id": "recorded-marking",
   "metadata": {},
   "source": [
    "## if ternário"
   ]
  },
  {
   "cell_type": "code",
   "execution_count": 15,
   "id": "running-spending",
   "metadata": {},
   "outputs": [
    {
     "name": "stdout",
     "output_type": "stream",
     "text": [
      "Digite um número: 7\n"
     ]
    },
    {
     "data": {
      "text/plain": [
       "'impar'"
      ]
     },
     "execution_count": 15,
     "metadata": {},
     "output_type": "execute_result"
    }
   ],
   "source": [
    "numero = input('Digite um número: ')\n",
    "\"par\" if int(numero)%2 == 0 else \"impar\""
   ]
  },
  {
   "cell_type": "markdown",
   "id": "simple-chart",
   "metadata": {},
   "source": [
    "# Desafio"
   ]
  },
  {
   "cell_type": "markdown",
   "id": "rolled-union",
   "metadata": {},
   "source": [
    "## Escreva um código que receba um número e você deve informar se este é divisivel por 2,3 e 5"
   ]
  },
  {
   "cell_type": "code",
   "execution_count": 20,
   "id": "random-pillow",
   "metadata": {},
   "outputs": [],
   "source": [
    "numero = int(numero)"
   ]
  },
  {
   "cell_type": "code",
   "execution_count": 25,
   "id": "efficient-miller",
   "metadata": {},
   "outputs": [],
   "source": [
    "numero = 2*3*5"
   ]
  },
  {
   "cell_type": "code",
   "execution_count": 31,
   "id": "twelve-newark",
   "metadata": {},
   "outputs": [
    {
     "name": "stdout",
     "output_type": "stream",
     "text": [
      "Divide por 2\n"
     ]
    }
   ],
   "source": [
    "if numero%2 == 0:\n",
    "    print(\"Divide por 2\")\n",
    "elif numero%3 == 0:\n",
    "    print(\"Divide por 3\")\n",
    "elif numero%5 == 0:\n",
    "    print(\"Divide por 5\")\n",
    "else:\n",
    "    print(\"Não divide por 2,3 e 5 ao mesmo tempo\")"
   ]
  },
  {
   "cell_type": "code",
   "execution_count": 39,
   "id": "permanent-identity",
   "metadata": {},
   "outputs": [
    {
     "name": "stdout",
     "output_type": "stream",
     "text": [
      "Divide por: 2,3,5\n"
     ]
    }
   ],
   "source": [
    "contador = []\n",
    "if numero%2 == 0:\n",
    "    contador.append(\"2\")\n",
    "if numero%3 == 0:\n",
    "    contador.append(\"3\")\n",
    "if numero%5 == 0:\n",
    "    contador.append(\"5\")\n",
    "if len(contador) == 0:\n",
    "    print(\"Não divide por 2,3 e 5 ao mesmo tempo\")\n",
    "else:\n",
    "    print(\"Divide por:\",','.join(contador))"
   ]
  }
 ],
 "metadata": {
  "kernelspec": {
   "display_name": "Python 3",
   "language": "python",
   "name": "python3"
  },
  "language_info": {
   "codemirror_mode": {
    "name": "ipython",
    "version": 3
   },
   "file_extension": ".py",
   "mimetype": "text/x-python",
   "name": "python",
   "nbconvert_exporter": "python",
   "pygments_lexer": "ipython3",
   "version": "3.10.13"
  }
 },
 "nbformat": 4,
 "nbformat_minor": 5
}
