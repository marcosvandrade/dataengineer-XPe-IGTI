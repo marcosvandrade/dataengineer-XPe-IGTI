{
 "cells": [
  {
   "cell_type": "markdown",
   "id": "indonesian-library",
   "metadata": {},
   "source": [
    "# Strings"
   ]
  },
  {
   "cell_type": "code",
   "execution_count": 8,
   "id": "first-crazy",
   "metadata": {},
   "outputs": [
    {
     "data": {
      "text/plain": [
       "'maria'"
      ]
     },
     "execution_count": 8,
     "metadata": {},
     "output_type": "execute_result"
    }
   ],
   "source": [
    "\"maria\""
   ]
  },
  {
   "cell_type": "code",
   "execution_count": 9,
   "id": "sublime-aircraft",
   "metadata": {},
   "outputs": [
    {
     "data": {
      "text/plain": [
       "'maria'"
      ]
     },
     "execution_count": 9,
     "metadata": {},
     "output_type": "execute_result"
    }
   ],
   "source": [
    "'maria'"
   ]
  },
  {
   "cell_type": "code",
   "execution_count": 11,
   "id": "minor-daughter",
   "metadata": {},
   "outputs": [
    {
     "name": "stdout",
     "output_type": "stream",
     "text": [
      "maria silva\n"
     ]
    }
   ],
   "source": [
    "print(\"maria silva\")"
   ]
  },
  {
   "cell_type": "code",
   "execution_count": 12,
   "id": "composed-stewart",
   "metadata": {},
   "outputs": [
    {
     "name": "stdout",
     "output_type": "stream",
     "text": [
      "maria \n",
      " silva\n"
     ]
    }
   ],
   "source": [
    "print(\"maria \\n silva\")"
   ]
  },
  {
   "cell_type": "code",
   "execution_count": 13,
   "id": "focal-invention",
   "metadata": {},
   "outputs": [
    {
     "name": "stdout",
     "output_type": "stream",
     "text": [
      "maria \tsilva\n"
     ]
    }
   ],
   "source": [
    "print(\"maria \\tsilva\")"
   ]
  },
  {
   "cell_type": "markdown",
   "id": "crucial-eating",
   "metadata": {},
   "source": [
    "## Manipulando strings com operadores"
   ]
  },
  {
   "cell_type": "code",
   "execution_count": 1,
   "id": "instant-traveler",
   "metadata": {},
   "outputs": [],
   "source": [
    "nome = \"Maria\"\n",
    "sobrenome  = \"Silva\""
   ]
  },
  {
   "cell_type": "code",
   "execution_count": 2,
   "id": "bound-honor",
   "metadata": {},
   "outputs": [
    {
     "name": "stdout",
     "output_type": "stream",
     "text": [
      "MariaSilva\n"
     ]
    }
   ],
   "source": [
    "#Concatenando strings\n",
    "print(nome + sobrenome)"
   ]
  },
  {
   "cell_type": "code",
   "execution_count": 3,
   "id": "proprietary-platform",
   "metadata": {},
   "outputs": [
    {
     "name": "stdout",
     "output_type": "stream",
     "text": [
      "Maria Silva\n"
     ]
    }
   ],
   "source": [
    "#Concatenando strings com um espaço separando-as\n",
    "print(nome + \" \" + sobrenome)"
   ]
  },
  {
   "cell_type": "code",
   "execution_count": 4,
   "id": "ruled-upgrade",
   "metadata": {},
   "outputs": [
    {
     "data": {
      "text/plain": [
       "'Maria Maria Maria Maria Maria '"
      ]
     },
     "execution_count": 4,
     "metadata": {},
     "output_type": "execute_result"
    }
   ],
   "source": [
    "#repetindo o nome\n",
    "(nome + \" \" ) * 5"
   ]
  },
  {
   "cell_type": "markdown",
   "id": "applied-small",
   "metadata": {},
   "source": [
    "# Operações com string"
   ]
  },
  {
   "cell_type": "code",
   "execution_count": 5,
   "id": "distinct-vampire",
   "metadata": {},
   "outputs": [],
   "source": [
    "texto = \"Alguns testes para aprender manipular String\""
   ]
  },
  {
   "cell_type": "code",
   "execution_count": 5,
   "id": "veterinary-beijing",
   "metadata": {},
   "outputs": [
    {
     "data": {
      "text/plain": [
       "'A'"
      ]
     },
     "execution_count": 5,
     "metadata": {},
     "output_type": "execute_result"
    }
   ],
   "source": [
    "#indexando\n",
    "## primeira posição\n",
    "texto[0]"
   ]
  },
  {
   "cell_type": "code",
   "execution_count": 6,
   "id": "maritime-floor",
   "metadata": {},
   "outputs": [
    {
     "data": {
      "text/plain": [
       "'g'"
      ]
     },
     "execution_count": 6,
     "metadata": {},
     "output_type": "execute_result"
    }
   ],
   "source": [
    "#indexando\n",
    "## última posição\n",
    "texto[-1]"
   ]
  },
  {
   "cell_type": "code",
   "execution_count": 8,
   "id": "popular-munich",
   "metadata": {},
   "outputs": [
    {
     "data": {
      "text/plain": [
       "'Alguns tes'"
      ]
     },
     "execution_count": 8,
     "metadata": {},
     "output_type": "execute_result"
    }
   ],
   "source": [
    "#range de valores\n",
    "## caracteres entre as posições 0 e 10\n",
    "texto[0:10]"
   ]
  },
  {
   "cell_type": "code",
   "execution_count": 9,
   "id": "introductory-gardening",
   "metadata": {},
   "outputs": [
    {
     "data": {
      "text/plain": [
       "'s testes p'"
      ]
     },
     "execution_count": 9,
     "metadata": {},
     "output_type": "execute_result"
    }
   ],
   "source": [
    "#range de valores\n",
    "## caracteres entre as posições 5 e 15\n",
    "texto[5:15]"
   ]
  },
  {
   "cell_type": "code",
   "execution_count": 10,
   "id": "primary-province",
   "metadata": {},
   "outputs": [
    {
     "data": {
      "text/plain": [
       "'Algun'"
      ]
     },
     "execution_count": 10,
     "metadata": {},
     "output_type": "execute_result"
    }
   ],
   "source": [
    "#range de valores\n",
    "## valores até a posição 5\n",
    "texto[:5]"
   ]
  },
  {
   "cell_type": "code",
   "execution_count": 15,
   "id": "weekly-tourist",
   "metadata": {},
   "outputs": [
    {
     "data": {
      "text/plain": [
       "'lguns testes para aprender manipular String'"
      ]
     },
     "execution_count": 15,
     "metadata": {},
     "output_type": "execute_result"
    }
   ],
   "source": [
    "texto[1:]"
   ]
  },
  {
   "cell_type": "code",
   "execution_count": 22,
   "id": "fluid-richards",
   "metadata": {},
   "outputs": [
    {
     "data": {
      "text/plain": [
       "'Alguns testes para aprender manipular String'"
      ]
     },
     "execution_count": 22,
     "metadata": {},
     "output_type": "execute_result"
    }
   ],
   "source": [
    "##:: para fatiar\n",
    "texto[::1]"
   ]
  },
  {
   "cell_type": "code",
   "execution_count": 23,
   "id": "swiss-thomas",
   "metadata": {},
   "outputs": [
    {
     "data": {
      "text/plain": [
       "'Agn etspr pedrmnplrSrn'"
      ]
     },
     "execution_count": 23,
     "metadata": {},
     "output_type": "execute_result"
    }
   ],
   "source": [
    "texto[::2]"
   ]
  },
  {
   "cell_type": "code",
   "execution_count": 21,
   "id": "supposed-writing",
   "metadata": {},
   "outputs": [
    {
     "data": {
      "text/plain": [
       "'gnirtS ralupinam rednerpa arap setset snuglA'"
      ]
     },
     "execution_count": 21,
     "metadata": {},
     "output_type": "execute_result"
    }
   ],
   "source": [
    "#invete o texto\n",
    "texto[::-1]"
   ]
  },
  {
   "cell_type": "markdown",
   "id": "athletic-advantage",
   "metadata": {},
   "source": [
    "## Propriedade"
   ]
  },
  {
   "cell_type": "code",
   "execution_count": 27,
   "id": "novel-integrity",
   "metadata": {},
   "outputs": [
    {
     "ename": "TypeError",
     "evalue": "'str' object does not support item assignment",
     "output_type": "error",
     "traceback": [
      "\u001b[0;31m---------------------------------------------------------------------------\u001b[0m",
      "\u001b[0;31mTypeError\u001b[0m                                 Traceback (most recent call last)",
      "\u001b[0;32m<ipython-input-27-a4373cabec66>\u001b[0m in \u001b[0;36m<module>\u001b[0;34m\u001b[0m\n\u001b[1;32m      1\u001b[0m \u001b[0;31m#é imutável\u001b[0m\u001b[0;34m\u001b[0m\u001b[0;34m\u001b[0m\u001b[0;34m\u001b[0m\u001b[0m\n\u001b[0;32m----> 2\u001b[0;31m \u001b[0mtexto\u001b[0m\u001b[0;34m[\u001b[0m\u001b[0;36m0\u001b[0m\u001b[0;34m]\u001b[0m \u001b[0;34m=\u001b[0m \u001b[0;36m5\u001b[0m\u001b[0;34m\u001b[0m\u001b[0;34m\u001b[0m\u001b[0m\n\u001b[0m",
      "\u001b[0;31mTypeError\u001b[0m: 'str' object does not support item assignment"
     ]
    }
   ],
   "source": [
    "#é imutável\n",
    "texto[0] = 5"
   ]
  },
  {
   "cell_type": "markdown",
   "id": "continent-editor",
   "metadata": {},
   "source": [
    "## Métodos"
   ]
  },
  {
   "cell_type": "code",
   "execution_count": null,
   "id": "classified-diploma",
   "metadata": {},
   "outputs": [],
   "source": [
    "#checa o fim da string\n",
    "print(texto.endswith('g'))\n",
    "print(texto.endswith('a'))"
   ]
  },
  {
   "cell_type": "code",
   "execution_count": 11,
   "id": "blocked-creek",
   "metadata": {},
   "outputs": [
    {
     "data": {
      "text/plain": [
       "['Alguns', 'testes', 'para', 'aprender', 'manipular', 'String']"
      ]
     },
     "execution_count": 11,
     "metadata": {},
     "output_type": "execute_result"
    }
   ],
   "source": [
    "#separa as palavras de uma string\n",
    "texto.split(\" \")"
   ]
  },
  {
   "cell_type": "code",
   "execution_count": 13,
   "id": "informed-arrangement",
   "metadata": {},
   "outputs": [
    {
     "data": {
      "text/plain": [
       "5"
      ]
     },
     "execution_count": 13,
     "metadata": {},
     "output_type": "execute_result"
    }
   ],
   "source": [
    "#quantidade 'a' no texto\n",
    "texto.count(\"a\")"
   ]
  },
  {
   "cell_type": "code",
   "execution_count": 6,
   "id": "empirical-physics",
   "metadata": {},
   "outputs": [
    {
     "data": {
      "text/plain": [
       "'ALGUNS TESTES PARA APRENDER MANIPULAR STRING'"
      ]
     },
     "execution_count": 6,
     "metadata": {},
     "output_type": "execute_result"
    }
   ],
   "source": [
    "#para deixar tudo maiúsculo\n",
    "texto.upper()"
   ]
  },
  {
   "cell_type": "code",
   "execution_count": 7,
   "id": "advised-formula",
   "metadata": {},
   "outputs": [
    {
     "data": {
      "text/plain": [
       "'alguns testes para aprender manipular string'"
      ]
     },
     "execution_count": 7,
     "metadata": {},
     "output_type": "execute_result"
    }
   ],
   "source": [
    "#para deixar tudo minúculo\n",
    "texto.lower()"
   ]
  },
  {
   "cell_type": "code",
   "execution_count": 4,
   "id": "illegal-yemen",
   "metadata": {},
   "outputs": [
    {
     "data": {
      "text/plain": [
       "'Alguns testes para aprender manipular string'"
      ]
     },
     "execution_count": 4,
     "metadata": {},
     "output_type": "execute_result"
    }
   ],
   "source": [
    "#apenas primeiro carcter minúsculo\n",
    "texto.capitalize()"
   ]
  },
  {
   "cell_type": "code",
   "execution_count": 30,
   "id": "complete-amazon",
   "metadata": {},
   "outputs": [
    {
     "ename": "TypeError",
     "evalue": "center expected at least 1 argument, got 0",
     "output_type": "error",
     "traceback": [
      "\u001b[0;31m---------------------------------------------------------------------------\u001b[0m",
      "\u001b[0;31mTypeError\u001b[0m                                 Traceback (most recent call last)",
      "\u001b[0;32m<ipython-input-30-d456a3331063>\u001b[0m in \u001b[0;36m<module>\u001b[0;34m\u001b[0m\n\u001b[0;32m----> 1\u001b[0;31m \u001b[0mtexto\u001b[0m\u001b[0;34m.\u001b[0m\u001b[0mcenter\u001b[0m\u001b[0;34m(\u001b[0m\u001b[0;34m)\u001b[0m\u001b[0;34m\u001b[0m\u001b[0;34m\u001b[0m\u001b[0m\n\u001b[0m",
      "\u001b[0;31mTypeError\u001b[0m: center expected at least 1 argument, got 0"
     ]
    }
   ],
   "source": [
    "#métodos\n",
    "texto."
   ]
  }
 ],
 "metadata": {
  "kernelspec": {
   "display_name": "Python 3",
   "language": "python",
   "name": "python3"
  },
  "language_info": {
   "codemirror_mode": {
    "name": "ipython",
    "version": 3
   },
   "file_extension": ".py",
   "mimetype": "text/x-python",
   "name": "python",
   "nbconvert_exporter": "python",
   "pygments_lexer": "ipython3",
   "version": "3.8.5"
  }
 },
 "nbformat": 4,
 "nbformat_minor": 5
}
