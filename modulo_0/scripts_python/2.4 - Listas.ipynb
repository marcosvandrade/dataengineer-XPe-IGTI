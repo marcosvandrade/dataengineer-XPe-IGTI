{
 "cells": [
  {
   "cell_type": "markdown",
   "id": "figured-vacuum",
   "metadata": {},
   "source": [
    "# Listas"
   ]
  },
  {
   "cell_type": "code",
   "execution_count": 2,
   "metadata": {},
   "outputs": [],
   "source": [
    "# DESAFIO\n",
    "# MANTENHA APENAS OS NOMES\n",
    "lista2 = [\"segunda\",7,\"terça\",6,\"quarta\",5,\"quinta\",\"sexta\",\"sabado\",\"domingo\",1,2,3]"
   ]
  },
  {
   "cell_type": "code",
   "execution_count": 12,
   "metadata": {},
   "outputs": [],
   "source": [
    "lista2.remove(3)\n"
   ]
  },
  {
   "cell_type": "code",
   "execution_count": 13,
   "metadata": {},
   "outputs": [
    {
     "data": {
      "text/plain": [
       "['segunda', 'terça', 'quarta', 'quinta', 'sexta', 'sabado', 'domingo']"
      ]
     },
     "execution_count": 13,
     "metadata": {},
     "output_type": "execute_result"
    }
   ],
   "source": [
    "lista2"
   ]
  },
  {
   "cell_type": "code",
   "execution_count": null,
   "id": "rocky-joining",
   "metadata": {},
   "outputs": [],
   "source": [
    "lista = [1, 2, 5, 3, 0, -2, -5, 1, 120]"
   ]
  },
  {
   "cell_type": "code",
   "execution_count": null,
   "id": "productive-bangladesh",
   "metadata": {
    "scrolled": true
   },
   "outputs": [],
   "source": [
    "#tipo\n",
    "type(lista)"
   ]
  },
  {
   "cell_type": "code",
   "execution_count": null,
   "id": "productive-constitutional",
   "metadata": {},
   "outputs": [],
   "source": [
    "#tamanho da lista\n",
    "len(lista)"
   ]
  },
  {
   "cell_type": "code",
   "execution_count": null,
   "id": "moving-small",
   "metadata": {},
   "outputs": [],
   "source": [
    "lista[2]"
   ]
  },
  {
   "cell_type": "code",
   "execution_count": null,
   "id": "significant-semiconductor",
   "metadata": {},
   "outputs": [],
   "source": [
    "#alterar o valor de uma lista\n",
    "lista[2] = -6\n",
    "lista"
   ]
  },
  {
   "cell_type": "code",
   "execution_count": null,
   "id": "alleged-junior",
   "metadata": {},
   "outputs": [],
   "source": [
    "#métodos\n",
    "lista.pop?"
   ]
  },
  {
   "cell_type": "code",
   "execution_count": null,
   "id": "pursuant-freight",
   "metadata": {},
   "outputs": [],
   "source": [
    "lista.reverse()\n",
    "lista"
   ]
  },
  {
   "cell_type": "code",
   "execution_count": null,
   "id": "tropical-carrier",
   "metadata": {},
   "outputs": [],
   "source": [
    "lista.insert(10,200)\n",
    "lista"
   ]
  },
  {
   "cell_type": "code",
   "execution_count": null,
   "id": "hybrid-colombia",
   "metadata": {},
   "outputs": [],
   "source": [
    "lista.remove(200)\n",
    "lista"
   ]
  },
  {
   "cell_type": "code",
   "execution_count": null,
   "id": "spatial-speaking",
   "metadata": {},
   "outputs": [],
   "source": [
    "lista.remove(2000)\n",
    "lista"
   ]
  },
  {
   "cell_type": "code",
   "execution_count": null,
   "id": "english-compiler",
   "metadata": {},
   "outputs": [],
   "source": [
    "#ordena\n",
    "lista.sort()\n",
    "lista"
   ]
  },
  {
   "cell_type": "code",
   "execution_count": null,
   "id": "sudden-champagne",
   "metadata": {},
   "outputs": [],
   "source": [
    "#adiciona um elemento\n",
    "lista.append(\"Ana\")\n",
    "lista"
   ]
  },
  {
   "cell_type": "code",
   "execution_count": null,
   "id": "surprised-manual",
   "metadata": {},
   "outputs": [],
   "source": [
    "del lista[3]\n",
    "lista"
   ]
  },
  {
   "cell_type": "code",
   "execution_count": null,
   "id": "offshore-draft",
   "metadata": {},
   "outputs": [],
   "source": [
    "#adiciona um elemento\n",
    "len(lista)"
   ]
  },
  {
   "cell_type": "code",
   "execution_count": null,
   "id": "alternative-concentration",
   "metadata": {},
   "outputs": [],
   "source": [
    "#ordena\n",
    "lista.sort()\n",
    "lista"
   ]
  },
  {
   "cell_type": "code",
   "execution_count": null,
   "id": "nasty-toddler",
   "metadata": {},
   "outputs": [],
   "source": [
    "lista + [5,6,7]"
   ]
  },
  {
   "cell_type": "code",
   "execution_count": null,
   "id": "super-customs",
   "metadata": {},
   "outputs": [],
   "source": [
    "5 in lista"
   ]
  },
  {
   "cell_type": "code",
   "execution_count": null,
   "id": "blank-fancy",
   "metadata": {},
   "outputs": [],
   "source": [
    "100 in lista"
   ]
  },
  {
   "cell_type": "code",
   "execution_count": null,
   "id": "grand-bibliography",
   "metadata": {},
   "outputs": [],
   "source": [
    "lista.remove(\"Ana\")"
   ]
  },
  {
   "cell_type": "code",
   "execution_count": null,
   "id": "hollywood-instrument",
   "metadata": {},
   "outputs": [],
   "source": [
    "lista.remove([1,2,3])"
   ]
  },
  {
   "cell_type": "markdown",
   "id": "cleared-waterproof",
   "metadata": {},
   "source": [
    "## Listas de Listas"
   ]
  },
  {
   "cell_type": "code",
   "execution_count": null,
   "id": "swiss-integer",
   "metadata": {},
   "outputs": [],
   "source": [
    "lista.append([1,2,3])\n",
    "lista"
   ]
  },
  {
   "cell_type": "code",
   "execution_count": null,
   "id": "smaller-reduction",
   "metadata": {},
   "outputs": [],
   "source": [
    "lista.append([\"ana\",\"joão\",\"josé\"])\n",
    "lista"
   ]
  },
  {
   "cell_type": "code",
   "execution_count": null,
   "id": "fifth-intake",
   "metadata": {},
   "outputs": [],
   "source": [
    "lista[-1]"
   ]
  },
  {
   "cell_type": "code",
   "execution_count": null,
   "id": "bronze-eligibility",
   "metadata": {
    "scrolled": true
   },
   "outputs": [],
   "source": [
    "lista.extend([\"a\",\"b\",\"c\"])\n",
    "lista"
   ]
  },
  {
   "cell_type": "code",
   "execution_count": null,
   "id": "medieval-arlington",
   "metadata": {},
   "outputs": [],
   "source": [
    "lista[-4].append(\"MARIA\")"
   ]
  },
  {
   "cell_type": "code",
   "execution_count": null,
   "id": "usual-portfolio",
   "metadata": {},
   "outputs": [],
   "source": [
    "lista"
   ]
  },
  {
   "cell_type": "markdown",
   "id": "turkish-diploma",
   "metadata": {},
   "source": [
    "## Funções built in"
   ]
  },
  {
   "cell_type": "code",
   "execution_count": null,
   "id": "revolutionary-story",
   "metadata": {},
   "outputs": [],
   "source": [
    "max(lista)"
   ]
  },
  {
   "cell_type": "code",
   "execution_count": null,
   "id": "hybrid-personal",
   "metadata": {},
   "outputs": [],
   "source": [
    "max(lista[:10])"
   ]
  },
  {
   "cell_type": "code",
   "execution_count": null,
   "id": "innocent-piece",
   "metadata": {},
   "outputs": [],
   "source": [
    "max(lista[2:10])"
   ]
  },
  {
   "cell_type": "code",
   "execution_count": null,
   "id": "pleased-camera",
   "metadata": {},
   "outputs": [],
   "source": [
    "min(lista[:10])"
   ]
  },
  {
   "cell_type": "markdown",
   "id": "legendary-variation",
   "metadata": {},
   "source": [
    "## Desafio"
   ]
  },
  {
   "cell_type": "markdown",
   "id": "protected-savannah",
   "metadata": {},
   "source": [
    "### Dada a lista abaixo, mantenha apenas os nomes"
   ]
  },
  {
   "cell_type": "code",
   "execution_count": null,
   "id": "magnetic-example",
   "metadata": {},
   "outputs": [],
   "source": [
    "lista2 = [\"segunda\",7,\"terça\",6,\"quarta\",5,\"quinta\",\"sexta\",\"sabado\",\"domingo\",1,2,3]"
   ]
  },
  {
   "cell_type": "code",
   "execution_count": null,
   "id": "daily-chassis",
   "metadata": {
    "scrolled": false
   },
   "outputs": [],
   "source": [
    "lista2"
   ]
  },
  {
   "cell_type": "code",
   "execution_count": null,
   "id": "rapid-discount",
   "metadata": {},
   "outputs": [],
   "source": []
  },
  {
   "cell_type": "markdown",
   "id": "orange-candidate",
   "metadata": {},
   "source": [
    "## Bora pratica mais?\n",
    "\n",
    "Sugestão: https://www.w3resource.com/python-exercises/list/"
   ]
  }
 ],
 "metadata": {
  "kernelspec": {
   "display_name": "Python 3",
   "language": "python",
   "name": "python3"
  },
  "language_info": {
   "codemirror_mode": {
    "name": "ipython",
    "version": 3
   },
   "file_extension": ".py",
   "mimetype": "text/x-python",
   "name": "python",
   "nbconvert_exporter": "python",
   "pygments_lexer": "ipython3",
   "version": "3.10.13"
  }
 },
 "nbformat": 4,
 "nbformat_minor": 5
}
