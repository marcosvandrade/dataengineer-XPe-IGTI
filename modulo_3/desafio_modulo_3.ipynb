{
 "cells": [
  {
   "cell_type": "code",
   "execution_count": 1,
   "metadata": {},
   "outputs": [
    {
     "name": "stdout",
     "output_type": "stream",
     "text": [
      "3.5.0\n"
     ]
    }
   ],
   "source": [
    "#create a spark session\n",
    "from pyspark.sql import SparkSession\n",
    "spark = SparkSession.builder.appName(\"SparkSQL\").getOrCreate()\n",
    "\n",
    "#print spark version\n",
    "print(spark.version)"
   ]
  },
  {
   "cell_type": "code",
   "execution_count": 2,
   "metadata": {},
   "outputs": [
    {
     "name": "stdout",
     "output_type": "stream",
     "text": [
      "root\n",
      " |-- CNAE: integer (nullable = true)\n",
      " |-- DESCRICAO_CNAE: string (nullable = true)\n",
      "\n"
     ]
    }
   ],
   "source": [
    "#read CNAES data\n",
    "df_cnaes = spark.read.csv('/home/jovyan/data/cnaes.csv',\\\n",
    "                        header=True, inferSchema=True,\\\n",
    "                            sep=';', encoding='ISO-8859-1')\n",
    "#print the df_cnaes schema\n",
    "df_cnaes.printSchema()"
   ]
  },
  {
   "cell_type": "code",
   "execution_count": 3,
   "metadata": {},
   "outputs": [
    {
     "data": {
      "text/plain": [
       "1359"
      ]
     },
     "execution_count": 3,
     "metadata": {},
     "output_type": "execute_result"
    }
   ],
   "source": [
    "#count the rows\n",
    "df_cnaes.count()"
   ]
  },
  {
   "cell_type": "code",
   "execution_count": 5,
   "metadata": {},
   "outputs": [
    {
     "name": "stdout",
     "output_type": "stream",
     "text": [
      "+------+---------------------------------------------------------+\n",
      "|CNAE  |DESCRICAO_CNAE                                           |\n",
      "+------+---------------------------------------------------------+\n",
      "|111301|Cultivo de arroz                                         |\n",
      "|111302|Cultivo de milho                                         |\n",
      "|111303|Cultivo de trigo                                         |\n",
      "|111399|Cultivo de outros cereais não especificados anteriormente|\n",
      "|112101|Cultivo de algodão herbáceo                              |\n",
      "+------+---------------------------------------------------------+\n",
      "only showing top 5 rows\n",
      "\n"
     ]
    }
   ],
   "source": [
    "# show df_cnaes\n",
    "df_cnaes.show(5, truncate=False)"
   ]
  },
  {
   "cell_type": "code",
   "execution_count": 35,
   "metadata": {},
   "outputs": [],
   "source": [
    "#read dataset estabelecimentos\n",
    "df_estabelecimentos1 = spark.read.csv('/home/jovyan/data/estabelecimentos-1.csv',\\\n",
    "                        header=True, inferSchema=True, sep=';',\\\n",
    "                        encoding = 'ISO-8859-1')\n",
    "\n",
    "df_estabelecimentos2 = spark.read.csv('/home/jovyan/data/estabelecimentos-2.csv',\\\n",
    "                        header=True, inferSchema=True, sep=';',\\\n",
    "                        encoding = 'ISO-8859-1')\n",
    "\n",
    "df_estabelecimentos3 = spark.read.csv('/home/jovyan/data/estabelecimentos-3.csv',\\\n",
    "                        header=True, inferSchema=True, sep=';',\\\n",
    "                        encoding = 'ISO-8859-1')"
   ]
  },
  {
   "cell_type": "code",
   "execution_count": 54,
   "metadata": {},
   "outputs": [],
   "source": [
    "#union csv files estabelecimentos-1, 2 e 3\n",
    "df_estabelecimentos = df_estabelecimentos1.union(df_estabelecimentos2).union(df_estabelecimentos3)\n",
    "df_estabelecimentos.coalesce(1).write.format(\"csv\")\\\n",
    "    .option(\"delimiter\", \";\")\\\n",
    "    .option(\"header\", \"true\")\\\n",
    "    .save(\"/home/jovyan/data/estabelecimentos.csv\")"
   ]
  },
  {
   "cell_type": "code",
   "execution_count": 37,
   "metadata": {},
   "outputs": [
    {
     "name": "stdout",
     "output_type": "stream",
     "text": [
      "root\n",
      " |-- CNPJ_BASICO: integer (nullable = true)\n",
      " |-- CNPJ_ORDEM: integer (nullable = true)\n",
      " |-- CNPJ_DV: integer (nullable = true)\n",
      " |-- IDENTIFICADOR_MATRIZ_FILIAL: integer (nullable = true)\n",
      " |-- NOME_FANTASIA: string (nullable = true)\n",
      " |-- SITUACAO_CADASTRAL: integer (nullable = true)\n",
      " |-- DATA_SITUACAO_CADASTRAL: integer (nullable = true)\n",
      " |-- MOTIVO_SITUACAO_CADASTRAL: integer (nullable = true)\n",
      " |-- NOME_DA_CIDADE_NO_EXTERIOR: string (nullable = true)\n",
      " |-- PAIS: integer (nullable = true)\n",
      " |-- DATA_INICIO_ATIVIDADE: integer (nullable = true)\n",
      " |-- CNAE_PRINCIPAL: integer (nullable = true)\n",
      " |-- CNAE_SECUNDARIA: string (nullable = true)\n",
      " |-- TIPO_LOGRADOURO: string (nullable = true)\n",
      " |-- LOGRADOURO: string (nullable = true)\n",
      " |-- NUMERO: string (nullable = true)\n",
      " |-- COMPLEMENTO: string (nullable = true)\n",
      " |-- BAIRRO: string (nullable = true)\n",
      " |-- CEP: string (nullable = true)\n",
      " |-- UF: string (nullable = true)\n",
      " |-- MUNICIPIO: integer (nullable = true)\n",
      " |-- DDD_1: string (nullable = true)\n",
      " |-- TEL_1: string (nullable = true)\n",
      " |-- DDD_2: string (nullable = true)\n",
      " |-- TEL_2: string (nullable = true)\n",
      " |-- DDD_FAX: double (nullable = true)\n",
      " |-- FAX: string (nullable = true)\n",
      " |-- CORREIO_ELETRONICO: string (nullable = true)\n",
      " |-- SITUACAO_ESPECIAL: string (nullable = true)\n",
      " |-- DATA_SITUACAO_ESPECIAL: integer (nullable = true)\n",
      "\n"
     ]
    }
   ],
   "source": [
    "df_estabelecimentos.printSchema()"
   ]
  },
  {
   "cell_type": "code",
   "execution_count": 38,
   "metadata": {},
   "outputs": [],
   "source": [
    "#rename column 'CNAE_PRINCIPAL' to 'CNAE'\n",
    "df_estabelecimentos = df_estabelecimentos.withColumnRenamed('CNAE_PRINCIPAL','CNAE')"
   ]
  },
  {
   "cell_type": "code",
   "execution_count": 39,
   "metadata": {},
   "outputs": [
    {
     "name": "stdout",
     "output_type": "stream",
     "text": [
      "root\n",
      " |-- CNPJ_BASICO: integer (nullable = true)\n",
      " |-- CNPJ_ORDEM: integer (nullable = true)\n",
      " |-- CNPJ_DV: integer (nullable = true)\n",
      " |-- IDENTIFICADOR_MATRIZ_FILIAL: integer (nullable = true)\n",
      " |-- NOME_FANTASIA: string (nullable = true)\n",
      " |-- SITUACAO_CADASTRAL: integer (nullable = true)\n",
      " |-- DATA_SITUACAO_CADASTRAL: integer (nullable = true)\n",
      " |-- MOTIVO_SITUACAO_CADASTRAL: integer (nullable = true)\n",
      " |-- NOME_DA_CIDADE_NO_EXTERIOR: string (nullable = true)\n",
      " |-- PAIS: integer (nullable = true)\n",
      " |-- DATA_INICIO_ATIVIDADE: integer (nullable = true)\n",
      " |-- CNAE: integer (nullable = true)\n",
      " |-- CNAE_SECUNDARIA: string (nullable = true)\n",
      " |-- TIPO_LOGRADOURO: string (nullable = true)\n",
      " |-- LOGRADOURO: string (nullable = true)\n",
      " |-- NUMERO: string (nullable = true)\n",
      " |-- COMPLEMENTO: string (nullable = true)\n",
      " |-- BAIRRO: string (nullable = true)\n",
      " |-- CEP: string (nullable = true)\n",
      " |-- UF: string (nullable = true)\n",
      " |-- MUNICIPIO: integer (nullable = true)\n",
      " |-- DDD_1: string (nullable = true)\n",
      " |-- TEL_1: string (nullable = true)\n",
      " |-- DDD_2: string (nullable = true)\n",
      " |-- TEL_2: string (nullable = true)\n",
      " |-- DDD_FAX: double (nullable = true)\n",
      " |-- FAX: string (nullable = true)\n",
      " |-- CORREIO_ELETRONICO: string (nullable = true)\n",
      " |-- SITUACAO_ESPECIAL: string (nullable = true)\n",
      " |-- DATA_SITUACAO_ESPECIAL: integer (nullable = true)\n",
      "\n"
     ]
    }
   ],
   "source": [
    "df_estabelecimentos.printSchema()"
   ]
  },
  {
   "cell_type": "code",
   "execution_count": 40,
   "metadata": {},
   "outputs": [
    {
     "name": "stdout",
     "output_type": "stream",
     "text": [
      "+-----------+----------+-------+---------------------------+-------------+------------------+-----------------------+-------------------------+--------------------------+----+---------------------+-------+---------------+---------------+-----------------+------+---------------------------------+---------+--------+---+---------+-----+--------+-----+--------+-------+--------+---------------------------+-----------------+----------------------+\n",
      "|CNPJ_BASICO|CNPJ_ORDEM|CNPJ_DV|IDENTIFICADOR_MATRIZ_FILIAL|NOME_FANTASIA|SITUACAO_CADASTRAL|DATA_SITUACAO_CADASTRAL|MOTIVO_SITUACAO_CADASTRAL|NOME_DA_CIDADE_NO_EXTERIOR|PAIS|DATA_INICIO_ATIVIDADE|CNAE   |CNAE_SECUNDARIA|TIPO_LOGRADOURO|LOGRADOURO       |NUMERO|COMPLEMENTO                      |BAIRRO   |CEP     |UF |MUNICIPIO|DDD_1|TEL_1   |DDD_2|TEL_2   |DDD_FAX|FAX     |CORREIO_ELETRONICO         |SITUACAO_ESPECIAL|DATA_SITUACAO_ESPECIAL|\n",
      "+-----------+----------+-------+---------------------------+-------------+------------------+-----------------------+-------------------------+--------------------------+----+---------------------+-------+---------------+---------------+-----------------+------+---------------------------------+---------+--------+---+---------+-----+--------+-----+--------+-------+--------+---------------------------+-----------------+----------------------+\n",
      "|7396865    |1         |68     |1                          |NULL         |8                 |20170210               |1                        |NULL                      |NULL|20050518             |1412602|1411801        |RUA            |TUCANEIRA        |30    |NULL                             |DOS LAGOS|89136000|SC |8297     |47   |33851125|47   |33851125|47.0   |33851125|NULL                       |NULL             |NULL                  |\n",
      "|64904295   |18        |51     |2                          |NULL         |8                 |20161110               |1                        |NULL                      |NULL|20050429             |4639701|4637199        |AVENIDA        |MENINO MARCELO   |8551B |LOTE  2                   QUADRAF|SERRARIA |57046000|AL |2785     |11   |36491000|31   |33880436|82.0   |33118379|CLAUDIO.GIGLIO@CAMIL.COM.BR|NULL             |NULL                  |\n",
      "|76016369   |3         |16     |2                          |NULL         |3                 |20060203               |21                       |NULL                      |NULL|19851212             |4632001|NULL           |RUA            |DO COMERCIO      |55    |SALA 7 GALERIA                   |CENTRO   |11010141|SP |7071     |NULL |NULL    |NULL |NULL    |NULL   |NULL    |NULL                       |NULL             |NULL                  |\n",
      "|52302726   |1         |82     |1                          |NULL         |4                 |20210406               |63                       |NULL                      |NULL|19830223             |4712100|NULL           |RUA            |GREGORIO LUCHIARI|496   |NULL                             |SAO VITO |13472080|SP |6131     |NULL |NULL    |NULL |NULL    |NULL   |NULL    |NULL                       |NULL             |NULL                  |\n",
      "|7396923    |1         |53     |1                          |NULL         |8                 |20140115               |1                        |NULL                      |NULL|20050516             |4721102|NULL           |RUA            |DA MOOCA         |3336  |NULL                             |MOOCA    |3165000 |SP |7107     |011  |69658088|NULL |NULL    |NULL   |NULL    |NULL                       |NULL             |NULL                  |\n",
      "+-----------+----------+-------+---------------------------+-------------+------------------+-----------------------+-------------------------+--------------------------+----+---------------------+-------+---------------+---------------+-----------------+------+---------------------------------+---------+--------+---+---------+-----+--------+-----+--------+-------+--------+---------------------------+-----------------+----------------------+\n",
      "only showing top 5 rows\n",
      "\n"
     ]
    }
   ],
   "source": [
    "df_estabelecimentos.show(5, truncate=False)"
   ]
  },
  {
   "cell_type": "code",
   "execution_count": 41,
   "metadata": {},
   "outputs": [],
   "source": [
    "#left join estabelecimentos\n",
    "estabelecimento_cnaes = df_estabelecimentos.join(df_cnaes, on='CNAE', how='left')"
   ]
  },
  {
   "cell_type": "code",
   "execution_count": 42,
   "metadata": {},
   "outputs": [
    {
     "name": "stdout",
     "output_type": "stream",
     "text": [
      "+-------+-----------+----------+-------+---------------------------+-------------+------------------+-----------------------+-------------------------+--------------------------+----+---------------------+---------------+---------------+-----------------+------+---------------------------------+---------+--------+---+---------+-----+--------+-----+--------+-------+--------+---------------------------+-----------------+----------------------+----------------------------------------------------------------------------------------------------------------------------+\n",
      "|CNAE   |CNPJ_BASICO|CNPJ_ORDEM|CNPJ_DV|IDENTIFICADOR_MATRIZ_FILIAL|NOME_FANTASIA|SITUACAO_CADASTRAL|DATA_SITUACAO_CADASTRAL|MOTIVO_SITUACAO_CADASTRAL|NOME_DA_CIDADE_NO_EXTERIOR|PAIS|DATA_INICIO_ATIVIDADE|CNAE_SECUNDARIA|TIPO_LOGRADOURO|LOGRADOURO       |NUMERO|COMPLEMENTO                      |BAIRRO   |CEP     |UF |MUNICIPIO|DDD_1|TEL_1   |DDD_2|TEL_2   |DDD_FAX|FAX     |CORREIO_ELETRONICO         |SITUACAO_ESPECIAL|DATA_SITUACAO_ESPECIAL|DESCRICAO_CNAE                                                                                                              |\n",
      "+-------+-----------+----------+-------+---------------------------+-------------+------------------+-----------------------+-------------------------+--------------------------+----+---------------------+---------------+---------------+-----------------+------+---------------------------------+---------+--------+---+---------+-----+--------+-----+--------+-------+--------+---------------------------+-----------------+----------------------+----------------------------------------------------------------------------------------------------------------------------+\n",
      "|1412602|7396865    |1         |68     |1                          |NULL         |8                 |20170210               |1                        |NULL                      |NULL|20050518             |1411801        |RUA            |TUCANEIRA        |30    |NULL                             |DOS LAGOS|89136000|SC |8297     |47   |33851125|47   |33851125|47.0   |33851125|NULL                       |NULL             |NULL                  |Confecção, sob medida, de peças do vestuário, exceto roupas íntimas                                                         |\n",
      "|4639701|64904295   |18        |51     |2                          |NULL         |8                 |20161110               |1                        |NULL                      |NULL|20050429             |4637199        |AVENIDA        |MENINO MARCELO   |8551B |LOTE  2                   QUADRAF|SERRARIA |57046000|AL |2785     |11   |36491000|31   |33880436|82.0   |33118379|CLAUDIO.GIGLIO@CAMIL.COM.BR|NULL             |NULL                  |Comércio atacadista de produtos alimentícios em geral                                                                       |\n",
      "|4632001|76016369   |3         |16     |2                          |NULL         |3                 |20060203               |21                       |NULL                      |NULL|19851212             |NULL           |RUA            |DO COMERCIO      |55    |SALA 7 GALERIA                   |CENTRO   |11010141|SP |7071     |NULL |NULL    |NULL |NULL    |NULL   |NULL    |NULL                       |NULL             |NULL                  |Comércio atacadista de cereais e leguminosas beneficiados                                                                   |\n",
      "|4712100|52302726   |1         |82     |1                          |NULL         |4                 |20210406               |63                       |NULL                      |NULL|19830223             |NULL           |RUA            |GREGORIO LUCHIARI|496   |NULL                             |SAO VITO |13472080|SP |6131     |NULL |NULL    |NULL |NULL    |NULL   |NULL    |NULL                       |NULL             |NULL                  |Comércio varejista de mercadorias em geral, com predominância de produtos alimentícios - minimercados, mercearias e armazéns|\n",
      "|4721102|7396923    |1         |53     |1                          |NULL         |8                 |20140115               |1                        |NULL                      |NULL|20050516             |NULL           |RUA            |DA MOOCA         |3336  |NULL                             |MOOCA    |3165000 |SP |7107     |011  |69658088|NULL |NULL    |NULL   |NULL    |NULL                       |NULL             |NULL                  |Padaria e confeitaria com predominância de revenda                                                                          |\n",
      "+-------+-----------+----------+-------+---------------------------+-------------+------------------+-----------------------+-------------------------+--------------------------+----+---------------------+---------------+---------------+-----------------+------+---------------------------------+---------+--------+---+---------+-----+--------+-----+--------+-------+--------+---------------------------+-----------------+----------------------+----------------------------------------------------------------------------------------------------------------------------+\n",
      "only showing top 5 rows\n",
      "\n"
     ]
    }
   ],
   "source": [
    "estabelecimento_cnaes.show(5, truncate=False)"
   ]
  },
  {
   "cell_type": "code",
   "execution_count": 43,
   "metadata": {},
   "outputs": [
    {
     "data": {
      "text/plain": [
       "20996744"
      ]
     },
     "execution_count": 43,
     "metadata": {},
     "output_type": "execute_result"
    }
   ],
   "source": [
    "estabelecimento_cnaes.count()"
   ]
  },
  {
   "cell_type": "code",
   "execution_count": 44,
   "metadata": {},
   "outputs": [
    {
     "data": {
      "text/plain": [
       "20996744"
      ]
     },
     "execution_count": 44,
     "metadata": {},
     "output_type": "execute_result"
    }
   ],
   "source": [
    "df_estabelecimentos.count()"
   ]
  },
  {
   "cell_type": "markdown",
   "metadata": {},
   "source": [
    "#### Pergunta 1: Quantos estabelecimentos existem?"
   ]
  },
  {
   "cell_type": "code",
   "execution_count": 45,
   "metadata": {},
   "outputs": [
    {
     "data": {
      "text/plain": [
       "20996744"
      ]
     },
     "execution_count": 45,
     "metadata": {},
     "output_type": "execute_result"
    }
   ],
   "source": [
    "df_estabelecimentos.count()"
   ]
  },
  {
   "cell_type": "code",
   "execution_count": 46,
   "metadata": {},
   "outputs": [
    {
     "data": {
      "text/plain": [
       "20996744"
      ]
     },
     "execution_count": 46,
     "metadata": {},
     "output_type": "execute_result"
    }
   ],
   "source": [
    "df_estabelecimentos.distinct().count()"
   ]
  },
  {
   "cell_type": "markdown",
   "metadata": {},
   "source": [
    "#### Pergunta 2: Na tabela de estabelecimentos, quantas colunas existem e quantas são identificadas pelo spark como números? Use inferScehema ao ler os arquivos"
   ]
  },
  {
   "cell_type": "code",
   "execution_count": 47,
   "metadata": {},
   "outputs": [
    {
     "name": "stdout",
     "output_type": "stream",
     "text": [
      "30\n"
     ]
    }
   ],
   "source": [
    "num_columns = len(df_estabelecimentos.columns)\n",
    "print(num_columns)"
   ]
  },
  {
   "cell_type": "code",
   "execution_count": 48,
   "metadata": {},
   "outputs": [
    {
     "name": "stdout",
     "output_type": "stream",
     "text": [
      "root\n",
      " |-- CNPJ_BASICO: integer (nullable = true)\n",
      " |-- CNPJ_ORDEM: integer (nullable = true)\n",
      " |-- CNPJ_DV: integer (nullable = true)\n",
      " |-- IDENTIFICADOR_MATRIZ_FILIAL: integer (nullable = true)\n",
      " |-- NOME_FANTASIA: string (nullable = true)\n",
      " |-- SITUACAO_CADASTRAL: integer (nullable = true)\n",
      " |-- DATA_SITUACAO_CADASTRAL: integer (nullable = true)\n",
      " |-- MOTIVO_SITUACAO_CADASTRAL: integer (nullable = true)\n",
      " |-- NOME_DA_CIDADE_NO_EXTERIOR: string (nullable = true)\n",
      " |-- PAIS: integer (nullable = true)\n",
      " |-- DATA_INICIO_ATIVIDADE: integer (nullable = true)\n",
      " |-- CNAE: integer (nullable = true)\n",
      " |-- CNAE_SECUNDARIA: string (nullable = true)\n",
      " |-- TIPO_LOGRADOURO: string (nullable = true)\n",
      " |-- LOGRADOURO: string (nullable = true)\n",
      " |-- NUMERO: string (nullable = true)\n",
      " |-- COMPLEMENTO: string (nullable = true)\n",
      " |-- BAIRRO: string (nullable = true)\n",
      " |-- CEP: string (nullable = true)\n",
      " |-- UF: string (nullable = true)\n",
      " |-- MUNICIPIO: integer (nullable = true)\n",
      " |-- DDD_1: string (nullable = true)\n",
      " |-- TEL_1: string (nullable = true)\n",
      " |-- DDD_2: string (nullable = true)\n",
      " |-- TEL_2: string (nullable = true)\n",
      " |-- DDD_FAX: double (nullable = true)\n",
      " |-- FAX: string (nullable = true)\n",
      " |-- CORREIO_ELETRONICO: string (nullable = true)\n",
      " |-- SITUACAO_ESPECIAL: string (nullable = true)\n",
      " |-- DATA_SITUACAO_ESPECIAL: integer (nullable = true)\n",
      "\n"
     ]
    }
   ],
   "source": [
    "df_estabelecimentos.printSchema()"
   ]
  },
  {
   "cell_type": "code",
   "execution_count": 49,
   "metadata": {},
   "outputs": [
    {
     "name": "stdout",
     "output_type": "stream",
     "text": [
      "Number of numeric columns: 12\n"
     ]
    }
   ],
   "source": [
    "#count columns using list comprehension\n",
    "num_numeric_columns = len([col for col, dtype in df_estabelecimentos.dtypes if dtype in ('integer')])\n",
    "print(\"Number of numeric columns:\", num_numeric_columns)\n"
   ]
  },
  {
   "cell_type": "markdown",
   "metadata": {},
   "source": [
    "#### Pegunta 3: Usando estabelecimentos_df.write.parquet(\"estabelecimentos.parquet\"), compare o tamanho dos arquivos parquet com os arquivos CSV originais. A economia de espaço foi da ordem de?"
   ]
  },
  {
   "cell_type": "code",
   "execution_count": 56,
   "metadata": {},
   "outputs": [
    {
     "data": {
      "text/plain": [
       "3477650646"
      ]
     },
     "execution_count": 56,
     "metadata": {},
     "output_type": "execute_result"
    }
   ],
   "source": [
    "import os\n",
    "\n",
    "csv_size = os.path.getsize('/home/jovyan/data/estabelecimentos.csv/part-00000-19cf8ea9-9d03-4f1b-b407-9e1156e70fb2-c000.csv')\n",
    "csv_size"
   ]
  }
 ],
 "metadata": {
  "kernelspec": {
   "display_name": "base",
   "language": "python",
   "name": "python3"
  },
  "language_info": {
   "codemirror_mode": {
    "name": "ipython",
    "version": 3
   },
   "file_extension": ".py",
   "mimetype": "text/x-python",
   "name": "python",
   "nbconvert_exporter": "python",
   "pygments_lexer": "ipython3",
   "version": "3.11.6"
  }
 },
 "nbformat": 4,
 "nbformat_minor": 2
}
