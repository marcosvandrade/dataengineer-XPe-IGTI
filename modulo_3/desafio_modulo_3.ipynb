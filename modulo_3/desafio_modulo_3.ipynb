{
 "cells": [
  {
   "cell_type": "code",
   "execution_count": 2,
   "metadata": {},
   "outputs": [
    {
     "name": "stdout",
     "output_type": "stream",
     "text": [
      "3.5.0\n"
     ]
    }
   ],
   "source": [
    "#create a spark session\n",
    "from pyspark.sql import SparkSession\n",
    "spark = SparkSession.builder.appName(\"SparkSQL\").getOrCreate()\n",
    "\n",
    "#print spark version\n",
    "print(spark.version)"
   ]
  },
  {
   "cell_type": "code",
   "execution_count": 3,
   "metadata": {},
   "outputs": [
    {
     "name": "stdout",
     "output_type": "stream",
     "text": [
      "root\n",
      " |-- CNAE: integer (nullable = true)\n",
      " |-- DESCRICAO_CNAE: string (nullable = true)\n",
      "\n"
     ]
    }
   ],
   "source": [
    "#read CNAES data\n",
    "df_cnaes = spark.read.csv('/home/jovyan/data/cnaes.csv',\\\n",
    "                        header=True, inferSchema=True,\\\n",
    "                            sep=';', encoding='ISO-8859-1')\n",
    "#print the df_cnaes schema\n",
    "df_cnaes.printSchema()"
   ]
  },
  {
   "cell_type": "code",
   "execution_count": null,
   "metadata": {},
   "outputs": [],
   "source": [
    "#count the rows\n",
    "df_cnaes.count()"
   ]
  },
  {
   "cell_type": "code",
   "execution_count": null,
   "metadata": {},
   "outputs": [],
   "source": [
    "# show df_cnaes\n",
    "df_cnaes.show(5, truncate=False)"
   ]
  },
  {
   "cell_type": "code",
   "execution_count": 4,
   "metadata": {},
   "outputs": [],
   "source": [
    "#read dataset estabelecimentos\n",
    "df_estabelecimentos1 = spark.read.csv('/home/jovyan/data/estabelecimentos-1.csv',\\\n",
    "                        header=True, inferSchema=True, sep=';',\\\n",
    "                        encoding = 'ISO-8859-1')\n",
    "\n",
    "df_estabelecimentos2 = spark.read.csv('/home/jovyan/data/estabelecimentos-2.csv',\\\n",
    "                        header=True, inferSchema=True, sep=';',\\\n",
    "                        encoding = 'ISO-8859-1')\n",
    "\n",
    "df_estabelecimentos3 = spark.read.csv('/home/jovyan/data/estabelecimentos-3.csv',\\\n",
    "                        header=True, inferSchema=True, sep=';',\\\n",
    "                        encoding = 'ISO-8859-1')"
   ]
  },
  {
   "cell_type": "code",
   "execution_count": 5,
   "metadata": {},
   "outputs": [
    {
     "data": {
      "text/plain": [
       "<pyspark.sql.readwriter.DataFrameWriter at 0x7f613c09ef90>"
      ]
     },
     "execution_count": 5,
     "metadata": {},
     "output_type": "execute_result"
    }
   ],
   "source": [
    "#union csv files estabelecimentos-1, 2 e 3\n",
    "df_estabelecimentos = df_estabelecimentos1.union(df_estabelecimentos2).union(df_estabelecimentos3)\n",
    "df_estabelecimentos.coalesce(1).write.format(\"csv\")\\\n",
    "    .option(\"delimiter\", \";\")\\\n",
    "    .option(\"header\", \"true\")\n",
    "#    .save(\"/home/jovyan/data/estabelecimentos.csv\")"
   ]
  },
  {
   "cell_type": "code",
   "execution_count": null,
   "metadata": {},
   "outputs": [],
   "source": [
    "df_estabelecimentos.printSchema()"
   ]
  },
  {
   "cell_type": "code",
   "execution_count": 6,
   "metadata": {},
   "outputs": [],
   "source": [
    "#rename column 'CNAE_PRINCIPAL' to 'CNAE'\n",
    "df_estabelecimentos = df_estabelecimentos.withColumnRenamed('CNAE_PRINCIPAL','CNAE')"
   ]
  },
  {
   "cell_type": "code",
   "execution_count": null,
   "metadata": {},
   "outputs": [],
   "source": [
    "df_estabelecimentos.printSchema()"
   ]
  },
  {
   "cell_type": "code",
   "execution_count": null,
   "metadata": {},
   "outputs": [],
   "source": [
    "df_estabelecimentos.show(5, truncate=False)"
   ]
  },
  {
   "cell_type": "code",
   "execution_count": 7,
   "metadata": {},
   "outputs": [],
   "source": [
    "#left join estabelecimentos\n",
    "estabelecimento_cnaes = df_estabelecimentos.join(df_cnaes, on='CNAE', how='left')"
   ]
  },
  {
   "cell_type": "code",
   "execution_count": null,
   "metadata": {},
   "outputs": [],
   "source": [
    "estabelecimento_cnaes.show(5, truncate=False)"
   ]
  },
  {
   "cell_type": "code",
   "execution_count": null,
   "metadata": {},
   "outputs": [],
   "source": [
    "estabelecimento_cnaes.count()"
   ]
  },
  {
   "cell_type": "code",
   "execution_count": null,
   "metadata": {},
   "outputs": [],
   "source": [
    "df_estabelecimentos.count()"
   ]
  },
  {
   "cell_type": "markdown",
   "metadata": {},
   "source": [
    "#### Pergunta 1: Quantos estabelecimentos existem?"
   ]
  },
  {
   "cell_type": "code",
   "execution_count": null,
   "metadata": {},
   "outputs": [],
   "source": [
    "df_estabelecimentos.count()"
   ]
  },
  {
   "cell_type": "code",
   "execution_count": null,
   "metadata": {},
   "outputs": [],
   "source": [
    "df_estabelecimentos.distinct().count()"
   ]
  },
  {
   "cell_type": "markdown",
   "metadata": {},
   "source": [
    "#### Pergunta 2: Na tabela de estabelecimentos, quantas colunas existem e quantas são identificadas pelo spark como números? Use inferScehema ao ler os arquivos"
   ]
  },
  {
   "cell_type": "code",
   "execution_count": null,
   "metadata": {},
   "outputs": [],
   "source": [
    "num_columns = len(df_estabelecimentos.columns)\n",
    "print(num_columns)"
   ]
  },
  {
   "cell_type": "code",
   "execution_count": null,
   "metadata": {},
   "outputs": [],
   "source": [
    "df_estabelecimentos.printSchema()"
   ]
  },
  {
   "cell_type": "code",
   "execution_count": null,
   "metadata": {},
   "outputs": [],
   "source": [
    "#count columns using list comprehension\n",
    "num_numeric_columns = len([col for col, dtype in df_estabelecimentos.dtypes if dtype in ('integer')])\n",
    "print(\"Number of numeric columns:\", num_numeric_columns)\n"
   ]
  },
  {
   "cell_type": "markdown",
   "metadata": {},
   "source": [
    "#### Pegunta 3: Usando estabelecimentos_df.write.parquet(\"estabelecimentos.parquet\"), compare o tamanho dos arquivos parquet com os arquivos CSV originais. A economia de espaço foi da ordem de?"
   ]
  },
  {
   "cell_type": "code",
   "execution_count": null,
   "metadata": {},
   "outputs": [],
   "source": [
    "import os\n",
    "\n",
    "csv_size1 = os.path.getsize('/home/jovyan/data/estabelecimentos-1.csv')\n",
    "csv_size2 = os.path.getsize('/home/jovyan/data/estabelecimentos-2.csv')\n",
    "csv_size3 = os.path.getsize('/home/jovyan/data/estabelecimentos-3.csv')\n",
    "\n",
    "csv_size = csv_size1 + csv_size2 + csv_size3\n",
    "print(f'Tamanho do arquivo CSV: {csv_size} bytes')"
   ]
  },
  {
   "cell_type": "code",
   "execution_count": null,
   "metadata": {},
   "outputs": [],
   "source": [
    "df_estabelecimentos_size = df_estabelecimentos.count()\n",
    "df_estabelecimentos_size"
   ]
  },
  {
   "cell_type": "code",
   "execution_count": null,
   "metadata": {},
   "outputs": [],
   "source": [
    "#create parquet file\n",
    "df_estabelecimentos.write.mode(\"overwrite\").parquet(\"/home/jovyan/data/estabelecimentos.parquet\")"
   ]
  },
  {
   "cell_type": "code",
   "execution_count": null,
   "metadata": {},
   "outputs": [],
   "source": [
    "parquet_size = os.path.getsize(\"/home/jovyan/data/estabelecimentos.parquet\")\n",
    "parquet_size"
   ]
  },
  {
   "cell_type": "code",
   "execution_count": null,
   "metadata": {},
   "outputs": [],
   "source": [
    "size_difference = df_estabelecimentos_size - parquet_size\n",
    "percentage_difference = size_difference / df_estabelecimentos_size * 100\n",
    "print(\"Size difference:\", size_difference, \"bytes\")\n",
    "\n",
    "print(\"Parquet file is\", percentage_difference, \"% smaller than CSV file\")"
   ]
  },
  {
   "cell_type": "code",
   "execution_count": null,
   "metadata": {},
   "outputs": [],
   "source": [
    "estabelecimento_cnaes.show(5,truncate=False)"
   ]
  },
  {
   "cell_type": "markdown",
   "metadata": {},
   "source": [
    "#### Pergunta 4: Vamos usar Spark SQL para obter algumas contagens. Primeiro, vamos ver quantos estabelecimentos não tem logradouro cadastrado."
   ]
  },
  {
   "cell_type": "code",
   "execution_count": null,
   "metadata": {},
   "outputs": [],
   "source": [
    "df_estabelecimentos.createOrReplaceTempView(\"estabelecimentos\")"
   ]
  },
  {
   "cell_type": "code",
   "execution_count": null,
   "metadata": {},
   "outputs": [],
   "source": [
    "spark.sql(\"SELECT * FROM estabelecimentos\").show(5)"
   ]
  },
  {
   "cell_type": "code",
   "execution_count": null,
   "metadata": {},
   "outputs": [],
   "source": [
    "spark.sql(\"SELECT COUNT(*) FROM estabelecimentos\\\n",
    "            WHERE CNPJ_BASICO IS NULL\").show()"
   ]
  },
  {
   "cell_type": "code",
   "execution_count": null,
   "metadata": {},
   "outputs": [],
   "source": [
    "spark.sql(\"SELECT COUNT(*) FROM estabelecimentos\\\n",
    "            WHERE LOGRADOURO IS NULL\").show()"
   ]
  },
  {
   "cell_type": "markdown",
   "metadata": {},
   "source": [
    "#### Pergunta 5: Contar quantos estabelecimentos ficam localizados em uma avenida"
   ]
  },
  {
   "cell_type": "code",
   "execution_count": 8,
   "metadata": {},
   "outputs": [
    {
     "name": "stdout",
     "output_type": "stream",
     "text": [
      "+-----------+----------+-------+---------------------------+-------------+------------------+-----------------------+-------------------------+--------------------------+----+---------------------+-------+---------------+---------------+-----------------+------+---------------------------------+---------+--------+---+---------+-----+--------+-----+--------+-------+--------+---------------------------+-----------------+----------------------+\n",
      "|CNPJ_BASICO|CNPJ_ORDEM|CNPJ_DV|IDENTIFICADOR_MATRIZ_FILIAL|NOME_FANTASIA|SITUACAO_CADASTRAL|DATA_SITUACAO_CADASTRAL|MOTIVO_SITUACAO_CADASTRAL|NOME_DA_CIDADE_NO_EXTERIOR|PAIS|DATA_INICIO_ATIVIDADE|CNAE   |CNAE_SECUNDARIA|TIPO_LOGRADOURO|LOGRADOURO       |NUMERO|COMPLEMENTO                      |BAIRRO   |CEP     |UF |MUNICIPIO|DDD_1|TEL_1   |DDD_2|TEL_2   |DDD_FAX|FAX     |CORREIO_ELETRONICO         |SITUACAO_ESPECIAL|DATA_SITUACAO_ESPECIAL|\n",
      "+-----------+----------+-------+---------------------------+-------------+------------------+-----------------------+-------------------------+--------------------------+----+---------------------+-------+---------------+---------------+-----------------+------+---------------------------------+---------+--------+---+---------+-----+--------+-----+--------+-------+--------+---------------------------+-----------------+----------------------+\n",
      "|7396865    |1         |68     |1                          |NULL         |8                 |20170210               |1                        |NULL                      |NULL|20050518             |1412602|1411801        |RUA            |TUCANEIRA        |30    |NULL                             |DOS LAGOS|89136000|SC |8297     |47   |33851125|47   |33851125|47.0   |33851125|NULL                       |NULL             |NULL                  |\n",
      "|64904295   |18        |51     |2                          |NULL         |8                 |20161110               |1                        |NULL                      |NULL|20050429             |4639701|4637199        |AVENIDA        |MENINO MARCELO   |8551B |LOTE  2                   QUADRAF|SERRARIA |57046000|AL |2785     |11   |36491000|31   |33880436|82.0   |33118379|CLAUDIO.GIGLIO@CAMIL.COM.BR|NULL             |NULL                  |\n",
      "|76016369   |3         |16     |2                          |NULL         |3                 |20060203               |21                       |NULL                      |NULL|19851212             |4632001|NULL           |RUA            |DO COMERCIO      |55    |SALA 7 GALERIA                   |CENTRO   |11010141|SP |7071     |NULL |NULL    |NULL |NULL    |NULL   |NULL    |NULL                       |NULL             |NULL                  |\n",
      "|52302726   |1         |82     |1                          |NULL         |4                 |20210406               |63                       |NULL                      |NULL|19830223             |4712100|NULL           |RUA            |GREGORIO LUCHIARI|496   |NULL                             |SAO VITO |13472080|SP |6131     |NULL |NULL    |NULL |NULL    |NULL   |NULL    |NULL                       |NULL             |NULL                  |\n",
      "|7396923    |1         |53     |1                          |NULL         |8                 |20140115               |1                        |NULL                      |NULL|20050516             |4721102|NULL           |RUA            |DA MOOCA         |3336  |NULL                             |MOOCA    |3165000 |SP |7107     |011  |69658088|NULL |NULL    |NULL   |NULL    |NULL                       |NULL             |NULL                  |\n",
      "+-----------+----------+-------+---------------------------+-------------+------------------+-----------------------+-------------------------+--------------------------+----+---------------------+-------+---------------+---------------+-----------------+------+---------------------------------+---------+--------+---+---------+-----+--------+-----+--------+-------+--------+---------------------------+-----------------+----------------------+\n",
      "only showing top 5 rows\n",
      "\n"
     ]
    }
   ],
   "source": [
    "df_estabelecimentos.show(5,truncate=False)"
   ]
  },
  {
   "cell_type": "code",
   "execution_count": 9,
   "metadata": {},
   "outputs": [],
   "source": [
    "df_estabelecimentos.createOrReplaceTempView(\"estabelecimentos\")"
   ]
  },
  {
   "cell_type": "code",
   "execution_count": 10,
   "metadata": {},
   "outputs": [
    {
     "name": "stdout",
     "output_type": "stream",
     "text": [
      "+--------+\n",
      "|count(1)|\n",
      "+--------+\n",
      "|   52587|\n",
      "+--------+\n",
      "\n"
     ]
    }
   ],
   "source": [
    "spark.sql(\"SELECT COUNT(*) FROM estabelecimentos\\\n",
    "            WHERE LOGRADOURO IS NOT NULL\\\n",
    "            AND UPPER(LOGRADOURO) LIKE 'AVENIDA%'\").show()"
   ]
  },
  {
   "cell_type": "code",
   "execution_count": 13,
   "metadata": {},
   "outputs": [
    {
     "name": "stdout",
     "output_type": "stream",
     "text": [
      "+--------+\n",
      "|count(1)|\n",
      "+--------+\n",
      "|13755467|\n",
      "+--------+\n",
      "\n"
     ]
    }
   ],
   "source": [
    "spark.sql(\"SELECT COUNT(*) FROM estabelecimentos\\\n",
    "    WHERE UPPER(TIPO_LOGRADOURO) = 'RUA'\").show()"
   ]
  },
  {
   "cell_type": "code",
   "execution_count": 12,
   "metadata": {},
   "outputs": [
    {
     "name": "stdout",
     "output_type": "stream",
     "text": [
      "+--------+\n",
      "|count(1)|\n",
      "+--------+\n",
      "| 3972511|\n",
      "+--------+\n",
      "\n"
     ]
    }
   ],
   "source": [
    "spark.sql(\"SELECT COUNT(*) FROM estabelecimentos\\\n",
    "    WHERE UPPER(TIPO_LOGRADOURO) = 'AVENIDA'\").show()"
   ]
  },
  {
   "cell_type": "markdown",
   "metadata": {},
   "source": [
    "#### Pergunta 6: Quantos CEPs distintos existem entre os estabelecimentos?"
   ]
  },
  {
   "cell_type": "code",
   "execution_count": 16,
   "metadata": {},
   "outputs": [
    {
     "name": "stdout",
     "output_type": "stream",
     "text": [
      "+-----------+----------+-------+---------------------------+-------------+------------------+-----------------------+-------------------------+--------------------------+----+---------------------+-------+---------------+---------------+-----------------+------+--------------------+---------+--------+---+---------+-----+--------+-----+--------+-------+--------+--------------------+-----------------+----------------------+\n",
      "|CNPJ_BASICO|CNPJ_ORDEM|CNPJ_DV|IDENTIFICADOR_MATRIZ_FILIAL|NOME_FANTASIA|SITUACAO_CADASTRAL|DATA_SITUACAO_CADASTRAL|MOTIVO_SITUACAO_CADASTRAL|NOME_DA_CIDADE_NO_EXTERIOR|PAIS|DATA_INICIO_ATIVIDADE|   CNAE|CNAE_SECUNDARIA|TIPO_LOGRADOURO|       LOGRADOURO|NUMERO|         COMPLEMENTO|   BAIRRO|     CEP| UF|MUNICIPIO|DDD_1|   TEL_1|DDD_2|   TEL_2|DDD_FAX|     FAX|  CORREIO_ELETRONICO|SITUACAO_ESPECIAL|DATA_SITUACAO_ESPECIAL|\n",
      "+-----------+----------+-------+---------------------------+-------------+------------------+-----------------------+-------------------------+--------------------------+----+---------------------+-------+---------------+---------------+-----------------+------+--------------------+---------+--------+---+---------+-----+--------+-----+--------+-------+--------+--------------------+-----------------+----------------------+\n",
      "|    7396865|         1|     68|                          1|         NULL|                 8|               20170210|                        1|                      NULL|NULL|             20050518|1412602|        1411801|            RUA|        TUCANEIRA|    30|                NULL|DOS LAGOS|89136000| SC|     8297|   47|33851125|   47|33851125|   47.0|33851125|                NULL|             NULL|                  NULL|\n",
      "|   64904295|        18|     51|                          2|         NULL|                 8|               20161110|                        1|                      NULL|NULL|             20050429|4639701|        4637199|        AVENIDA|   MENINO MARCELO| 8551B|LOTE  2          ...| SERRARIA|57046000| AL|     2785|   11|36491000|   31|33880436|   82.0|33118379|CLAUDIO.GIGLIO@CA...|             NULL|                  NULL|\n",
      "|   76016369|         3|     16|                          2|         NULL|                 3|               20060203|                       21|                      NULL|NULL|             19851212|4632001|           NULL|            RUA|      DO COMERCIO|    55|      SALA 7 GALERIA|   CENTRO|11010141| SP|     7071| NULL|    NULL| NULL|    NULL|   NULL|    NULL|                NULL|             NULL|                  NULL|\n",
      "|   52302726|         1|     82|                          1|         NULL|                 4|               20210406|                       63|                      NULL|NULL|             19830223|4712100|           NULL|            RUA|GREGORIO LUCHIARI|   496|                NULL| SAO VITO|13472080| SP|     6131| NULL|    NULL| NULL|    NULL|   NULL|    NULL|                NULL|             NULL|                  NULL|\n",
      "|    7396923|         1|     53|                          1|         NULL|                 8|               20140115|                        1|                      NULL|NULL|             20050516|4721102|           NULL|            RUA|         DA MOOCA|  3336|                NULL|    MOOCA| 3165000| SP|     7107|  011|69658088| NULL|    NULL|   NULL|    NULL|                NULL|             NULL|                  NULL|\n",
      "+-----------+----------+-------+---------------------------+-------------+------------------+-----------------------+-------------------------+--------------------------+----+---------------------+-------+---------------+---------------+-----------------+------+--------------------+---------+--------+---+---------+-----+--------+-----+--------+-------+--------+--------------------+-----------------+----------------------+\n",
      "\n"
     ]
    }
   ],
   "source": [
    "spark.sql(\"SELECT * FROM estabelecimentos LIMIT 5\").show()"
   ]
  },
  {
   "cell_type": "code",
   "execution_count": null,
   "metadata": {},
   "outputs": [],
   "source": [
    "spark.sql(\"SELECT COUNT(*) FROM estabelecimentos\\\n",
    "            WHERE CEP IS NULL\").show()"
   ]
  },
  {
   "cell_type": "code",
   "execution_count": 14,
   "metadata": {},
   "outputs": [
    {
     "name": "stdout",
     "output_type": "stream",
     "text": [
      "+--------------+\n",
      "|CEPs_distintos|\n",
      "+--------------+\n",
      "|        958396|\n",
      "+--------------+\n",
      "\n"
     ]
    }
   ],
   "source": [
    "spark.sql(\"SELECT COUNT(DISTINCT CEP) AS CEPs_distintos\\\n",
    "            FROM estabelecimentos\\\n",
    "            WHERE CEP IS NOT NULL\").show()"
   ]
  },
  {
   "cell_type": "code",
   "execution_count": 17,
   "metadata": {},
   "outputs": [
    {
     "data": {
      "text/plain": [
       "958397"
      ]
     },
     "execution_count": 17,
     "metadata": {},
     "output_type": "execute_result"
    }
   ],
   "source": [
    "df_estabelecimentos.select('CEP').distinct().count()"
   ]
  },
  {
   "cell_type": "markdown",
   "metadata": {},
   "source": [
    "#### Pergunta 7: Quantos CNAEs existem na tabela de CNAES?"
   ]
  },
  {
   "cell_type": "code",
   "execution_count": null,
   "metadata": {},
   "outputs": [],
   "source": [
    "df_cnaes.createOrReplaceTempView(\"cnaes\")"
   ]
  },
  {
   "cell_type": "code",
   "execution_count": null,
   "metadata": {},
   "outputs": [],
   "source": [
    "spark.sql(\"SELECT * FROM cnaes\").show(5)"
   ]
  },
  {
   "cell_type": "code",
   "execution_count": null,
   "metadata": {},
   "outputs": [],
   "source": [
    "spark.sql(\"SELECT COUNT(CNAE) FROM cnaes\").show()"
   ]
  },
  {
   "cell_type": "markdown",
   "metadata": {},
   "source": [
    "#### Pergunta 8: Quantos estabelecimentos possuem um CNAE relacionado a cultivo?"
   ]
  },
  {
   "cell_type": "code",
   "execution_count": null,
   "metadata": {},
   "outputs": [],
   "source": [
    "estabelecimento_cnaes.createOrReplaceTempView(\"estabelecimento_cnaes\")"
   ]
  },
  {
   "cell_type": "code",
   "execution_count": null,
   "metadata": {},
   "outputs": [],
   "source": [
    "spark.sql(\"SELECT COUNT(*) FROM estabelecimento_cnaes\\\n",
    "            WHERE UPPER(DESCRICAO_CNAE) LIKE 'CULTIVO%'\").show()"
   ]
  },
  {
   "cell_type": "markdown",
   "metadata": {},
   "source": [
    "#### Pergunta 11: Quantos estabelecimentos são filiais?"
   ]
  },
  {
   "cell_type": "code",
   "execution_count": 21,
   "metadata": {},
   "outputs": [
    {
     "name": "stdout",
     "output_type": "stream",
     "text": [
      "root\n",
      " |-- CNPJ_BASICO: integer (nullable = true)\n",
      " |-- CNPJ_ORDEM: integer (nullable = true)\n",
      " |-- CNPJ_DV: integer (nullable = true)\n",
      " |-- IDENTIFICADOR_MATRIZ_FILIAL: integer (nullable = true)\n",
      " |-- NOME_FANTASIA: string (nullable = true)\n",
      " |-- SITUACAO_CADASTRAL: integer (nullable = true)\n",
      " |-- DATA_SITUACAO_CADASTRAL: integer (nullable = true)\n",
      " |-- MOTIVO_SITUACAO_CADASTRAL: integer (nullable = true)\n",
      " |-- NOME_DA_CIDADE_NO_EXTERIOR: string (nullable = true)\n",
      " |-- PAIS: integer (nullable = true)\n",
      " |-- DATA_INICIO_ATIVIDADE: integer (nullable = true)\n",
      " |-- CNAE: integer (nullable = true)\n",
      " |-- CNAE_SECUNDARIA: string (nullable = true)\n",
      " |-- TIPO_LOGRADOURO: string (nullable = true)\n",
      " |-- LOGRADOURO: string (nullable = true)\n",
      " |-- NUMERO: string (nullable = true)\n",
      " |-- COMPLEMENTO: string (nullable = true)\n",
      " |-- BAIRRO: string (nullable = true)\n",
      " |-- CEP: string (nullable = true)\n",
      " |-- UF: string (nullable = true)\n",
      " |-- MUNICIPIO: integer (nullable = true)\n",
      " |-- DDD_1: string (nullable = true)\n",
      " |-- TEL_1: string (nullable = true)\n",
      " |-- DDD_2: string (nullable = true)\n",
      " |-- TEL_2: string (nullable = true)\n",
      " |-- DDD_FAX: double (nullable = true)\n",
      " |-- FAX: string (nullable = true)\n",
      " |-- CORREIO_ELETRONICO: string (nullable = true)\n",
      " |-- SITUACAO_ESPECIAL: string (nullable = true)\n",
      " |-- DATA_SITUACAO_ESPECIAL: integer (nullable = true)\n",
      "\n"
     ]
    }
   ],
   "source": [
    "df_estabelecimentos.printSchema()"
   ]
  },
  {
   "cell_type": "code",
   "execution_count": 18,
   "metadata": {},
   "outputs": [
    {
     "name": "stdout",
     "output_type": "stream",
     "text": [
      "+-----------+----------+-------+---------------------------+-------------+------------------+-----------------------+-------------------------+--------------------------+----+---------------------+-------+---------------+---------------+-----------------+------+---------------------------------+---------+--------+---+---------+-----+--------+-----+--------+-------+--------+---------------------------+-----------------+----------------------+\n",
      "|CNPJ_BASICO|CNPJ_ORDEM|CNPJ_DV|IDENTIFICADOR_MATRIZ_FILIAL|NOME_FANTASIA|SITUACAO_CADASTRAL|DATA_SITUACAO_CADASTRAL|MOTIVO_SITUACAO_CADASTRAL|NOME_DA_CIDADE_NO_EXTERIOR|PAIS|DATA_INICIO_ATIVIDADE|CNAE   |CNAE_SECUNDARIA|TIPO_LOGRADOURO|LOGRADOURO       |NUMERO|COMPLEMENTO                      |BAIRRO   |CEP     |UF |MUNICIPIO|DDD_1|TEL_1   |DDD_2|TEL_2   |DDD_FAX|FAX     |CORREIO_ELETRONICO         |SITUACAO_ESPECIAL|DATA_SITUACAO_ESPECIAL|\n",
      "+-----------+----------+-------+---------------------------+-------------+------------------+-----------------------+-------------------------+--------------------------+----+---------------------+-------+---------------+---------------+-----------------+------+---------------------------------+---------+--------+---+---------+-----+--------+-----+--------+-------+--------+---------------------------+-----------------+----------------------+\n",
      "|7396865    |1         |68     |1                          |NULL         |8                 |20170210               |1                        |NULL                      |NULL|20050518             |1412602|1411801        |RUA            |TUCANEIRA        |30    |NULL                             |DOS LAGOS|89136000|SC |8297     |47   |33851125|47   |33851125|47.0   |33851125|NULL                       |NULL             |NULL                  |\n",
      "|64904295   |18        |51     |2                          |NULL         |8                 |20161110               |1                        |NULL                      |NULL|20050429             |4639701|4637199        |AVENIDA        |MENINO MARCELO   |8551B |LOTE  2                   QUADRAF|SERRARIA |57046000|AL |2785     |11   |36491000|31   |33880436|82.0   |33118379|CLAUDIO.GIGLIO@CAMIL.COM.BR|NULL             |NULL                  |\n",
      "|76016369   |3         |16     |2                          |NULL         |3                 |20060203               |21                       |NULL                      |NULL|19851212             |4632001|NULL           |RUA            |DO COMERCIO      |55    |SALA 7 GALERIA                   |CENTRO   |11010141|SP |7071     |NULL |NULL    |NULL |NULL    |NULL   |NULL    |NULL                       |NULL             |NULL                  |\n",
      "|52302726   |1         |82     |1                          |NULL         |4                 |20210406               |63                       |NULL                      |NULL|19830223             |4712100|NULL           |RUA            |GREGORIO LUCHIARI|496   |NULL                             |SAO VITO |13472080|SP |6131     |NULL |NULL    |NULL |NULL    |NULL   |NULL    |NULL                       |NULL             |NULL                  |\n",
      "|7396923    |1         |53     |1                          |NULL         |8                 |20140115               |1                        |NULL                      |NULL|20050516             |4721102|NULL           |RUA            |DA MOOCA         |3336  |NULL                             |MOOCA    |3165000 |SP |7107     |011  |69658088|NULL |NULL    |NULL   |NULL    |NULL                       |NULL             |NULL                  |\n",
      "+-----------+----------+-------+---------------------------+-------------+------------------+-----------------------+-------------------------+--------------------------+----+---------------------+-------+---------------+---------------+-----------------+------+---------------------------------+---------+--------+---+---------+-----+--------+-----+--------+-------+--------+---------------------------+-----------------+----------------------+\n",
      "only showing top 5 rows\n",
      "\n"
     ]
    }
   ],
   "source": [
    "df_estabelecimentos.show(5,truncate=False)"
   ]
  },
  {
   "cell_type": "code",
   "execution_count": 25,
   "metadata": {},
   "outputs": [
    {
     "data": {
      "text/plain": [
       "1093082"
      ]
     },
     "execution_count": 25,
     "metadata": {},
     "output_type": "execute_result"
    }
   ],
   "source": [
    "from pyspark.sql.functions import col\n",
    "\n",
    "df_estabelecimentos.select('IDENTIFICADOR_MATRIZ_FILIAL')\\\n",
    "    .where(col('IDENTIFICADOR_MATRIZ_FILIAL') == 2).count()"
   ]
  }
 ],
 "metadata": {
  "kernelspec": {
   "display_name": "base",
   "language": "python",
   "name": "python3"
  },
  "language_info": {
   "codemirror_mode": {
    "name": "ipython",
    "version": 3
   },
   "file_extension": ".py",
   "mimetype": "text/x-python",
   "name": "python",
   "nbconvert_exporter": "python",
   "pygments_lexer": "ipython3",
   "version": "3.11.6"
  }
 },
 "nbformat": 4,
 "nbformat_minor": 2
}
