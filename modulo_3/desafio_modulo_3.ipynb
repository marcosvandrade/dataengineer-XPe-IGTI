{
 "cells": [
  {
   "cell_type": "code",
   "execution_count": 17,
   "metadata": {},
   "outputs": [
    {
     "name": "stdout",
     "output_type": "stream",
     "text": [
      "3.5.0\n"
     ]
    }
   ],
   "source": [
    "#create a spark session\n",
    "from pyspark.sql import SparkSession\n",
    "spark = SparkSession.builder.appName(\"SparkSQL\").getOrCreate()\n",
    "\n",
    "#print spark version\n",
    "print(spark.version)"
   ]
  },
  {
   "cell_type": "code",
   "execution_count": 15,
   "metadata": {},
   "outputs": [
    {
     "name": "stdout",
     "output_type": "stream",
     "text": [
      "root\n",
      " |-- CNAE: integer (nullable = true)\n",
      " |-- DESCRICAO_CNAE: string (nullable = true)\n",
      "\n"
     ]
    }
   ],
   "source": [
    "#read CNAES data\n",
    "df_cnaes = spark.read.csv('/home/jovyan/data/cnaes.csv',\\\n",
    "                        header=True, inferSchema=True,\\\n",
    "                            sep=';', encoding='ISO-8859-1')\n",
    "#print the df_cnaes schema\n",
    "df_cnaes.printSchema()"
   ]
  },
  {
   "cell_type": "code",
   "execution_count": 18,
   "metadata": {},
   "outputs": [
    {
     "data": {
      "text/plain": [
       "1359"
      ]
     },
     "execution_count": 18,
     "metadata": {},
     "output_type": "execute_result"
    }
   ],
   "source": [
    "#count the rows\n",
    "df_cnaes.count()"
   ]
  },
  {
   "cell_type": "code",
   "execution_count": 20,
   "metadata": {},
   "outputs": [
    {
     "name": "stdout",
     "output_type": "stream",
     "text": [
      "+------+-----------------------------------------------------------------------------------+\n",
      "|CNAE  |DESCRICAO_CNAE                                                                     |\n",
      "+------+-----------------------------------------------------------------------------------+\n",
      "|111301|Cultivo de arroz                                                                   |\n",
      "|111302|Cultivo de milho                                                                   |\n",
      "|111303|Cultivo de trigo                                                                   |\n",
      "|111399|Cultivo de outros cereais não especificados anteriormente                          |\n",
      "|112101|Cultivo de algodão herbáceo                                                        |\n",
      "|112102|Cultivo de juta                                                                    |\n",
      "|112199|Cultivo de outras fibras de lavoura temporária não especificadas anteriormente     |\n",
      "|113000|Cultivo de cana-de-açúcar                                                          |\n",
      "|114800|Cultivo de fumo                                                                    |\n",
      "|115600|Cultivo de soja                                                                    |\n",
      "|116401|Cultivo de amendoim                                                                |\n",
      "|116402|Cultivo de girassol                                                                |\n",
      "|116403|Cultivo de mamona                                                                  |\n",
      "|116499|Cultivo de outras oleaginosas de lavoura temporária não especificadas anteriormente|\n",
      "|119901|Cultivo de abacaxi                                                                 |\n",
      "|119902|Cultivo de alho                                                                    |\n",
      "|119903|Cultivo de batata-inglesa                                                          |\n",
      "|119904|Cultivo de cebola                                                                  |\n",
      "|119905|Cultivo de feijão                                                                  |\n",
      "|119906|Cultivo de mandioca                                                                |\n",
      "+------+-----------------------------------------------------------------------------------+\n",
      "only showing top 20 rows\n",
      "\n"
     ]
    }
   ],
   "source": [
    "# show df_cnaes\n",
    "df_cnaes.show(truncate=False)"
   ]
  },
  {
   "cell_type": "code",
   "execution_count": 23,
   "metadata": {},
   "outputs": [],
   "source": [
    "#join dataset estabelecimentos\n",
    "df_estabelecimentos = spark.read.csv('/home/jovyan/data/estabelecimentos-1.csv',\\\n",
    "                        header=True, inferSchema=True, sep=';',\\\n",
    "                        encoding = 'ISO-8859-1')"
   ]
  },
  {
   "cell_type": "code",
   "execution_count": 22,
   "metadata": {},
   "outputs": [
    {
     "name": "stdout",
     "output_type": "stream",
     "text": [
      "+-----------+----------+-------+---------------------------+----------------------+------------------+-----------------------+-------------------------+--------------------------+----+---------------------+--------------+-----------------------+---------------+-------------------------------+------+---------------------------------+------------------+--------+---+---------+-----+--------+-----+--------+-------+--------+------------------------------+-----------------+----------------------+\n",
      "|CNPJ_BASICO|CNPJ_ORDEM|CNPJ_DV|IDENTIFICADOR_MATRIZ_FILIAL|NOME_FANTASIA         |SITUACAO_CADASTRAL|DATA_SITUACAO_CADASTRAL|MOTIVO_SITUACAO_CADASTRAL|NOME_DA_CIDADE_NO_EXTERIOR|PAIS|DATA_INICIO_ATIVIDADE|CNAE_PRINCIPAL|CNAE_SECUNDARIA        |TIPO_LOGRADOURO|LOGRADOURO                     |NUMERO|COMPLEMENTO                      |BAIRRO            |CEP     |UF |MUNICIPIO|DDD_1|TEL_1   |DDD_2|TEL_2   |DDD_FAX|FAX     |CORREIO_ELETRONICO            |SITUACAO_ESPECIAL|DATA_SITUACAO_ESPECIAL|\n",
      "+-----------+----------+-------+---------------------------+----------------------+------------------+-----------------------+-------------------------+--------------------------+----+---------------------+--------------+-----------------------+---------------+-------------------------------+------+---------------------------------+------------------+--------+---+---------+-----+--------+-----+--------+-------+--------+------------------------------+-----------------+----------------------+\n",
      "|7396865    |1         |68     |1                          |NULL                  |8                 |20170210               |1                        |NULL                      |NULL|20050518             |1412602       |1411801                |RUA            |TUCANEIRA                      |30    |NULL                             |DOS LAGOS         |89136000|SC |8297     |47   |33851125|47   |33851125|47.0   |33851125|NULL                          |NULL             |NULL                  |\n",
      "|64904295   |18        |51     |2                          |NULL                  |8                 |20161110               |1                        |NULL                      |NULL|20050429             |4639701       |4637199                |AVENIDA        |MENINO MARCELO                 |8551B |LOTE  2                   QUADRAF|SERRARIA          |57046000|AL |2785     |11   |36491000|31   |33880436|82.0   |33118379|CLAUDIO.GIGLIO@CAMIL.COM.BR   |NULL             |NULL                  |\n",
      "|76016369   |3         |16     |2                          |NULL                  |3                 |20060203               |21                       |NULL                      |NULL|19851212             |4632001       |NULL                   |RUA            |DO COMERCIO                    |55    |SALA 7 GALERIA                   |CENTRO            |11010141|SP |7071     |NULL |NULL    |NULL |NULL    |NULL   |NULL    |NULL                          |NULL             |NULL                  |\n",
      "|52302726   |1         |82     |1                          |NULL                  |4                 |20210406               |63                       |NULL                      |NULL|19830223             |4712100       |NULL                   |RUA            |GREGORIO LUCHIARI              |496   |NULL                             |SAO VITO          |13472080|SP |6131     |NULL |NULL    |NULL |NULL    |NULL   |NULL    |NULL                          |NULL             |NULL                  |\n",
      "|7396923    |1         |53     |1                          |NULL                  |8                 |20140115               |1                        |NULL                      |NULL|20050516             |4721102       |NULL                   |RUA            |DA MOOCA                       |3336  |NULL                             |MOOCA             |3165000 |SP |7107     |011  |69658088|NULL |NULL    |NULL   |NULL    |NULL                          |NULL             |NULL                  |\n",
      "|3650261    |1         |45     |1                          |OTICA PERFEICAO       |4                 |20190322               |63                       |NULL                      |NULL|19991217             |4783101       |4783102                |RUA            |PREFEITO JOAO ORESTES DE ARAUJO|541   |LOJA 03                          |CENTRO            |88495000|SC |8113     |048  |2423953 |NULL |NULL    |48.0   |2423953 |NULL                          |NULL             |NULL                  |\n",
      "|7396929    |1         |20     |1                          |NULL                  |3                 |20111107               |21                       |NULL                      |NULL|20050504             |6201501       |6204000                |RUA            |FLORIANO PEIXOTO,              |85    |NULL                             |SANTA PAULA       |9541350 |SP |7077     |11   |32281722|NULL |NULL    |11.0   |32281722|NULL                          |NULL             |NULL                  |\n",
      "|25040718   |1         |32     |1                          |COOCULTURA LTDA       |8                 |20050523               |1                        |NULL                      |NULL|19910823             |6424701       |NULL                   |RUA            |ROSULINO FERREIRA GUIMA        |767   |NULL                             |CENTRO            |75902261|GO |9571     |NULL |NULL    |NULL |NULL    |NULL   |NULL    |NULL                          |NULL             |NULL                  |\n",
      "|7396936    |1         |22     |1                          |NULL                  |8                 |20051219               |1                        |NULL                      |NULL|20050525             |4511102       |NULL                   |AVENIDA        |DOM PEDRO II                   |1748  |NULL                             |CARLOS PRATES     |30710010|MG |4123     |NULL |NULL    |NULL |NULL    |NULL   |NULL    |NULL                          |NULL             |NULL                  |\n",
      "|7396943    |1         |24     |1                          |MEGA TELECOM          |8                 |20170217               |1                        |NULL                      |NULL|20050524             |4752100       |9512600                |AVENIDA        |PARANA                         |465   |NULL                             |CENTRO            |83800000|PR |7679     |NULL |NULL    |NULL |NULL    |NULL   |NULL    |NULL                          |NULL             |NULL                  |\n",
      "|5916377    |1         |9      |1                          |ROCHA PECAS & SERVICOS|4                 |20181121               |63                       |NULL                      |NULL|20030930             |4530704       |4930202,4520001        |AVENIDA        |SENADOR RUI PALMEIRA           |26    |NULL                             |LEVADA            |57017175|AL |2785     |82   |32232804|NULL |NULL    |NULL   |NULL    |contador_waldomiro@hotmail.com|NULL             |NULL                  |\n",
      "|4138487    |2         |5      |2                          |BRENNY'S              |4                 |20181025               |63                       |NULL                      |NULL|20020415             |4781400       |NULL                   |RODOVIA        |BR-104                         |SN    |KM 32, LOJA 76                   |PARQUE DAS FEIRAS |55125000|PE |2607     |NULL |NULL    |NULL |NULL    |NULL   |NULL    |NULL                          |NULL             |NULL                  |\n",
      "|4208132    |2         |45     |2                          |NULL                  |4                 |20181010               |63                       |NULL                      |NULL|20040331             |9491000       |NULL                   |AVENIDA        |GETULIO VARGAS                 |283   |S, SL 11, ED Q.AVE               |CENTRO            |89801001|SC |8081     |NULL |NULL    |NULL |NULL    |NULL   |NULL    |NULL                          |NULL             |NULL                  |\n",
      "|5111469    |1         |11     |1                          |NULL                  |2                 |20051103               |0                        |NULL                      |NULL|20020614             |8299706       |NULL                   |AVENIDA        |AFONSO PENA                    |270   |QUIOSQUE 1                       |MACUCO            |11020001|SP |7071     |NULL |NULL    |NULL |NULL    |NULL   |NULL    |NULL                          |NULL             |NULL                  |\n",
      "|5304262    |1         |63     |1                          |NULL                  |8                 |20070503               |1                        |NULL                      |NULL|20020919             |3102100       |NULL                   |RUA            |COMENDADOR JOSE ANTONIO ZANETTI|1633  |NULL                             |TAMANDARE         |95720000|RS |8669     |NULL |NULL    |NULL |NULL    |NULL   |NULL    |NULL                          |NULL             |NULL                  |\n",
      "|2418055    |1         |41     |1                          |AUTO ELETRICA TITON   |8                 |20160302               |1                        |NULL                      |NULL|19980311             |4520001       |4520002,4520003,4520004|RUA            |JOAO ZARDO                     |385   |NULL                             |ALVORADA          |89560000|SC |8379     |NULL |5332758 |NULL |NULL    |NULL   |NULL    |NULL                          |NULL             |NULL                  |\n",
      "|4265986    |1         |82     |1                          |NULL                  |2                 |20001110               |0                        |NULL                      |NULL|20001110             |8112500       |NULL                   |RUA            |GOES MONTEIRO                  |500   |NULL                             |SAO FRANCISCO     |95700010|RS |8541     |NULL |NULL    |NULL |NULL    |NULL   |NULL    |NULL                          |NULL             |NULL                  |\n",
      "|80636061   |1         |89     |1                          |NULL                  |8                 |20140929               |1                        |NULL                      |NULL|19920717             |9430800       |9493600,9499500        |VILA           |SANTA LUCIA                    |SN    |NULL                             |SANTA LUCIA       |89887000|SC |8237     |NULL |NULL    |NULL |NULL    |NULL   |NULL    |NULL                          |NULL             |NULL                  |\n",
      "|41409616   |1         |6      |1                          |CONDOMINIO ANA MELO   |2                 |19990904               |0                        |NULL                      |NULL|19920609             |8112500       |NULL                   |RUA            |JOAO MELO                      |729   |NULL                             |DAMAS             |60426055|CE |1389     |NULL |NULL    |NULL |NULL    |NULL   |NULL    |NULL                          |NULL             |NULL                  |\n",
      "|7396996    |1         |45     |1                          |SERRARIA SANTA JULIA  |8                 |20150209               |73                       |NULL                      |NULL|20050525             |4671100       |NULL                   |NULL           |IGARAPE GONZAGA                |S/N   |NULL                             |RETIRO SANTA JULIA|68976000|AP |669      |96   |2229139 |NULL |NULL    |96.0   |2239808 |ad.controle@tvsom.com.br      |NULL             |NULL                  |\n",
      "+-----------+----------+-------+---------------------------+----------------------+------------------+-----------------------+-------------------------+--------------------------+----+---------------------+--------------+-----------------------+---------------+-------------------------------+------+---------------------------------+------------------+--------+---+---------+-----+--------+-----+--------+-------+--------+------------------------------+-----------------+----------------------+\n",
      "only showing top 20 rows\n",
      "\n"
     ]
    }
   ],
   "source": [
    "df_estabelecimentos.show(truncate=False)"
   ]
  },
  {
   "cell_type": "code",
   "execution_count": null,
   "metadata": {},
   "outputs": [],
   "source": []
  }
 ],
 "metadata": {
  "kernelspec": {
   "display_name": "base",
   "language": "python",
   "name": "python3"
  },
  "language_info": {
   "codemirror_mode": {
    "name": "ipython",
    "version": 3
   },
   "file_extension": ".py",
   "mimetype": "text/x-python",
   "name": "python",
   "nbconvert_exporter": "python",
   "pygments_lexer": "ipython3",
   "version": "3.11.6"
  }
 },
 "nbformat": 4,
 "nbformat_minor": 2
}
