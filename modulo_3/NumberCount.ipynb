{
 "cells": [
  {
   "cell_type": "code",
   "execution_count": 1,
   "metadata": {},
   "outputs": [],
   "source": [
    "from pyspark.sql import SparkSession"
   ]
  },
  {
   "cell_type": "code",
   "execution_count": 2,
   "metadata": {},
   "outputs": [],
   "source": [
    "# Spark entry point\n",
    "spark = SparkSession \\\n",
    "    .builder \\\n",
    "    .appName(\"Engenharia de Dados - Tecnologia de Big Data - Aula 2.2\") \\\n",
    "    .getOrCreate()"
   ]
  },
  {
   "cell_type": "code",
   "execution_count": 3,
   "metadata": {},
   "outputs": [
    {
     "data": {
      "text/plain": [
       "'3.5.0'"
      ]
     },
     "execution_count": 3,
     "metadata": {},
     "output_type": "execute_result"
    }
   ],
   "source": [
    "spark.version"
   ]
  },
  {
   "cell_type": "code",
   "execution_count": 15,
   "metadata": {},
   "outputs": [
    {
     "name": "stdout",
     "output_type": "stream",
     "text": [
      "Number of partitions: 9\n"
     ]
    }
   ],
   "source": [
    "filename = 'file:///home/jovyan/numbers.txt'\n",
    "\n",
    "linesRdd = spark.read.text(filename).rdd.map(lambda r: r[0])\n",
    "print(\"Number of partitions: {}\".format(linesRdd.getNumPartitions()))\n"
   ]
  },
  {
   "cell_type": "code",
   "execution_count": 16,
   "metadata": {},
   "outputs": [
    {
     "name": "stdout",
     "output_type": "stream",
     "text": [
      "The end\n"
     ]
    }
   ],
   "source": [
    "from operator import add\n",
    "\n",
    "countsRdd = linesRdd.sample(False, 0.01) \\\n",
    "                    .flatMap(lambda line: line.split(' ')) \\\n",
    "                    .filter(lambda number: int(number) % 2 == 0) \\\n",
    "                    .map(lambda number: (number, 1)) \\\n",
    "                    .reduceByKey(add)\n",
    "    \n",
    "print('The end')"
   ]
  },
  {
   "cell_type": "code",
   "execution_count": 17,
   "metadata": {},
   "outputs": [
    {
     "name": "stdout",
     "output_type": "stream",
     "text": [
      "4 500687\n",
      "6 499444\n",
      "10 500119\n",
      "0 501682\n",
      "8 500162\n",
      "2 500592\n"
     ]
    }
   ],
   "source": [
    "output = countsRdd.collect()\n",
    "for (number, count) in output:\n",
    "    print(number, count)"
   ]
  }
 ],
 "metadata": {
  "kernelspec": {
   "display_name": "XPe-IGTI",
   "language": "python",
   "name": "python3"
  },
  "language_info": {
   "codemirror_mode": {
    "name": "ipython",
    "version": 3
   },
   "file_extension": ".py",
   "mimetype": "text/x-python",
   "name": "python",
   "nbconvert_exporter": "python",
   "pygments_lexer": "ipython3",
   "version": "3.11.6"
  }
 },
 "nbformat": 4,
 "nbformat_minor": 2
}
