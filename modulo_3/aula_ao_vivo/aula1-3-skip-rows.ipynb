{
 "cells": [
  {
   "cell_type": "code",
   "execution_count": 26,
   "metadata": {
    "application/vnd.databricks.v1+cell": {
     "inputWidgets": {},
     "nuid": "3c89ccd9-3488-4251-9eac-f61997825486",
     "showTitle": false,
     "title": ""
    }
   },
   "outputs": [
    {
     "name": "stdout",
     "output_type": "stream",
     "text": [
      "+---------------+\n",
      "|pre-cabecalho-1|\n",
      "+---------------+\n",
      "|pre-cabecalho-2|\n",
      "|pre-cabecalho-3|\n",
      "|             id|\n",
      "|              1|\n",
      "|              2|\n",
      "|              3|\n",
      "|              4|\n",
      "|              5|\n",
      "+---------------+\n",
      "\n"
     ]
    }
   ],
   "source": [
    "# https://www.youtube.com/watch?v=4eFaWM6m-wk\n",
    "\n",
    "from pyspark.sql import SparkSession\n",
    "\n",
    "spark = SparkSession \\\n",
    "   .builder  \\\n",
    "   .appName(\"Aula Interativa 1 - Engenharia de Dados - Apache Spark\") \\\n",
    "   .getOrCreate()\n",
    "\n",
    "df = spark.read.csv(\"arquivos/aula1-2-skip-rows.csv\",header=True)\n",
    "\n",
    "df.show()"
   ]
  },
  {
   "cell_type": "code",
   "execution_count": 27,
   "metadata": {
    "application/vnd.databricks.v1+cell": {
     "inputWidgets": {},
     "nuid": "a620bcbb-dcd8-45d5-a2fe-b2bbfd0fffbd",
     "showTitle": false,
     "title": ""
    }
   },
   "outputs": [
    {
     "data": {
      "text/plain": [
       "['pre-cabecalho-1',\n",
       " 'pre-cabecalho-2',\n",
       " 'pre-cabecalho-3',\n",
       " 'id,nome,cidade',\n",
       " '1,pedro,belo horizonte',\n",
       " '2,maria,rio de janeiro',\n",
       " '3,josé,são paulo',\n",
       " '4,ricardo,fortaleza',\n",
       " '5,samuel,salvador']"
      ]
     },
     "execution_count": 27,
     "metadata": {},
     "output_type": "execute_result"
    }
   ],
   "source": [
    "rdd = spark.sparkContext.textFile(\"arquivos/aula1-2-skip-rows.csv\")\n",
    "rdd.collect()"
   ]
  },
  {
   "cell_type": "code",
   "execution_count": 28,
   "metadata": {
    "application/vnd.databricks.v1+cell": {
     "inputWidgets": {},
     "nuid": "0135d973-5758-4b53-b7f1-daca91d3b785",
     "showTitle": false,
     "title": ""
    }
   },
   "outputs": [
    {
     "data": {
      "text/plain": [
       "[['id', 'nome', 'cidade'],\n",
       " ['1', 'pedro', 'belo horizonte'],\n",
       " ['2', 'maria', 'rio de janeiro'],\n",
       " ['3', 'josé', 'são paulo'],\n",
       " ['4', 'ricardo', 'fortaleza'],\n",
       " ['5', 'samuel', 'salvador']]"
      ]
     },
     "execution_count": 28,
     "metadata": {},
     "output_type": "execute_result"
    }
   ],
   "source": [
    "final_rdd = rdd.zipWithIndex().filter(lambda x: x[1] > 2).map(lambda a :a[0].split(\",\"))\n",
    "final_rdd.collect()"
   ]
  },
  {
   "cell_type": "code",
   "execution_count": 29,
   "metadata": {
    "application/vnd.databricks.v1+cell": {
     "inputWidgets": {},
     "nuid": "6939ebae-2763-4a03-a15c-c087c6561bd5",
     "showTitle": false,
     "title": ""
    }
   },
   "outputs": [
    {
     "data": {
      "text/plain": [
       "['id', 'nome', 'cidade']"
      ]
     },
     "execution_count": 29,
     "metadata": {},
     "output_type": "execute_result"
    }
   ],
   "source": [
    "# get columns into list to create DataFrame\n",
    "columns = final_rdd.collect()[0]\n",
    "columns"
   ]
  },
  {
   "cell_type": "code",
   "execution_count": 30,
   "metadata": {
    "application/vnd.databricks.v1+cell": {
     "inputWidgets": {},
     "nuid": "461f0606-640d-4abc-9300-1de311645c9a",
     "showTitle": false,
     "title": ""
    }
   },
   "outputs": [
    {
     "data": {
      "text/plain": [
       "[['1', 'pedro', 'belo horizonte'],\n",
       " ['2', 'maria', 'rio de janeiro'],\n",
       " ['3', 'josé', 'são paulo'],\n",
       " ['4', 'ricardo', 'fortaleza'],\n",
       " ['5', 'samuel', 'salvador']]"
      ]
     },
     "execution_count": 30,
     "metadata": {},
     "output_type": "execute_result"
    }
   ],
   "source": [
    "# skip header/columns from data \n",
    "\n",
    "columns = final_rdd.first() #extract header for filter that row\n",
    "data = final_rdd.filter(lambda col: col != columns)   #filter out header\n",
    "data.collect()"
   ]
  },
  {
   "cell_type": "code",
   "execution_count": 31,
   "metadata": {
    "application/vnd.databricks.v1+cell": {
     "inputWidgets": {},
     "nuid": "d4da84e8-1192-4e45-a14d-ea3c462b94c9",
     "showTitle": false,
     "title": ""
    }
   },
   "outputs": [
    {
     "name": "stdout",
     "output_type": "stream",
     "text": [
      "+---+-------+--------------+\n",
      "| id|   nome|        cidade|\n",
      "+---+-------+--------------+\n",
      "|  1|  pedro|belo horizonte|\n",
      "|  2|  maria|rio de janeiro|\n",
      "|  3|   josé|     são paulo|\n",
      "|  4|ricardo|     fortaleza|\n",
      "|  5| samuel|      salvador|\n",
      "+---+-------+--------------+\n",
      "\n"
     ]
    }
   ],
   "source": [
    "data.toDF(columns).show()"
   ]
  }
 ],
 "metadata": {
  "application/vnd.databricks.v1+notebook": {
   "dashboards": [],
   "language": "python",
   "notebookMetadata": {
    "pythonIndentUnit": 4
   },
   "notebookName": "skip first few rows while creating pyspark dataframe",
   "notebookOrigID": 570886976656679,
   "widgets": {}
  },
  "kernelspec": {
   "display_name": "Python 3 (ipykernel)",
   "language": "python",
   "name": "python3"
  },
  "language_info": {
   "codemirror_mode": {
    "name": "ipython",
    "version": 3
   },
   "file_extension": ".py",
   "mimetype": "text/x-python",
   "name": "python",
   "nbconvert_exporter": "python",
   "pygments_lexer": "ipython3",
   "version": "3.10.6"
  }
 },
 "nbformat": 4,
 "nbformat_minor": 1
}
