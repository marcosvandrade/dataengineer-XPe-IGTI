{
 "cells": [
  {
   "cell_type": "code",
   "execution_count": 5,
   "id": "a7836d42",
   "metadata": {},
   "outputs": [
    {
     "data": {
      "text/plain": [
       "'3.2.1'"
      ]
     },
     "execution_count": 5,
     "metadata": {},
     "output_type": "execute_result"
    }
   ],
   "source": [
    "from pyspark.sql import SparkSession\n",
    "\n",
    "spark = SparkSession \\\n",
    "    .builder \\\n",
    "    .appName(\"Aula 2.5\") \\\n",
    "    .getOrCreate()\n",
    "\n",
    "spark.version"
   ]
  },
  {
   "cell_type": "code",
   "execution_count": 6,
   "id": "c4415d2c",
   "metadata": {},
   "outputs": [
    {
     "data": {
      "text/plain": [
       "4131689"
      ]
     },
     "execution_count": 6,
     "metadata": {},
     "output_type": "execute_result"
    }
   ],
   "source": [
    "linesRdd = spark.sparkContext.textFile(\"numbers_short.txt\")\n",
    "\n",
    "largeLinesRdd = linesRdd.filter(lambda line: len(line) > 10)\n",
    "\n",
    "largeLinesRdd.count()"
   ]
  },
  {
   "cell_type": "code",
   "execution_count": 7,
   "id": "6699aab3",
   "metadata": {},
   "outputs": [
    {
     "data": {
      "text/plain": [
       "2894723"
      ]
     },
     "execution_count": 7,
     "metadata": {},
     "output_type": "execute_result"
    }
   ],
   "source": [
    "largeLinesRdd.distinct().count()"
   ]
  },
  {
   "cell_type": "code",
   "execution_count": 8,
   "id": "7713860f",
   "metadata": {},
   "outputs": [
    {
     "data": {
      "text/plain": [
       "2894723"
      ]
     },
     "execution_count": 8,
     "metadata": {},
     "output_type": "execute_result"
    }
   ],
   "source": [
    "largeLinesRdd.cache()\n",
    "largeLinesRdd.distinct().count()"
   ]
  },
  {
   "cell_type": "code",
   "execution_count": 9,
   "id": "6ebd24b8",
   "metadata": {},
   "outputs": [
    {
     "data": {
      "text/plain": [
       "2894723"
      ]
     },
     "execution_count": 9,
     "metadata": {},
     "output_type": "execute_result"
    }
   ],
   "source": [
    "largeLinesRdd.distinct().count()"
   ]
  },
  {
   "cell_type": "code",
   "execution_count": null,
   "id": "5a06bbc0",
   "metadata": {},
   "outputs": [],
   "source": []
  }
 ],
 "metadata": {
  "kernelspec": {
   "display_name": "Python 3 (ipykernel)",
   "language": "python",
   "name": "python3"
  },
  "language_info": {
   "codemirror_mode": {
    "name": "ipython",
    "version": 3
   },
   "file_extension": ".py",
   "mimetype": "text/x-python",
   "name": "python",
   "nbconvert_exporter": "python",
   "pygments_lexer": "ipython3",
   "version": "3.10.6"
  }
 },
 "nbformat": 4,
 "nbformat_minor": 5
}
