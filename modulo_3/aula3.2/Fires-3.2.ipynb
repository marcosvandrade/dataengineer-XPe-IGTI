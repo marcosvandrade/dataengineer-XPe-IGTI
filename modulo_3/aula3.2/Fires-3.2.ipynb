{
 "cells": [
  {
   "cell_type": "code",
   "execution_count": 4,
   "id": "2ab56561",
   "metadata": {},
   "outputs": [
    {
     "data": {
      "text/plain": [
       "'3.2.1'"
      ]
     },
     "execution_count": 4,
     "metadata": {},
     "output_type": "execute_result"
    }
   ],
   "source": [
    "# https://data.sfgov.org/Public-Safety/Fire-Department-Calls-for-Service/nuek-vuh3\n",
    "# https://www.databricks.com/notebooks/gallery/SanFranciscoFireCallsAnalysis.html\n",
    "# Download aqui: # https://raw.githubusercontent.com/databricks/LearningSparkV2/master/chapter3/data/sf-fire-calls.csv\n",
    "\n",
    "from pyspark.sql import SparkSession\n",
    "\n",
    "spark = SparkSession \\\n",
    "    .builder \\\n",
    "    .appName(\"Aula 3.2\") \\\n",
    "    .getOrCreate()\n",
    "\n",
    "spark.version"
   ]
  },
  {
   "cell_type": "code",
   "execution_count": 5,
   "id": "bdd17ea8",
   "metadata": {},
   "outputs": [
    {
     "name": "stdout",
     "output_type": "stream",
     "text": [
      "root\n",
      " |-- CallNumber: integer (nullable = true)\n",
      " |-- UnitID: string (nullable = true)\n",
      " |-- IncidentNumber: integer (nullable = true)\n",
      " |-- CallType: string (nullable = true)\n",
      " |-- CallDate: string (nullable = true)\n",
      " |-- WatchDate: string (nullable = true)\n",
      " |-- CallFinalDisposition: string (nullable = true)\n",
      " |-- AvailableDtTm: string (nullable = true)\n",
      " |-- Address: string (nullable = true)\n",
      " |-- City: string (nullable = true)\n",
      " |-- Zipcode: integer (nullable = true)\n",
      " |-- Battalion: string (nullable = true)\n",
      " |-- StationArea: string (nullable = true)\n",
      " |-- Box: string (nullable = true)\n",
      " |-- OriginalPriority: string (nullable = true)\n",
      " |-- Priority: string (nullable = true)\n",
      " |-- FinalPriority: integer (nullable = true)\n",
      " |-- ALSUnit: boolean (nullable = true)\n",
      " |-- CallTypeGroup: string (nullable = true)\n",
      " |-- NumAlarms: integer (nullable = true)\n",
      " |-- UnitType: string (nullable = true)\n",
      " |-- UnitSequenceInCallDispatch: integer (nullable = true)\n",
      " |-- FirePreventionDistrict: string (nullable = true)\n",
      " |-- SupervisorDistrict: string (nullable = true)\n",
      " |-- Neighborhood: string (nullable = true)\n",
      " |-- Location: string (nullable = true)\n",
      " |-- RowID: string (nullable = true)\n",
      " |-- Delay: double (nullable = true)\n",
      "\n"
     ]
    }
   ],
   "source": [
    "fire_df = spark.read.csv('sf-fire-calls.csv', header=True, inferSchema=True)\n",
    "\n",
    "fire_df.printSchema()"
   ]
  },
  {
   "cell_type": "code",
   "execution_count": 6,
   "id": "fd1c4c43",
   "metadata": {},
   "outputs": [
    {
     "data": {
      "text/plain": [
       "[Row(CallNumber=20110016, UnitID='T13', IncidentNumber=2003235, CallType='Structure Fire', CallDate='01/11/2002', WatchDate='01/10/2002', CallFinalDisposition='Other', AvailableDtTm='01/11/2002 01:51:44 AM', Address='2000 Block of CALIFORNIA ST', City='SF', Zipcode=94109, Battalion='B04', StationArea='38', Box='3362', OriginalPriority='3', Priority='3', FinalPriority=3, ALSUnit=False, CallTypeGroup=None, NumAlarms=1, UnitType='TRUCK', UnitSequenceInCallDispatch=2, FirePreventionDistrict='4', SupervisorDistrict='5', Neighborhood='Pacific Heights', Location='(37.7895840679362, -122.428071912459)', RowID='020110016-T13', Delay=2.95),\n",
       " Row(CallNumber=20110022, UnitID='M17', IncidentNumber=2003241, CallType='Medical Incident', CallDate='01/11/2002', WatchDate='01/10/2002', CallFinalDisposition='Other', AvailableDtTm='01/11/2002 03:01:18 AM', Address='0 Block of SILVERVIEW DR', City='SF', Zipcode=94124, Battalion='B10', StationArea='42', Box='6495', OriginalPriority='3', Priority='3', FinalPriority=3, ALSUnit=True, CallTypeGroup=None, NumAlarms=1, UnitType='MEDIC', UnitSequenceInCallDispatch=1, FirePreventionDistrict='10', SupervisorDistrict='10', Neighborhood='Bayview Hunters Point', Location='(37.7337623673897, -122.396113802632)', RowID='020110022-M17', Delay=4.7),\n",
       " Row(CallNumber=20110023, UnitID='M41', IncidentNumber=2003242, CallType='Medical Incident', CallDate='01/11/2002', WatchDate='01/10/2002', CallFinalDisposition='Other', AvailableDtTm='01/11/2002 02:39:50 AM', Address='MARKET ST/MCALLISTER ST', City='SF', Zipcode=94102, Battalion='B03', StationArea='01', Box='1455', OriginalPriority='3', Priority='3', FinalPriority=3, ALSUnit=True, CallTypeGroup=None, NumAlarms=1, UnitType='MEDIC', UnitSequenceInCallDispatch=2, FirePreventionDistrict='3', SupervisorDistrict='6', Neighborhood='Tenderloin', Location='(37.7811772186856, -122.411699931232)', RowID='020110023-M41', Delay=2.4333334),\n",
       " Row(CallNumber=20110032, UnitID='E11', IncidentNumber=2003250, CallType='Vehicle Fire', CallDate='01/11/2002', WatchDate='01/10/2002', CallFinalDisposition='Other', AvailableDtTm='01/11/2002 04:16:46 AM', Address='APPLETON AV/MISSION ST', City='SF', Zipcode=94110, Battalion='B06', StationArea='32', Box='5626', OriginalPriority='3', Priority='3', FinalPriority=3, ALSUnit=False, CallTypeGroup=None, NumAlarms=1, UnitType='ENGINE', UnitSequenceInCallDispatch=1, FirePreventionDistrict='6', SupervisorDistrict='9', Neighborhood='Bernal Heights', Location='(37.7388432849018, -122.423948785199)', RowID='020110032-E11', Delay=1.5),\n",
       " Row(CallNumber=20110043, UnitID='B04', IncidentNumber=2003259, CallType='Alarms', CallDate='01/11/2002', WatchDate='01/10/2002', CallFinalDisposition='Other', AvailableDtTm='01/11/2002 06:01:58 AM', Address='1400 Block of SUTTER ST', City='SF', Zipcode=94109, Battalion='B04', StationArea='03', Box='3223', OriginalPriority='3', Priority='3', FinalPriority=3, ALSUnit=False, CallTypeGroup=None, NumAlarms=1, UnitType='CHIEF', UnitSequenceInCallDispatch=2, FirePreventionDistrict='4', SupervisorDistrict='2', Neighborhood='Western Addition', Location='(37.7872890372638, -122.424236212664)', RowID='020110043-B04', Delay=3.4833333)]"
      ]
     },
     "execution_count": 6,
     "metadata": {},
     "output_type": "execute_result"
    }
   ],
   "source": [
    "fire_df.head(5)"
   ]
  },
  {
   "cell_type": "code",
   "execution_count": 7,
   "id": "dc41c6c2",
   "metadata": {},
   "outputs": [
    {
     "data": {
      "text/plain": [
       "175296"
      ]
     },
     "execution_count": 7,
     "metadata": {},
     "output_type": "execute_result"
    }
   ],
   "source": [
    "fire_df.count()"
   ]
  },
  {
   "cell_type": "code",
   "execution_count": 8,
   "id": "94de2937",
   "metadata": {},
   "outputs": [
    {
     "name": "stdout",
     "output_type": "stream",
     "text": [
      "+--------------------+\n",
      "|            CallType|\n",
      "+--------------------+\n",
      "|Elevator / Escala...|\n",
      "|         Marine Fire|\n",
      "|  Aircraft Emergency|\n",
      "|      Administrative|\n",
      "|              Alarms|\n",
      "|Odor (Strange / U...|\n",
      "|Citizen Assist / ...|\n",
      "|              HazMat|\n",
      "|Watercraft in Dis...|\n",
      "|           Explosion|\n",
      "|           Oil Spill|\n",
      "|        Vehicle Fire|\n",
      "|  Suspicious Package|\n",
      "|Extrication / Ent...|\n",
      "|               Other|\n",
      "|        Outside Fire|\n",
      "|   Traffic Collision|\n",
      "|       Assist Police|\n",
      "|Gas Leak (Natural...|\n",
      "|        Water Rescue|\n",
      "+--------------------+\n",
      "only showing top 20 rows\n",
      "\n"
     ]
    }
   ],
   "source": [
    "fire_df.select('CallType').distinct().show()"
   ]
  },
  {
   "cell_type": "code",
   "execution_count": null,
   "id": "1aa4ab9f",
   "metadata": {},
   "outputs": [],
   "source": [
    "fire_df.select('CallType').distinct().count()"
   ]
  },
  {
   "cell_type": "code",
   "execution_count": 9,
   "id": "3f65f13a",
   "metadata": {},
   "outputs": [
    {
     "name": "stdout",
     "output_type": "stream",
     "text": [
      "+--------------------+------+\n",
      "|            CallType| count|\n",
      "+--------------------+------+\n",
      "|    Medical Incident|113794|\n",
      "|      Structure Fire| 23319|\n",
      "|              Alarms| 19406|\n",
      "|   Traffic Collision|  7013|\n",
      "|Citizen Assist / ...|  2524|\n",
      "|               Other|  2166|\n",
      "|        Outside Fire|  2094|\n",
      "|        Vehicle Fire|   854|\n",
      "|Gas Leak (Natural...|   764|\n",
      "|        Water Rescue|   755|\n",
      "|Odor (Strange / U...|   490|\n",
      "|   Electrical Hazard|   482|\n",
      "|Elevator / Escala...|   453|\n",
      "|Smoke Investigati...|   391|\n",
      "|          Fuel Spill|   193|\n",
      "|              HazMat|   124|\n",
      "|Industrial Accidents|    94|\n",
      "|           Explosion|    89|\n",
      "|Train / Rail Inci...|    57|\n",
      "|  Aircraft Emergency|    36|\n",
      "+--------------------+------+\n",
      "only showing top 20 rows\n",
      "\n"
     ]
    }
   ],
   "source": [
    "from pyspark.sql.functions import col\n",
    "\n",
    "fire_df.groupBy('CallType').count().sort(col(\"count\").desc()).show()"
   ]
  },
  {
   "cell_type": "code",
   "execution_count": 10,
   "id": "913ccfbd",
   "metadata": {},
   "outputs": [
    {
     "name": "stdout",
     "output_type": "stream",
     "text": [
      "+--------------------+--------------+-----+\n",
      "|            CallType|      UnitType|count|\n",
      "+--------------------+--------------+-----+\n",
      "|    Medical Incident|         MEDIC|50614|\n",
      "|    Medical Incident|        ENGINE|44259|\n",
      "|    Medical Incident|       PRIVATE|10297|\n",
      "|      Structure Fire|        ENGINE| 8840|\n",
      "|      Structure Fire|         TRUCK| 6815|\n",
      "|              Alarms|        ENGINE| 6641|\n",
      "|              Alarms|         TRUCK| 6396|\n",
      "|              Alarms|         CHIEF| 6311|\n",
      "|      Structure Fire|         CHIEF| 4548|\n",
      "|    Medical Incident|RESCUE CAPTAIN| 3582|\n",
      "|   Traffic Collision|        ENGINE| 2873|\n",
      "|    Medical Incident|         TRUCK| 2582|\n",
      "|   Traffic Collision|         MEDIC| 2489|\n",
      "|        Outside Fire|        ENGINE| 1629|\n",
      "|Citizen Assist / ...|        ENGINE| 1410|\n",
      "|      Structure Fire|         MEDIC| 1406|\n",
      "|      Structure Fire|  RESCUE SQUAD| 1320|\n",
      "|    Medical Incident|  RESCUE SQUAD| 1182|\n",
      "|               Other|        ENGINE|  931|\n",
      "|Citizen Assist / ...|         TRUCK|  792|\n",
      "+--------------------+--------------+-----+\n",
      "only showing top 20 rows\n",
      "\n"
     ]
    }
   ],
   "source": [
    "fire_df.groupBy('CallType', 'UnitType').count().sort(col(\"count\").desc()).show()"
   ]
  },
  {
   "cell_type": "code",
   "execution_count": 11,
   "id": "d168f4a4",
   "metadata": {},
   "outputs": [
    {
     "name": "stdout",
     "output_type": "stream",
     "text": [
      "root\n",
      " |-- CallNumber: integer (nullable = true)\n",
      " |-- UnitID: string (nullable = true)\n",
      " |-- IncidentNumber: integer (nullable = true)\n",
      " |-- CallType: string (nullable = true)\n",
      " |-- CallDate: string (nullable = true)\n",
      " |-- WatchDate: string (nullable = true)\n",
      " |-- CallFinalDisposition: string (nullable = true)\n",
      " |-- AvailableDtTm: string (nullable = true)\n",
      " |-- Address: string (nullable = true)\n",
      " |-- City: string (nullable = true)\n",
      " |-- Zipcode: integer (nullable = true)\n",
      " |-- Battalion: string (nullable = true)\n",
      " |-- StationArea: string (nullable = true)\n",
      " |-- Box: string (nullable = true)\n",
      " |-- OriginalPriority: string (nullable = true)\n",
      " |-- Priority: string (nullable = true)\n",
      " |-- FinalPriority: integer (nullable = true)\n",
      " |-- ALSUnit: boolean (nullable = true)\n",
      " |-- CallTypeGroup: string (nullable = true)\n",
      " |-- NumAlarms: integer (nullable = true)\n",
      " |-- UnitType: string (nullable = true)\n",
      " |-- UnitSequenceInCallDispatch: integer (nullable = true)\n",
      " |-- FirePreventionDistrict: string (nullable = true)\n",
      " |-- SupervisorDistrict: string (nullable = true)\n",
      " |-- Neighborhood: string (nullable = true)\n",
      " |-- Location: string (nullable = true)\n",
      " |-- RowID: string (nullable = true)\n",
      " |-- ResponseDelayedinMins: double (nullable = true)\n",
      "\n"
     ]
    }
   ],
   "source": [
    "fire_df = fire_df.withColumnRenamed(\"Delay\", \"ResponseDelayedinMins\")\n",
    "\n",
    "fire_df.printSchema()"
   ]
  },
  {
   "cell_type": "code",
   "execution_count": 14,
   "id": "e683f185",
   "metadata": {},
   "outputs": [
    {
     "name": "stdout",
     "output_type": "stream",
     "text": [
      "+----------+---------------------+\n",
      "|CallNumber|ResponseDelayedinMins|\n",
      "+----------+---------------------+\n",
      "|  20150265|             95.28333|\n",
      "|  20230229|            15.966666|\n",
      "|  20240272|            42.583332|\n",
      "|  20290468|                41.25|\n",
      "|  20310211|                 43.0|\n",
      "+----------+---------------------+\n",
      "only showing top 5 rows\n",
      "\n"
     ]
    }
   ],
   "source": [
    "fire_df.select(\"CallNumber\",\"ResponseDelayedinMins\").where(col(\"ResponseDelayedinMins\") > 15).show(5)\n"
   ]
  },
  {
   "cell_type": "code",
   "execution_count": 15,
   "id": "90903a48",
   "metadata": {},
   "outputs": [
    {
     "name": "stdout",
     "output_type": "stream",
     "text": [
      "+----------------+-------+-----+\n",
      "|        CallType|Zipcode|count|\n",
      "+----------------+-------+-----+\n",
      "|Medical Incident|  94102|16130|\n",
      "|Medical Incident|  94103|14775|\n",
      "|Medical Incident|  94110| 9995|\n",
      "|Medical Incident|  94109| 9479|\n",
      "|Medical Incident|  94124| 5885|\n",
      "|Medical Incident|  94112| 5630|\n",
      "|Medical Incident|  94115| 4785|\n",
      "|Medical Incident|  94122| 4323|\n",
      "|Medical Incident|  94107| 4284|\n",
      "|Medical Incident|  94133| 3977|\n",
      "|Medical Incident|  94117| 3522|\n",
      "|Medical Incident|  94134| 3437|\n",
      "|Medical Incident|  94114| 3225|\n",
      "|Medical Incident|  94118| 3104|\n",
      "|Medical Incident|  94121| 2953|\n",
      "|Medical Incident|  94116| 2738|\n",
      "|Medical Incident|  94132| 2594|\n",
      "|  Structure Fire|  94110| 2267|\n",
      "|Medical Incident|  94105| 2258|\n",
      "|  Structure Fire|  94102| 2229|\n",
      "+----------------+-------+-----+\n",
      "only showing top 20 rows\n",
      "\n"
     ]
    }
   ],
   "source": [
    "fire_df \\\n",
    " .select(\"CallType\", \"ZipCode\")  \\\n",
    " .where(col(\"CallType\").isNotNull()) \\\n",
    " .groupBy(\"CallType\", \"Zipcode\") \\\n",
    " .count() \\\n",
    " .orderBy(\"count\", ascending=False) \\\n",
    " .show()"
   ]
  },
  {
   "cell_type": "code",
   "execution_count": null,
   "id": "8f59f33a",
   "metadata": {},
   "outputs": [],
   "source": []
  }
 ],
 "metadata": {
  "kernelspec": {
   "display_name": "Python 3 (ipykernel)",
   "language": "python",
   "name": "python3"
  },
  "language_info": {
   "codemirror_mode": {
    "name": "ipython",
    "version": 3
   },
   "file_extension": ".py",
   "mimetype": "text/x-python",
   "name": "python",
   "nbconvert_exporter": "python",
   "pygments_lexer": "ipython3",
   "version": "3.10.6"
  }
 },
 "nbformat": 4,
 "nbformat_minor": 5
}
