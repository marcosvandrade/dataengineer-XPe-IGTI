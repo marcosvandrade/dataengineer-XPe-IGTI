{
 "cells": [
  {
   "cell_type": "code",
   "execution_count": 7,
   "id": "e690dfa5",
   "metadata": {},
   "outputs": [
    {
     "data": {
      "text/plain": [
       "'3.2.1'"
      ]
     },
     "execution_count": 7,
     "metadata": {},
     "output_type": "execute_result"
    }
   ],
   "source": [
    "from pyspark.sql import SparkSession\n",
    "\n",
    "# Spark entry point\n",
    "spark = SparkSession \\\n",
    "    .builder \\\n",
    "    .appName(\"Engenharia de Dados - Tecnologia de Big Data - Aula 2.2\") \\\n",
    "    .getOrCreate()\n",
    "\n",
    "spark.version\n"
   ]
  },
  {
   "cell_type": "code",
   "execution_count": 8,
   "id": "b831dfd4",
   "metadata": {},
   "outputs": [
    {
     "name": "stdout",
     "output_type": "stream",
     "text": [
      "Number of partitions: 9\n"
     ]
    }
   ],
   "source": [
    "filename = 'C:/Users/pedro.guerra/Downloads/XPE/engenharia-dados/codigo-aulas/2.2/numbers.txt'\n",
    "\n",
    "\n",
    "linesRdd = spark.read.text(filename).rdd.map(lambda r: r[0])\n",
    "print(\"Number of partitions: {}\".format(linesRdd.getNumPartitions()))\n"
   ]
  },
  {
   "cell_type": "code",
   "execution_count": 9,
   "id": "98cfc1a9",
   "metadata": {},
   "outputs": [
    {
     "name": "stdout",
     "output_type": "stream",
     "text": [
      "The end\n"
     ]
    }
   ],
   "source": [
    "from operator import add\n",
    "\n",
    "# 1 9 8 10 1 9 2\n",
    "\n",
    "#=>\n",
    "# 1 2\n",
    "# 9 1\n",
    "# 2 1\n",
    "# ...\n",
    "\n",
    "countsRdd = linesRdd.sample(False, 0.01) \\\n",
    "                    .flatMap(lambda line: line.split(' ')) \\\n",
    "                    .filter(lambda number: int(number) % 2 == 0) \\\n",
    "                    .map(lambda number: (number, 1)) \\\n",
    "                    .reduceByKey(add)\n",
    "\n",
    "print('The end')"
   ]
  },
  {
   "cell_type": "code",
   "execution_count": 10,
   "id": "7c962112",
   "metadata": {},
   "outputs": [
    {
     "name": "stdout",
     "output_type": "stream",
     "text": [
      "2 499702\n",
      "10 501737\n",
      "8 501027\n",
      "6 499954\n",
      "0 500772\n",
      "4 500049\n"
     ]
    }
   ],
   "source": [
    "output = countsRdd.collect()\n",
    "for (number, count) in output:\n",
    "    print(number, count)\n"
   ]
  },
  {
   "cell_type": "code",
   "execution_count": null,
   "id": "ef110222",
   "metadata": {},
   "outputs": [],
   "source": [
    "linesRdd.count()"
   ]
  },
  {
   "cell_type": "code",
   "execution_count": null,
   "id": "8c213dbd",
   "metadata": {},
   "outputs": [],
   "source": []
  }
 ],
 "metadata": {
  "kernelspec": {
   "display_name": "Python 3 (ipykernel)",
   "language": "python",
   "name": "python3"
  },
  "language_info": {
   "codemirror_mode": {
    "name": "ipython",
    "version": 3
   },
   "file_extension": ".py",
   "mimetype": "text/x-python",
   "name": "python",
   "nbconvert_exporter": "python",
   "pygments_lexer": "ipython3",
   "version": "3.10.6"
  }
 },
 "nbformat": 4,
 "nbformat_minor": 5
}
