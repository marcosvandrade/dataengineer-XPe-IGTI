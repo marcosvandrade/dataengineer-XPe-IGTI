{
 "cells": [
  {
   "cell_type": "markdown",
   "id": "driving-interval",
   "metadata": {},
   "source": [
    "# Loops"
   ]
  },
  {
   "cell_type": "markdown",
   "id": "suspected-model",
   "metadata": {},
   "source": [
    "## for"
   ]
  },
  {
   "cell_type": "code",
   "execution_count": 2,
   "id": "latter-helicopter",
   "metadata": {
    "scrolled": true
   },
   "outputs": [
    {
     "name": "stdout",
     "output_type": "stream",
     "text": [
      "O número é  0\n",
      "O número é  1\n",
      "O número é  2\n",
      "O número é  3\n",
      "O número é  4\n",
      "O número é  5\n",
      "O número é  6\n",
      "O número é  7\n",
      "O número é  8\n",
      "O número é  9\n"
     ]
    }
   ],
   "source": [
    "for numero in range(0,10):\n",
    "    print(\"O número é \",numero)"
   ]
  },
  {
   "cell_type": "code",
   "execution_count": 4,
   "id": "physical-franklin",
   "metadata": {},
   "outputs": [
    {
     "name": "stdout",
     "output_type": "stream",
     "text": [
      "0 é par\n",
      "1 é impar\n",
      "2 é par\n",
      "3 é impar\n",
      "4 é par\n",
      "5 é impar\n",
      "6 é par\n",
      "7 é impar\n",
      "8 é par\n",
      "9 é impar\n"
     ]
    }
   ],
   "source": [
    "for numero in range(0,10):\n",
    "    if numero%2==0:\n",
    "        print(numero,\"é par\")\n",
    "    else:\n",
    "        print(numero,\"é impar\")"
   ]
  },
  {
   "cell_type": "code",
   "execution_count": 20,
   "id": "placed-motion",
   "metadata": {},
   "outputs": [
    {
     "name": "stdout",
     "output_type": "stream",
     "text": [
      "janeiro\n",
      "fevereiro\n",
      "março\n",
      "abril\n",
      "maio\n",
      "junho\n"
     ]
    }
   ],
   "source": [
    "meses = \"janeiro\", \"fevereiro\", \"março\", \"abril\", \"maio\", \"junho\"\n",
    "for m in meses:\n",
    "    print(m)"
   ]
  },
  {
   "cell_type": "markdown",
   "id": "express-wilson",
   "metadata": {},
   "source": [
    "### break"
   ]
  },
  {
   "cell_type": "code",
   "execution_count": 24,
   "id": "agreed-construction",
   "metadata": {},
   "outputs": [
    {
     "name": "stdout",
     "output_type": "stream",
     "text": [
      "janeiro\n",
      "fevereiro\n",
      "março\n",
      "abril\n",
      "maio\n"
     ]
    }
   ],
   "source": [
    "meses = \"janeiro\", \"fevereiro\", \"março\", \"abril\", \"maio\", \"junho\"\n",
    "for m in meses:\n",
    "    print(m)\n",
    "    if m == \"maio\":\n",
    "        break"
   ]
  },
  {
   "cell_type": "code",
   "execution_count": 26,
   "id": "capital-parker",
   "metadata": {},
   "outputs": [
    {
     "name": "stdout",
     "output_type": "stream",
     "text": [
      "janeiro\n",
      "fevereiro\n",
      "março\n",
      "abril\n"
     ]
    }
   ],
   "source": [
    "meses = \"janeiro\", \"fevereiro\", \"março\", \"abril\", \"maio\", \"junho\"\n",
    "for m in meses:\n",
    "    if m == \"maio\":\n",
    "        break\n",
    "    print(m)"
   ]
  },
  {
   "cell_type": "markdown",
   "id": "atomic-video",
   "metadata": {},
   "source": [
    "## while"
   ]
  },
  {
   "cell_type": "code",
   "execution_count": 5,
   "id": "satisfied-council",
   "metadata": {},
   "outputs": [
    {
     "name": "stdout",
     "output_type": "stream",
     "text": [
      "O número é  0\n",
      "O número é  1\n",
      "O número é  2\n",
      "O número é  3\n",
      "O número é  4\n",
      "O número é  5\n",
      "O número é  6\n",
      "O número é  7\n",
      "O número é  8\n",
      "O número é  9\n"
     ]
    }
   ],
   "source": [
    "numero = 0\n",
    "while(numero < 10):\n",
    "    print(\"O número é \",numero)\n",
    "    numero+=1"
   ]
  },
  {
   "cell_type": "code",
   "execution_count": 7,
   "id": "infinite-chick",
   "metadata": {},
   "outputs": [
    {
     "name": "stdout",
     "output_type": "stream",
     "text": [
      "0 é par\n",
      "1 é impar\n",
      "2 é par\n",
      "3 é impar\n",
      "4 é par\n",
      "5 é impar\n",
      "6 é par\n",
      "7 é impar\n",
      "8 é par\n",
      "9 é impar\n"
     ]
    }
   ],
   "source": [
    "numero = 0\n",
    "while(numero < 10):\n",
    "    if numero%2==0:\n",
    "        print(numero,\"é par\")\n",
    "    else:\n",
    "        print(numero,\"é impar\")\n",
    "    numero+=1"
   ]
  },
  {
   "cell_type": "markdown",
   "id": "chicken-quarterly",
   "metadata": {},
   "source": [
    "### continue"
   ]
  },
  {
   "cell_type": "code",
   "execution_count": 22,
   "id": "promising-silly",
   "metadata": {},
   "outputs": [
    {
     "name": "stdout",
     "output_type": "stream",
     "text": [
      "O número é  0\n",
      "O número é  1\n",
      "O número é  2\n",
      "O número é  3\n",
      "O número é  4\n",
      "O número é  5\n",
      "O número é  6\n",
      "O número é  7\n",
      "O número é  8\n",
      "O número é  9\n"
     ]
    }
   ],
   "source": [
    "numero = 0\n",
    "while(numero < 10):\n",
    "    print(\"O número é \",numero)\n",
    "    numero+=1\n",
    "    continue\n",
    "    print(\"Esse print nunca será impresso por causa do continue\")"
   ]
  },
  {
   "cell_type": "markdown",
   "id": "realistic-healing",
   "metadata": {},
   "source": [
    "# Desafio"
   ]
  },
  {
   "cell_type": "markdown",
   "id": "protective-separation",
   "metadata": {},
   "source": [
    "## Faça um código que adivinhe o número (0 a 10) digitado pelo usuário:"
   ]
  },
  {
   "cell_type": "code",
   "execution_count": 10,
   "id": "theoretical-virginia",
   "metadata": {},
   "outputs": [],
   "source": [
    "cont = 0"
   ]
  },
  {
   "cell_type": "code",
   "execution_count": 13,
   "id": "cooked-optimization",
   "metadata": {},
   "outputs": [],
   "source": [
    "cont+=1"
   ]
  },
  {
   "cell_type": "code",
   "execution_count": 19,
   "id": "academic-reserve",
   "metadata": {},
   "outputs": [
    {
     "name": "stdout",
     "output_type": "stream",
     "text": [
      "Digite um número entre 0 e 10: 6\n",
      "O número que você digitou foi  6\n"
     ]
    }
   ],
   "source": [
    "numero = input('Digite um número entre 0 e 10: ')\n",
    "numero = int(numero)\n",
    "sair = False\n",
    "cont = -1\n",
    "while(numero != cont):\n",
    "    cont+=1\n",
    "    if numero == cont:\n",
    "        print(\"O número que você digitou foi \",numero)\n",
    "        sair=True\n",
    "    if cont > 10:\n",
    "        print(\"Você digitou um número fora do intervalo entre 0 a 10\")\n",
    "        sair=True\n",
    "    if sair:\n",
    "        break"
   ]
  },
  {
   "cell_type": "code",
   "execution_count": null,
   "id": "whole-traveler",
   "metadata": {},
   "outputs": [],
   "source": []
  }
 ],
 "metadata": {
  "kernelspec": {
   "display_name": "Python 3",
   "language": "python",
   "name": "python3"
  },
  "language_info": {
   "codemirror_mode": {
    "name": "ipython",
    "version": 3
   },
   "file_extension": ".py",
   "mimetype": "text/x-python",
   "name": "python",
   "nbconvert_exporter": "python",
   "pygments_lexer": "ipython3",
   "version": "3.8.5"
  }
 },
 "nbformat": 4,
 "nbformat_minor": 5
}
