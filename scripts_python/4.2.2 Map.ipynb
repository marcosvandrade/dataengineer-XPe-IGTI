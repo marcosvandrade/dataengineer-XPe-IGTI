{
 "cells": [
  {
   "cell_type": "markdown",
   "id": "remarkable-seller",
   "metadata": {},
   "source": [
    "# Map"
   ]
  },
  {
   "cell_type": "code",
   "execution_count": 1,
   "id": "violent-listening",
   "metadata": {},
   "outputs": [],
   "source": [
    "map?"
   ]
  },
  {
   "cell_type": "code",
   "execution_count": null,
   "id": "tight-hampshire",
   "metadata": {},
   "outputs": [],
   "source": [
    "# função que transformfora temperatura de celsisus para Fahrenheit\n",
    "def converte_celsisus_to_fahrenheit(T):\n",
    "    return round((float(9)/5)*T + 32,2)"
   ]
  },
  {
   "cell_type": "code",
   "execution_count": null,
   "id": "pursuant-relay",
   "metadata": {},
   "outputs": [],
   "source": [
    "tempertaturas = [27, 28.5, 32, 35, 18.2, 16.5,]"
   ]
  },
  {
   "cell_type": "code",
   "execution_count": null,
   "id": "special-darwin",
   "metadata": {},
   "outputs": [],
   "source": [
    "#retorna um objeto do tipo map\n",
    "map(converte_celsisus_to_fahrenheit, tempertaturas)"
   ]
  },
  {
   "cell_type": "code",
   "execution_count": null,
   "id": "hollywood-record",
   "metadata": {},
   "outputs": [],
   "source": [
    "#para visualizar o resultado, pode transformar para lista\n",
    "list(map(converte_celsisus_to_fahrenheit, tempertaturas))"
   ]
  },
  {
   "cell_type": "markdown",
   "id": "dying-contact",
   "metadata": {},
   "source": [
    "Com lambda"
   ]
  },
  {
   "cell_type": "code",
   "execution_count": null,
   "id": "registered-horizon",
   "metadata": {},
   "outputs": [],
   "source": [
    "converte = lambda T:round((float(9)/5)*T + 32,2)"
   ]
  },
  {
   "cell_type": "code",
   "execution_count": null,
   "id": "sitting-documentation",
   "metadata": {},
   "outputs": [],
   "source": [
    "#retorna um objeto do tipo map\n",
    "list(map(converte, tempertaturas))"
   ]
  },
  {
   "cell_type": "markdown",
   "id": "supported-bishop",
   "metadata": {},
   "source": [
    "# Bora praticar?"
   ]
  },
  {
   "cell_type": "markdown",
   "id": "aware-strain",
   "metadata": {},
   "source": [
    "https://www.w3resource.com/python-exercises/map/index.php"
   ]
  },
  {
   "cell_type": "code",
   "execution_count": null,
   "id": "exempt-services",
   "metadata": {},
   "outputs": [],
   "source": []
  }
 ],
 "metadata": {
  "kernelspec": {
   "display_name": "Python 3",
   "language": "python",
   "name": "python3"
  },
  "language_info": {
   "codemirror_mode": {
    "name": "ipython",
    "version": 3
   },
   "file_extension": ".py",
   "mimetype": "text/x-python",
   "name": "python",
   "nbconvert_exporter": "python",
   "pygments_lexer": "ipython3",
   "version": "3.8.5"
  }
 },
 "nbformat": 4,
 "nbformat_minor": 5
}
