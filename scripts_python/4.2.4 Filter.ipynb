{
 "cells": [
  {
   "cell_type": "markdown",
   "id": "soviet-rainbow",
   "metadata": {},
   "source": [
    "# Filter"
   ]
  },
  {
   "cell_type": "code",
   "execution_count": 1,
   "id": "shared-trading",
   "metadata": {},
   "outputs": [],
   "source": [
    "# função que filtra números pares\n",
    "isPar = lambda x: True if x%2==0 else False"
   ]
  },
  {
   "cell_type": "code",
   "execution_count": 2,
   "id": "laden-percentage",
   "metadata": {},
   "outputs": [
    {
     "data": {
      "text/plain": [
       "False"
      ]
     },
     "execution_count": 2,
     "metadata": {},
     "output_type": "execute_result"
    }
   ],
   "source": [
    "#checa se é par\n",
    "isPar(5)"
   ]
  },
  {
   "cell_type": "code",
   "execution_count": 3,
   "id": "painful-adams",
   "metadata": {},
   "outputs": [
    {
     "data": {
      "text/plain": [
       "True"
      ]
     },
     "execution_count": 3,
     "metadata": {},
     "output_type": "execute_result"
    }
   ],
   "source": [
    "#checa se é par\n",
    "isPar(2)"
   ]
  },
  {
   "cell_type": "code",
   "execution_count": 4,
   "id": "featured-latest",
   "metadata": {},
   "outputs": [],
   "source": [
    "numeros = [0, 1, 2, 3, 4, 5, 6, 7, 8, 9, 10]"
   ]
  },
  {
   "cell_type": "code",
   "execution_count": 5,
   "id": "tired-safety",
   "metadata": {},
   "outputs": [
    {
     "data": {
      "text/plain": [
       "<filter at 0x7f64ac062ca0>"
      ]
     },
     "execution_count": 5,
     "metadata": {},
     "output_type": "execute_result"
    }
   ],
   "source": [
    "#retorna um iterador do tipo filter\n",
    "filter(isPar, numeros)"
   ]
  },
  {
   "cell_type": "code",
   "execution_count": 6,
   "id": "confidential-harmony",
   "metadata": {},
   "outputs": [
    {
     "data": {
      "text/plain": [
       "[0, 2, 4, 6, 8, 10]"
      ]
     },
     "execution_count": 6,
     "metadata": {},
     "output_type": "execute_result"
    }
   ],
   "source": [
    "#para visualizar o resultado, pode transformar para lista\n",
    "list(filter(isPar, numeros))"
   ]
  },
  {
   "cell_type": "code",
   "execution_count": null,
   "id": "placed-warren",
   "metadata": {},
   "outputs": [],
   "source": []
  }
 ],
 "metadata": {
  "kernelspec": {
   "display_name": "Python 3",
   "language": "python",
   "name": "python3"
  },
  "language_info": {
   "codemirror_mode": {
    "name": "ipython",
    "version": 3
   },
   "file_extension": ".py",
   "mimetype": "text/x-python",
   "name": "python",
   "nbconvert_exporter": "python",
   "pygments_lexer": "ipython3",
   "version": "3.8.5"
  }
 },
 "nbformat": 4,
 "nbformat_minor": 5
}
