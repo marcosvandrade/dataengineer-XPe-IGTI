{
 "cells": [
  {
   "cell_type": "markdown",
   "id": "imposed-public",
   "metadata": {},
   "source": [
    "# Vamos construir um sistema de Banco"
   ]
  },
  {
   "cell_type": "code",
   "execution_count": 1,
   "id": "southwest-adaptation",
   "metadata": {},
   "outputs": [],
   "source": [
    "def cria_conta(numero, titular, saldo, limite):\n",
    "    conta = {\"numero\": numero, \"titular\": titular, \"saldo\": saldo, \"limite\": limite}\n",
    "    return conta"
   ]
  },
  {
   "cell_type": "code",
   "execution_count": 2,
   "id": "changed-habitat",
   "metadata": {},
   "outputs": [],
   "source": [
    "conta_maria = cria_conta(\"123\",\"Maria Silva\", 100, 2000)\n",
    "conta_joao  = cria_conta(\"124\",\"José Silva\", 150, 1000)"
   ]
  },
  {
   "cell_type": "code",
   "execution_count": 3,
   "id": "olive-dinner",
   "metadata": {},
   "outputs": [
    {
     "data": {
      "text/plain": [
       "{'numero': '123', 'titular': 'Maria Silva', 'saldo': 100, 'limite': 2000}"
      ]
     },
     "execution_count": 3,
     "metadata": {},
     "output_type": "execute_result"
    }
   ],
   "source": [
    "conta_maria"
   ]
  },
  {
   "cell_type": "code",
   "execution_count": 4,
   "id": "settled-infection",
   "metadata": {},
   "outputs": [
    {
     "data": {
      "text/plain": [
       "{'numero': '124', 'titular': 'José Silva', 'saldo': 150, 'limite': 1000}"
      ]
     },
     "execution_count": 4,
     "metadata": {},
     "output_type": "execute_result"
    }
   ],
   "source": [
    "conta_joao"
   ]
  },
  {
   "cell_type": "code",
   "execution_count": 5,
   "id": "progressive-floating",
   "metadata": {},
   "outputs": [],
   "source": [
    "#a função deposita um valor na conta\n",
    "def deposita(conta, valor):\n",
    "    conta['saldo'] = conta['saldo'] + valor\n",
    "\n",
    "# a função realiza o saque em uma conta\n",
    "def saca(conta, valor):\n",
    "    conta['saldo'] -= valor\n",
    "\n",
    "#a função gera um extrato de uma conta\n",
    "def extrato(conta):\n",
    "    print(\"numero: {} \\nsaldo: {}\".format(conta['numero'], conta['saldo']))\n",
    "\n",
    "#a função aumenta o limite\n",
    "def aumenta_limite(conta, valor):\n",
    "    conta[\"limite\"] += valor"
   ]
  },
  {
   "cell_type": "code",
   "execution_count": 6,
   "id": "pharmaceutical-carrier",
   "metadata": {},
   "outputs": [
    {
     "name": "stdout",
     "output_type": "stream",
     "text": [
      "=========<< Depósito >>=========\n",
      "===> Antes\n",
      "numero: 123 \n",
      "saldo: 100\n",
      "===> Depois\n",
      "numero: 123 \n",
      "saldo: 120\n"
     ]
    }
   ],
   "source": [
    "#depositando dinheiro na conta da Maria\n",
    "print(\"=========<< Depósito >>=========\")\n",
    "print(\"===> Antes\")\n",
    "extrato(conta_maria)\n",
    "deposita(conta_maria,20)\n",
    "print(\"===> Depois\")\n",
    "extrato(conta_maria)"
   ]
  },
  {
   "cell_type": "code",
   "execution_count": 7,
   "id": "elegant-cowboy",
   "metadata": {},
   "outputs": [
    {
     "name": "stdout",
     "output_type": "stream",
     "text": [
      "=========<< Saque >>=========\n",
      "===> Antes\n",
      "numero: 123 \n",
      "saldo: 120\n",
      "===> Depois\n",
      "numero: 123 \n",
      "saldo: 20\n"
     ]
    }
   ],
   "source": [
    "#sacando dinheiro na conta da Maria\n",
    "print(\"=========<< Saque >>=========\")\n",
    "print(\"===> Antes\")\n",
    "extrato(conta_maria)\n",
    "saca(conta_maria,100)\n",
    "print(\"===> Depois\")\n",
    "extrato(conta_maria)"
   ]
  },
  {
   "cell_type": "code",
   "execution_count": 8,
   "id": "intelligent-margin",
   "metadata": {},
   "outputs": [
    {
     "name": "stdout",
     "output_type": "stream",
     "text": [
      "=========<< Saque >>=========\n",
      "===> Antes\n",
      "numero: 124 \n",
      "saldo: 150\n",
      "===> Depois\n",
      "numero: 124 \n",
      "saldo: 50\n"
     ]
    }
   ],
   "source": [
    "#sacando dinheiro na conta da João\n",
    "print(\"=========<< Saque >>=========\")\n",
    "print(\"===> Antes\")\n",
    "extrato(conta_joao)\n",
    "saca(conta_joao,100)\n",
    "print(\"===> Depois\")\n",
    "extrato(conta_joao)"
   ]
  },
  {
   "cell_type": "code",
   "execution_count": 11,
   "id": "damaged-contribution",
   "metadata": {},
   "outputs": [
    {
     "name": "stdout",
     "output_type": "stream",
     "text": [
      "numero: 123 \n",
      "saldo: 10000\n"
     ]
    }
   ],
   "source": [
    "conta_maria[\"saldo\"] = 10000\n",
    "extrato(conta_maria)"
   ]
  },
  {
   "cell_type": "code",
   "execution_count": 12,
   "id": "together-beast",
   "metadata": {},
   "outputs": [
    {
     "name": "stdout",
     "output_type": "stream",
     "text": [
      "numero: 124 \n",
      "saldo: -100\n"
     ]
    }
   ],
   "source": [
    "conta_joao[\"saldo\"]=-100\n",
    "extrato(conta_joao)"
   ]
  },
  {
   "cell_type": "markdown",
   "id": "unsigned-millennium",
   "metadata": {},
   "source": [
    "# Vamos definir a Classe"
   ]
  },
  {
   "cell_type": "code",
   "execution_count": 2,
   "id": "egyptian-police",
   "metadata": {},
   "outputs": [],
   "source": [
    "class Conta():\n",
    "    pass"
   ]
  },
  {
   "cell_type": "code",
   "execution_count": 3,
   "id": "welcome-painting",
   "metadata": {},
   "outputs": [],
   "source": [
    "class Conta():\n",
    "    def __init__(self, numero, titular, saldo, limite):\n",
    "        self.numero = numero\n",
    "        self.titular = titular\n",
    "        self.saldo = saldo\n",
    "        self.limite = limite"
   ]
  },
  {
   "cell_type": "code",
   "execution_count": 16,
   "id": "north-disorder",
   "metadata": {},
   "outputs": [],
   "source": [
    "class Conta():\n",
    "    def __init__(self, numero, titular, saldo, limite):\n",
    "        self.numero = numero\n",
    "        self.titular = titular\n",
    "        self.saldo = saldo\n",
    "        self.limite = limite\n",
    "        \n",
    "    def deposita(self, valor):\n",
    "        self.saldo += valor\n",
    "\n",
    "    def saca(self, valor):\n",
    "        self.saldo -= valor\n",
    "\n",
    "    def extrato(self):\n",
    "        print(\"numero: {} \\nsaldo: {}\".format(self.numero, self.saldo))\n",
    "\n",
    "    def aumenta_limite(self, valor):\n",
    "        self.limite += valor"
   ]
  },
  {
   "cell_type": "code",
   "execution_count": 18,
   "id": "adult-chair",
   "metadata": {},
   "outputs": [],
   "source": [
    "conta = Conta(\"123\", \"Maria\", 100, 2000)"
   ]
  },
  {
   "cell_type": "code",
   "execution_count": 19,
   "id": "federal-cyprus",
   "metadata": {},
   "outputs": [
    {
     "name": "stdout",
     "output_type": "stream",
     "text": [
      "=========<< Depósito >>=========\n",
      "===> Antes\n",
      "numero: 123 \n",
      "saldo: 100\n",
      "===> Depois\n",
      "numero: 123 \n",
      "saldo: 120\n"
     ]
    }
   ],
   "source": [
    "print(\"=========<< Depósito >>=========\")\n",
    "print(\"===> Antes\")\n",
    "conta.extrato()\n",
    "conta.deposita(20)\n",
    "print(\"===> Depois\")\n",
    "conta.extrato()"
   ]
  },
  {
   "cell_type": "code",
   "execution_count": 20,
   "id": "extra-lottery",
   "metadata": {},
   "outputs": [
    {
     "name": "stdout",
     "output_type": "stream",
     "text": [
      "=========<< Saque >>=========\n",
      "===> Antes\n",
      "numero: 123 \n",
      "saldo: 120\n",
      "===> Depois\n",
      "numero: 123 \n",
      "saldo: 20\n"
     ]
    }
   ],
   "source": [
    "print(\"=========<< Saque >>=========\")\n",
    "print(\"===> Antes\")\n",
    "conta.extrato()\n",
    "conta.saca(100)\n",
    "print(\"===> Depois\")\n",
    "conta.extrato()"
   ]
  }
 ],
 "metadata": {
  "kernelspec": {
   "display_name": "Python 3",
   "language": "python",
   "name": "python3"
  },
  "language_info": {
   "codemirror_mode": {
    "name": "ipython",
    "version": 3
   },
   "file_extension": ".py",
   "mimetype": "text/x-python",
   "name": "python",
   "nbconvert_exporter": "python",
   "pygments_lexer": "ipython3",
   "version": "3.8.5"
  }
 },
 "nbformat": 4,
 "nbformat_minor": 5
}
