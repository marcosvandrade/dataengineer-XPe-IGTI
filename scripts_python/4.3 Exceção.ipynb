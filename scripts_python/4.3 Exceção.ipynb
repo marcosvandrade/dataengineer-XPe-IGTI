{
 "cells": [
  {
   "cell_type": "markdown",
   "id": "equal-gross",
   "metadata": {},
   "source": [
    "# Execeção"
   ]
  },
  {
   "cell_type": "code",
   "execution_count": 1,
   "id": "exciting-outdoors",
   "metadata": {},
   "outputs": [
    {
     "ename": "IndexError",
     "evalue": "list index out of range",
     "output_type": "error",
     "traceback": [
      "\u001b[0;31m---------------------------------------------------------------------------\u001b[0m",
      "\u001b[0;31mIndexError\u001b[0m                                Traceback (most recent call last)",
      "\u001b[0;32m<ipython-input-1-0cb0592694e8>\u001b[0m in \u001b[0;36m<module>\u001b[0;34m\u001b[0m\n\u001b[1;32m      1\u001b[0m \u001b[0mnumeros\u001b[0m \u001b[0;34m=\u001b[0m \u001b[0;34m[\u001b[0m\u001b[0;36m0\u001b[0m\u001b[0;34m,\u001b[0m\u001b[0;36m1\u001b[0m\u001b[0;34m,\u001b[0m\u001b[0;36m2\u001b[0m\u001b[0;34m,\u001b[0m\u001b[0;36m3\u001b[0m\u001b[0;34m,\u001b[0m\u001b[0;36m4\u001b[0m\u001b[0;34m]\u001b[0m\u001b[0;34m\u001b[0m\u001b[0;34m\u001b[0m\u001b[0m\n\u001b[0;32m----> 2\u001b[0;31m \u001b[0mprint\u001b[0m\u001b[0;34m(\u001b[0m\u001b[0mnumeros\u001b[0m\u001b[0;34m[\u001b[0m\u001b[0;36m6\u001b[0m\u001b[0;34m]\u001b[0m\u001b[0;34m)\u001b[0m\u001b[0;34m\u001b[0m\u001b[0;34m\u001b[0m\u001b[0m\n\u001b[0m",
      "\u001b[0;31mIndexError\u001b[0m: list index out of range"
     ]
    }
   ],
   "source": [
    "numeros = [0,1,2,3,4]\n",
    "print(numeros[6])"
   ]
  },
  {
   "cell_type": "code",
   "execution_count": 20,
   "id": "normal-adult",
   "metadata": {},
   "outputs": [
    {
     "name": "stdout",
     "output_type": "stream",
     "text": [
      "ocorreu um erro\n",
      "oi\n"
     ]
    }
   ],
   "source": [
    "numeros = [0,1,2,3,4]\n",
    "try:\n",
    "    print(numeros[6])\n",
    "except:\n",
    "    print(\"ocorreu um erro\")\n",
    "print(\"oi\")"
   ]
  },
  {
   "cell_type": "markdown",
   "id": "dying-woman",
   "metadata": {},
   "source": [
    "# Try Except"
   ]
  },
  {
   "cell_type": "code",
   "execution_count": 13,
   "id": "uniform-pacific",
   "metadata": {},
   "outputs": [
    {
     "name": "stdout",
     "output_type": "stream",
     "text": [
      "[('arq1', 5.0), ('arq2', 10.0), ('arq3', 0), ('arq4', 0)]\n"
     ]
    }
   ],
   "source": [
    "arquivos = [('arq1', 20), ('arq2', 10), ('arq3', 0), ('arq4', '1')]\n",
    "def calcula(arqs):\n",
    "    resultados = list()\n",
    "    for arq_name, arq_val in arqs:\n",
    "        try:\n",
    "            resultado = 100 / arq_val\n",
    "        except Exception as e:\n",
    "            #serve para capturar qualquer outra exceção\n",
    "            resultado = 0\n",
    "            msg = \"ERRO - {} está com valor inesperado: {}\".format(arq_name, e)\n",
    "        resultados.append((arq_name, resultado))\n",
    "    return resultados\n",
    "\n",
    "print(calcula(arquivos))"
   ]
  },
  {
   "cell_type": "markdown",
   "id": "returning-sponsorship",
   "metadata": {},
   "source": [
    "# Try except - especificando o erro"
   ]
  },
  {
   "cell_type": "code",
   "execution_count": 16,
   "id": "heated-brooks",
   "metadata": {},
   "outputs": [
    {
     "name": "stdout",
     "output_type": "stream",
     "text": [
      "ERRO - arq3 está com valor zerado\n",
      "AVISO - arq4 está com valor corrompido, assumindo 100\n",
      "[('arq1', 5.0), ('arq2', 10.0), ('arq3', -1), ('arq4', 1)]\n"
     ]
    }
   ],
   "source": [
    "arquivos = [('arq1', 20), ('arq2', 10), ('arq3', 0), ('arq4', '1')]\n",
    "def calcula(arqs):\n",
    "    resultados = list()\n",
    "    for arq_name, arq_val in arqs:\n",
    "        try:\n",
    "            resultado = 100 / arq_val\n",
    "        except ZeroDivisionError:\n",
    "            resultado = -1\n",
    "            msg = \"ERRO - {} está com valor zerado\".format(arq_name)\n",
    "            print(msg)\n",
    "        except TypeError:\n",
    "            resultado = 1\n",
    "            msg = \"AVISO - {} está com valor corrompido, assumindo 100\".format(arq_name)\n",
    "            print(msg)\n",
    "        except Exception as e:\n",
    "            #serve para capturar qualquer outra exceção\n",
    "            resultado = 0\n",
    "            msg = \"ERRO - {} está com valor inesperado: {}\".format(arq_name, e)\n",
    "            print(msg)\n",
    "        resultados.append((arq_name, resultado))\n",
    "    return resultados\n",
    "\n",
    "print(calcula(arquivos))"
   ]
  },
  {
   "cell_type": "markdown",
   "id": "optimum-musician",
   "metadata": {},
   "source": [
    "# Try / except / finally"
   ]
  },
  {
   "cell_type": "code",
   "execution_count": 18,
   "id": "monetary-frank",
   "metadata": {},
   "outputs": [
    {
     "name": "stdout",
     "output_type": "stream",
     "text": [
      "arq1 funcionou\n",
      "arq2 funcionou\n",
      "ERRO - arq3 está com valor zerado\n",
      "AVISO - arq4 está com valor corrompido, assumindo 100\n",
      "[('arq1', 5.0), ('arq2', 10.0), ('arq3', -1), ('arq4', 1)]\n"
     ]
    }
   ],
   "source": [
    "arquivos = [('arq1', 20), ('arq2', 10), ('arq3', 0), ('arq4', '1')]\n",
    "def calcula(arqs):\n",
    "    resultados = list()\n",
    "    for arq_name, arq_val in arqs:\n",
    "        try:\n",
    "            resultado = 100 / arq_val\n",
    "        except ZeroDivisionError:\n",
    "            resultado = -1\n",
    "            msg = \"ERRO - {} está com valor zerado\".format(arq_name)\n",
    "        except TypeError:\n",
    "            resultado = 1\n",
    "            msg = \"AVISO - {} está com valor corrompido, assumindo 100\".format(arq_name)\n",
    "        except Exception as e:\n",
    "            #serve para capturar qualquer outra exceção\n",
    "            resultado = 0\n",
    "            msg = \"ERRO - {} está com valor inesperado: {}\".format(arq_name, e)\n",
    "        else: \n",
    "            #executa caso nenhuma exceção tenha ocorrido\n",
    "            msg = \"{} funcionou\".format(arq_name)\n",
    "        finally:\n",
    "            #sempre executa\n",
    "            print(msg)\n",
    "            resultados.append((arq_name, resultado))\n",
    "    return resultados\n",
    "\n",
    "print(calcula(arquivos))"
   ]
  },
  {
   "cell_type": "code",
   "execution_count": null,
   "id": "improved-apartment",
   "metadata": {},
   "outputs": [],
   "source": []
  }
 ],
 "metadata": {
  "kernelspec": {
   "display_name": "Python 3",
   "language": "python",
   "name": "python3"
  },
  "language_info": {
   "codemirror_mode": {
    "name": "ipython",
    "version": 3
   },
   "file_extension": ".py",
   "mimetype": "text/x-python",
   "name": "python",
   "nbconvert_exporter": "python",
   "pygments_lexer": "ipython3",
   "version": "3.8.5"
  }
 },
 "nbformat": 4,
 "nbformat_minor": 5
}
