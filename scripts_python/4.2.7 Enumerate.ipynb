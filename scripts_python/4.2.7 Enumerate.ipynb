{
 "cells": [
  {
   "cell_type": "markdown",
   "id": "organizational-adolescent",
   "metadata": {},
   "source": [
    "# Enumerate"
   ]
  },
  {
   "cell_type": "code",
   "execution_count": 1,
   "id": "reserved-algebra",
   "metadata": {},
   "outputs": [],
   "source": [
    "#definimos uma lista\n",
    "lista1 = [\"a\",\"b\",\"c\"]"
   ]
  },
  {
   "cell_type": "code",
   "execution_count": 2,
   "id": "convenient-friday",
   "metadata": {},
   "outputs": [
    {
     "data": {
      "text/plain": [
       "<enumerate at 0x7fba274cf500>"
      ]
     },
     "execution_count": 2,
     "metadata": {},
     "output_type": "execute_result"
    }
   ],
   "source": [
    "#retorna um iterador do tipo enumerate\n",
    "enumerate(lista1)"
   ]
  },
  {
   "cell_type": "code",
   "execution_count": 3,
   "id": "baking-summer",
   "metadata": {},
   "outputs": [
    {
     "data": {
      "text/plain": [
       "[(0, 'a'), (1, 'b'), (2, 'c')]"
      ]
     },
     "execution_count": 3,
     "metadata": {},
     "output_type": "execute_result"
    }
   ],
   "source": [
    "#para visualizar o resultado, transformamos em uma lista\n",
    "list(enumerate(lista1))"
   ]
  },
  {
   "cell_type": "code",
   "execution_count": 4,
   "id": "altered-filter",
   "metadata": {},
   "outputs": [
    {
     "data": {
      "text/plain": [
       "[(5, 'a'), (6, 'b'), (7, 'c')]"
      ]
     },
     "execution_count": 4,
     "metadata": {},
     "output_type": "execute_result"
    }
   ],
   "source": [
    "#para o index começar de um número específico\n",
    "list(enumerate(lista1,5))"
   ]
  },
  {
   "cell_type": "code",
   "execution_count": 3,
   "id": "single-lithuania",
   "metadata": {},
   "outputs": [],
   "source": [
    "meses = \"janeiro\", \"fevereiro\", \"março\", \"abril\", \"maio\", \"junho\""
   ]
  },
  {
   "cell_type": "code",
   "execution_count": 5,
   "id": "persistent-webcam",
   "metadata": {},
   "outputs": [
    {
     "name": "stdout",
     "output_type": "stream",
     "text": [
      "index = 0 value = janeiro\n",
      "index = 1 value = fevereiro\n",
      "index = 2 value = março\n",
      "index = 3 value = abril\n",
      "index = 4 value = maio\n",
      "index = 5 value = junho\n"
     ]
    }
   ],
   "source": [
    "for index, value in enumerate(meses):\n",
    "    print(\"index =\",index,\"value =\",value)"
   ]
  },
  {
   "cell_type": "code",
   "execution_count": null,
   "id": "threatened-spencer",
   "metadata": {},
   "outputs": [],
   "source": []
  }
 ],
 "metadata": {
  "kernelspec": {
   "display_name": "Python 3",
   "language": "python",
   "name": "python3"
  },
  "language_info": {
   "codemirror_mode": {
    "name": "ipython",
    "version": 3
   },
   "file_extension": ".py",
   "mimetype": "text/x-python",
   "name": "python",
   "nbconvert_exporter": "python",
   "pygments_lexer": "ipython3",
   "version": "3.8.5"
  }
 },
 "nbformat": 4,
 "nbformat_minor": 5
}
