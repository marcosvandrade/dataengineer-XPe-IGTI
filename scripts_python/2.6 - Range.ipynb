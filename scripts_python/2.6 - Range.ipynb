{
 "cells": [
  {
   "cell_type": "markdown",
   "id": "signal-fraction",
   "metadata": {},
   "source": [
    "# Range"
   ]
  },
  {
   "cell_type": "code",
   "execution_count": 7,
   "metadata": {},
   "outputs": [],
   "source": [
    "#DESAFIO\n",
    "r = range(-1000,1,2)"
   ]
  },
  {
   "cell_type": "code",
   "execution_count": 8,
   "metadata": {},
   "outputs": [
    {
     "data": {
      "text/plain": [
       "[-1000,\n",
       " -998,\n",
       " -996,\n",
       " -994,\n",
       " -992,\n",
       " -990,\n",
       " -988,\n",
       " -986,\n",
       " -984,\n",
       " -982,\n",
       " -980,\n",
       " -978,\n",
       " -976,\n",
       " -974,\n",
       " -972,\n",
       " -970,\n",
       " -968,\n",
       " -966,\n",
       " -964,\n",
       " -962,\n",
       " -960,\n",
       " -958,\n",
       " -956,\n",
       " -954,\n",
       " -952,\n",
       " -950,\n",
       " -948,\n",
       " -946,\n",
       " -944,\n",
       " -942,\n",
       " -940,\n",
       " -938,\n",
       " -936,\n",
       " -934,\n",
       " -932,\n",
       " -930,\n",
       " -928,\n",
       " -926,\n",
       " -924,\n",
       " -922,\n",
       " -920,\n",
       " -918,\n",
       " -916,\n",
       " -914,\n",
       " -912,\n",
       " -910,\n",
       " -908,\n",
       " -906,\n",
       " -904,\n",
       " -902,\n",
       " -900,\n",
       " -898,\n",
       " -896,\n",
       " -894,\n",
       " -892,\n",
       " -890,\n",
       " -888,\n",
       " -886,\n",
       " -884,\n",
       " -882,\n",
       " -880,\n",
       " -878,\n",
       " -876,\n",
       " -874,\n",
       " -872,\n",
       " -870,\n",
       " -868,\n",
       " -866,\n",
       " -864,\n",
       " -862,\n",
       " -860,\n",
       " -858,\n",
       " -856,\n",
       " -854,\n",
       " -852,\n",
       " -850,\n",
       " -848,\n",
       " -846,\n",
       " -844,\n",
       " -842,\n",
       " -840,\n",
       " -838,\n",
       " -836,\n",
       " -834,\n",
       " -832,\n",
       " -830,\n",
       " -828,\n",
       " -826,\n",
       " -824,\n",
       " -822,\n",
       " -820,\n",
       " -818,\n",
       " -816,\n",
       " -814,\n",
       " -812,\n",
       " -810,\n",
       " -808,\n",
       " -806,\n",
       " -804,\n",
       " -802,\n",
       " -800,\n",
       " -798,\n",
       " -796,\n",
       " -794,\n",
       " -792,\n",
       " -790,\n",
       " -788,\n",
       " -786,\n",
       " -784,\n",
       " -782,\n",
       " -780,\n",
       " -778,\n",
       " -776,\n",
       " -774,\n",
       " -772,\n",
       " -770,\n",
       " -768,\n",
       " -766,\n",
       " -764,\n",
       " -762,\n",
       " -760,\n",
       " -758,\n",
       " -756,\n",
       " -754,\n",
       " -752,\n",
       " -750,\n",
       " -748,\n",
       " -746,\n",
       " -744,\n",
       " -742,\n",
       " -740,\n",
       " -738,\n",
       " -736,\n",
       " -734,\n",
       " -732,\n",
       " -730,\n",
       " -728,\n",
       " -726,\n",
       " -724,\n",
       " -722,\n",
       " -720,\n",
       " -718,\n",
       " -716,\n",
       " -714,\n",
       " -712,\n",
       " -710,\n",
       " -708,\n",
       " -706,\n",
       " -704,\n",
       " -702,\n",
       " -700,\n",
       " -698,\n",
       " -696,\n",
       " -694,\n",
       " -692,\n",
       " -690,\n",
       " -688,\n",
       " -686,\n",
       " -684,\n",
       " -682,\n",
       " -680,\n",
       " -678,\n",
       " -676,\n",
       " -674,\n",
       " -672,\n",
       " -670,\n",
       " -668,\n",
       " -666,\n",
       " -664,\n",
       " -662,\n",
       " -660,\n",
       " -658,\n",
       " -656,\n",
       " -654,\n",
       " -652,\n",
       " -650,\n",
       " -648,\n",
       " -646,\n",
       " -644,\n",
       " -642,\n",
       " -640,\n",
       " -638,\n",
       " -636,\n",
       " -634,\n",
       " -632,\n",
       " -630,\n",
       " -628,\n",
       " -626,\n",
       " -624,\n",
       " -622,\n",
       " -620,\n",
       " -618,\n",
       " -616,\n",
       " -614,\n",
       " -612,\n",
       " -610,\n",
       " -608,\n",
       " -606,\n",
       " -604,\n",
       " -602,\n",
       " -600,\n",
       " -598,\n",
       " -596,\n",
       " -594,\n",
       " -592,\n",
       " -590,\n",
       " -588,\n",
       " -586,\n",
       " -584,\n",
       " -582,\n",
       " -580,\n",
       " -578,\n",
       " -576,\n",
       " -574,\n",
       " -572,\n",
       " -570,\n",
       " -568,\n",
       " -566,\n",
       " -564,\n",
       " -562,\n",
       " -560,\n",
       " -558,\n",
       " -556,\n",
       " -554,\n",
       " -552,\n",
       " -550,\n",
       " -548,\n",
       " -546,\n",
       " -544,\n",
       " -542,\n",
       " -540,\n",
       " -538,\n",
       " -536,\n",
       " -534,\n",
       " -532,\n",
       " -530,\n",
       " -528,\n",
       " -526,\n",
       " -524,\n",
       " -522,\n",
       " -520,\n",
       " -518,\n",
       " -516,\n",
       " -514,\n",
       " -512,\n",
       " -510,\n",
       " -508,\n",
       " -506,\n",
       " -504,\n",
       " -502,\n",
       " -500,\n",
       " -498,\n",
       " -496,\n",
       " -494,\n",
       " -492,\n",
       " -490,\n",
       " -488,\n",
       " -486,\n",
       " -484,\n",
       " -482,\n",
       " -480,\n",
       " -478,\n",
       " -476,\n",
       " -474,\n",
       " -472,\n",
       " -470,\n",
       " -468,\n",
       " -466,\n",
       " -464,\n",
       " -462,\n",
       " -460,\n",
       " -458,\n",
       " -456,\n",
       " -454,\n",
       " -452,\n",
       " -450,\n",
       " -448,\n",
       " -446,\n",
       " -444,\n",
       " -442,\n",
       " -440,\n",
       " -438,\n",
       " -436,\n",
       " -434,\n",
       " -432,\n",
       " -430,\n",
       " -428,\n",
       " -426,\n",
       " -424,\n",
       " -422,\n",
       " -420,\n",
       " -418,\n",
       " -416,\n",
       " -414,\n",
       " -412,\n",
       " -410,\n",
       " -408,\n",
       " -406,\n",
       " -404,\n",
       " -402,\n",
       " -400,\n",
       " -398,\n",
       " -396,\n",
       " -394,\n",
       " -392,\n",
       " -390,\n",
       " -388,\n",
       " -386,\n",
       " -384,\n",
       " -382,\n",
       " -380,\n",
       " -378,\n",
       " -376,\n",
       " -374,\n",
       " -372,\n",
       " -370,\n",
       " -368,\n",
       " -366,\n",
       " -364,\n",
       " -362,\n",
       " -360,\n",
       " -358,\n",
       " -356,\n",
       " -354,\n",
       " -352,\n",
       " -350,\n",
       " -348,\n",
       " -346,\n",
       " -344,\n",
       " -342,\n",
       " -340,\n",
       " -338,\n",
       " -336,\n",
       " -334,\n",
       " -332,\n",
       " -330,\n",
       " -328,\n",
       " -326,\n",
       " -324,\n",
       " -322,\n",
       " -320,\n",
       " -318,\n",
       " -316,\n",
       " -314,\n",
       " -312,\n",
       " -310,\n",
       " -308,\n",
       " -306,\n",
       " -304,\n",
       " -302,\n",
       " -300,\n",
       " -298,\n",
       " -296,\n",
       " -294,\n",
       " -292,\n",
       " -290,\n",
       " -288,\n",
       " -286,\n",
       " -284,\n",
       " -282,\n",
       " -280,\n",
       " -278,\n",
       " -276,\n",
       " -274,\n",
       " -272,\n",
       " -270,\n",
       " -268,\n",
       " -266,\n",
       " -264,\n",
       " -262,\n",
       " -260,\n",
       " -258,\n",
       " -256,\n",
       " -254,\n",
       " -252,\n",
       " -250,\n",
       " -248,\n",
       " -246,\n",
       " -244,\n",
       " -242,\n",
       " -240,\n",
       " -238,\n",
       " -236,\n",
       " -234,\n",
       " -232,\n",
       " -230,\n",
       " -228,\n",
       " -226,\n",
       " -224,\n",
       " -222,\n",
       " -220,\n",
       " -218,\n",
       " -216,\n",
       " -214,\n",
       " -212,\n",
       " -210,\n",
       " -208,\n",
       " -206,\n",
       " -204,\n",
       " -202,\n",
       " -200,\n",
       " -198,\n",
       " -196,\n",
       " -194,\n",
       " -192,\n",
       " -190,\n",
       " -188,\n",
       " -186,\n",
       " -184,\n",
       " -182,\n",
       " -180,\n",
       " -178,\n",
       " -176,\n",
       " -174,\n",
       " -172,\n",
       " -170,\n",
       " -168,\n",
       " -166,\n",
       " -164,\n",
       " -162,\n",
       " -160,\n",
       " -158,\n",
       " -156,\n",
       " -154,\n",
       " -152,\n",
       " -150,\n",
       " -148,\n",
       " -146,\n",
       " -144,\n",
       " -142,\n",
       " -140,\n",
       " -138,\n",
       " -136,\n",
       " -134,\n",
       " -132,\n",
       " -130,\n",
       " -128,\n",
       " -126,\n",
       " -124,\n",
       " -122,\n",
       " -120,\n",
       " -118,\n",
       " -116,\n",
       " -114,\n",
       " -112,\n",
       " -110,\n",
       " -108,\n",
       " -106,\n",
       " -104,\n",
       " -102,\n",
       " -100,\n",
       " -98,\n",
       " -96,\n",
       " -94,\n",
       " -92,\n",
       " -90,\n",
       " -88,\n",
       " -86,\n",
       " -84,\n",
       " -82,\n",
       " -80,\n",
       " -78,\n",
       " -76,\n",
       " -74,\n",
       " -72,\n",
       " -70,\n",
       " -68,\n",
       " -66,\n",
       " -64,\n",
       " -62,\n",
       " -60,\n",
       " -58,\n",
       " -56,\n",
       " -54,\n",
       " -52,\n",
       " -50,\n",
       " -48,\n",
       " -46,\n",
       " -44,\n",
       " -42,\n",
       " -40,\n",
       " -38,\n",
       " -36,\n",
       " -34,\n",
       " -32,\n",
       " -30,\n",
       " -28,\n",
       " -26,\n",
       " -24,\n",
       " -22,\n",
       " -20,\n",
       " -18,\n",
       " -16,\n",
       " -14,\n",
       " -12,\n",
       " -10,\n",
       " -8,\n",
       " -6,\n",
       " -4,\n",
       " -2,\n",
       " 0]"
      ]
     },
     "execution_count": 8,
     "metadata": {},
     "output_type": "execute_result"
    }
   ],
   "source": [
    "list(r)"
   ]
  },
  {
   "cell_type": "code",
   "execution_count": 20,
   "id": "neural-dressing",
   "metadata": {},
   "outputs": [],
   "source": [
    "range?"
   ]
  },
  {
   "cell_type": "code",
   "execution_count": 3,
   "id": "mysterious-navigation",
   "metadata": {},
   "outputs": [
    {
     "data": {
      "text/plain": [
       "range(1, 10)"
      ]
     },
     "execution_count": 3,
     "metadata": {},
     "output_type": "execute_result"
    }
   ],
   "source": [
    "intervalo = range(1,10)\n",
    "intervalo"
   ]
  },
  {
   "cell_type": "code",
   "execution_count": 4,
   "id": "downtown-thriller",
   "metadata": {},
   "outputs": [
    {
     "data": {
      "text/plain": [
       "9"
      ]
     },
     "execution_count": 4,
     "metadata": {},
     "output_type": "execute_result"
    }
   ],
   "source": [
    "len(intervalo)"
   ]
  },
  {
   "cell_type": "code",
   "execution_count": 5,
   "id": "social-borough",
   "metadata": {},
   "outputs": [
    {
     "data": {
      "text/plain": [
       "[1, 2, 3, 4, 5, 6, 7, 8, 9]"
      ]
     },
     "execution_count": 5,
     "metadata": {},
     "output_type": "execute_result"
    }
   ],
   "source": [
    "list(intervalo)"
   ]
  },
  {
   "cell_type": "code",
   "execution_count": 6,
   "id": "different-polish",
   "metadata": {},
   "outputs": [
    {
     "data": {
      "text/plain": [
       "range(1, 10, 2)"
      ]
     },
     "execution_count": 6,
     "metadata": {},
     "output_type": "execute_result"
    }
   ],
   "source": [
    "intervalo2 = range(1,10,2)\n",
    "intervalo2"
   ]
  },
  {
   "cell_type": "code",
   "execution_count": 7,
   "id": "viral-tenant",
   "metadata": {},
   "outputs": [
    {
     "data": {
      "text/plain": [
       "5"
      ]
     },
     "execution_count": 7,
     "metadata": {},
     "output_type": "execute_result"
    }
   ],
   "source": [
    "len(intervalo2)"
   ]
  },
  {
   "cell_type": "code",
   "execution_count": 8,
   "id": "changing-melbourne",
   "metadata": {},
   "outputs": [
    {
     "data": {
      "text/plain": [
       "[1, 3, 5, 7, 9]"
      ]
     },
     "execution_count": 8,
     "metadata": {},
     "output_type": "execute_result"
    }
   ],
   "source": [
    "list(intervalo2)"
   ]
  },
  {
   "cell_type": "code",
   "execution_count": 9,
   "id": "disabled-forge",
   "metadata": {},
   "outputs": [
    {
     "ename": "AttributeError",
     "evalue": "'range' object has no attribute 'append'",
     "output_type": "error",
     "traceback": [
      "\u001b[0;31m---------------------------------------------------------------------------\u001b[0m",
      "\u001b[0;31mAttributeError\u001b[0m                            Traceback (most recent call last)",
      "\u001b[0;32m<ipython-input-9-3762345bc2ea>\u001b[0m in \u001b[0;36m<module>\u001b[0;34m\u001b[0m\n\u001b[0;32m----> 1\u001b[0;31m \u001b[0mintervalo2\u001b[0m\u001b[0;34m.\u001b[0m\u001b[0mappend\u001b[0m\u001b[0;34m(\u001b[0m\u001b[0;36m10\u001b[0m\u001b[0;34m)\u001b[0m\u001b[0;34m\u001b[0m\u001b[0;34m\u001b[0m\u001b[0m\n\u001b[0m",
      "\u001b[0;31mAttributeError\u001b[0m: 'range' object has no attribute 'append'"
     ]
    }
   ],
   "source": [
    "intervalo2.append(10)"
   ]
  },
  {
   "cell_type": "code",
   "execution_count": 10,
   "id": "proprietary-instrument",
   "metadata": {},
   "outputs": [
    {
     "data": {
      "text/plain": [
       "range(3, 5, 2)"
      ]
     },
     "execution_count": 10,
     "metadata": {},
     "output_type": "execute_result"
    }
   ],
   "source": [
    "intervalo2[1:2]"
   ]
  },
  {
   "cell_type": "code",
   "execution_count": 15,
   "id": "regulation-palace",
   "metadata": {},
   "outputs": [
    {
     "data": {
      "text/plain": [
       "range(10, 1)"
      ]
     },
     "execution_count": 15,
     "metadata": {},
     "output_type": "execute_result"
    }
   ],
   "source": [
    "intervalo3 = range(10,1)\n",
    "intervalo3"
   ]
  },
  {
   "cell_type": "code",
   "execution_count": 16,
   "id": "relative-machine",
   "metadata": {},
   "outputs": [
    {
     "data": {
      "text/plain": [
       "[]"
      ]
     },
     "execution_count": 16,
     "metadata": {},
     "output_type": "execute_result"
    }
   ],
   "source": [
    "list(intervalo3)"
   ]
  },
  {
   "cell_type": "code",
   "execution_count": 17,
   "id": "yellow-muslim",
   "metadata": {},
   "outputs": [
    {
     "data": {
      "text/plain": [
       "range(10, 1, -1)"
      ]
     },
     "execution_count": 17,
     "metadata": {},
     "output_type": "execute_result"
    }
   ],
   "source": [
    "intervalo4 = range(10,1,-1)\n",
    "intervalo4"
   ]
  },
  {
   "cell_type": "code",
   "execution_count": 18,
   "id": "minor-suspension",
   "metadata": {},
   "outputs": [
    {
     "data": {
      "text/plain": [
       "[10, 9, 8, 7, 6, 5, 4, 3, 2]"
      ]
     },
     "execution_count": 18,
     "metadata": {},
     "output_type": "execute_result"
    }
   ],
   "source": [
    "list(intervalo4)"
   ]
  },
  {
   "cell_type": "markdown",
   "id": "fatty-arbor",
   "metadata": {},
   "source": [
    "## Não consigo criar range de range"
   ]
  },
  {
   "cell_type": "code",
   "execution_count": 22,
   "id": "serious-lemon",
   "metadata": {},
   "outputs": [
    {
     "ename": "TypeError",
     "evalue": "'range' object cannot be interpreted as an integer",
     "output_type": "error",
     "traceback": [
      "\u001b[0;31m---------------------------------------------------------------------------\u001b[0m",
      "\u001b[0;31mTypeError\u001b[0m                                 Traceback (most recent call last)",
      "\u001b[0;32m<ipython-input-22-cc3d6d2fa013>\u001b[0m in \u001b[0;36m<module>\u001b[0;34m\u001b[0m\n\u001b[0;32m----> 1\u001b[0;31m \u001b[0mrange\u001b[0m\u001b[0;34m(\u001b[0m\u001b[0mrange\u001b[0m\u001b[0;34m(\u001b[0m\u001b[0;36m0\u001b[0m\u001b[0;34m,\u001b[0m\u001b[0;36m5\u001b[0m\u001b[0;34m)\u001b[0m\u001b[0;34m,\u001b[0m\u001b[0;36m1\u001b[0m\u001b[0;34m)\u001b[0m\u001b[0;34m\u001b[0m\u001b[0;34m\u001b[0m\u001b[0m\n\u001b[0m",
      "\u001b[0;31mTypeError\u001b[0m: 'range' object cannot be interpreted as an integer"
     ]
    }
   ],
   "source": [
    "range(range(0,5),1)"
   ]
  },
  {
   "cell_type": "code",
   "execution_count": null,
   "id": "eastern-baseline",
   "metadata": {},
   "outputs": [],
   "source": []
  },
  {
   "cell_type": "markdown",
   "id": "sound-motion",
   "metadata": {},
   "source": [
    "## Desafio"
   ]
  },
  {
   "cell_type": "markdown",
   "id": "unsigned-steal",
   "metadata": {},
   "source": [
    "### Gere um intervo de -1000 a 0 retornando apenas os números pares"
   ]
  },
  {
   "cell_type": "code",
   "execution_count": null,
   "id": "transparent-quarterly",
   "metadata": {},
   "outputs": [],
   "source": []
  }
 ],
 "metadata": {
  "kernelspec": {
   "display_name": "Python 3",
   "language": "python",
   "name": "python3"
  },
  "language_info": {
   "codemirror_mode": {
    "name": "ipython",
    "version": 3
   },
   "file_extension": ".py",
   "mimetype": "text/x-python",
   "name": "python",
   "nbconvert_exporter": "python",
   "pygments_lexer": "ipython3",
   "version": "3.10.13"
  }
 },
 "nbformat": 4,
 "nbformat_minor": 5
}
