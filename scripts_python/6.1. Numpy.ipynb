{
 "cells": [
  {
   "cell_type": "markdown",
   "id": "surgical-static",
   "metadata": {},
   "source": [
    "# Numpy"
   ]
  },
  {
   "cell_type": "code",
   "execution_count": 1,
   "id": "thirty-sustainability",
   "metadata": {},
   "outputs": [],
   "source": [
    "import numpy as np"
   ]
  },
  {
   "cell_type": "code",
   "execution_count": 18,
   "id": "textile-system",
   "metadata": {},
   "outputs": [],
   "source": [
    "#cria um array a partir de uma lista\n",
    "vetor1 = np.array([1,2,3,4,5,6,7.2])"
   ]
  },
  {
   "cell_type": "code",
   "execution_count": 19,
   "id": "interior-journalist",
   "metadata": {},
   "outputs": [
    {
     "data": {
      "text/plain": [
       "dtype('float64')"
      ]
     },
     "execution_count": 19,
     "metadata": {},
     "output_type": "execute_result"
    }
   ],
   "source": [
    "#tipo\n",
    "vetor1.dtype"
   ]
  },
  {
   "cell_type": "code",
   "execution_count": 4,
   "id": "ordinary-purple",
   "metadata": {},
   "outputs": [
    {
     "data": {
      "text/plain": [
       "(6,)"
      ]
     },
     "execution_count": 4,
     "metadata": {},
     "output_type": "execute_result"
    }
   ],
   "source": [
    "#dimensão do vetor\n",
    "vetor1.shape"
   ]
  },
  {
   "cell_type": "code",
   "execution_count": 5,
   "id": "arabic-snowboard",
   "metadata": {},
   "outputs": [],
   "source": [
    "#cria um array com uma função do numpy\n",
    "vetor2 = np.arange(1,7,1)"
   ]
  },
  {
   "cell_type": "code",
   "execution_count": 6,
   "id": "mineral-dominican",
   "metadata": {},
   "outputs": [
    {
     "data": {
      "text/plain": [
       "array([3, 4, 5, 6])"
      ]
     },
     "execution_count": 6,
     "metadata": {},
     "output_type": "execute_result"
    }
   ],
   "source": [
    "#posso filtrar\n",
    "vetor2[vetor2 > 2]"
   ]
  },
  {
   "cell_type": "code",
   "execution_count": 7,
   "id": "collective-rental",
   "metadata": {},
   "outputs": [
    {
     "data": {
      "text/plain": [
       "21"
      ]
     },
     "execution_count": 7,
     "metadata": {},
     "output_type": "execute_result"
    }
   ],
   "source": [
    "#posso fazer operações - soma\n",
    "vetor2.sum()"
   ]
  },
  {
   "cell_type": "code",
   "execution_count": 8,
   "id": "exotic-hanging",
   "metadata": {},
   "outputs": [
    {
     "data": {
      "text/plain": [
       "3.5"
      ]
     },
     "execution_count": 8,
     "metadata": {},
     "output_type": "execute_result"
    }
   ],
   "source": [
    "#posso fazer operações - média\n",
    "vetor2.mean()"
   ]
  },
  {
   "cell_type": "code",
   "execution_count": 9,
   "id": "marine-equation",
   "metadata": {},
   "outputs": [
    {
     "data": {
      "text/plain": [
       "array([[1, 2, 3],\n",
       "       [4, 5, 6]])"
      ]
     },
     "execution_count": 9,
     "metadata": {},
     "output_type": "execute_result"
    }
   ],
   "source": [
    "#posso modificar a dimensão do vetor\n",
    "vetor2.reshape(2,-1)"
   ]
  },
  {
   "cell_type": "markdown",
   "id": "young-pattern",
   "metadata": {},
   "source": [
    "## Posso fazer operações com numpy"
   ]
  },
  {
   "cell_type": "code",
   "execution_count": 11,
   "id": "relevant-processor",
   "metadata": {},
   "outputs": [
    {
     "data": {
      "text/plain": [
       "4.6"
      ]
     },
     "execution_count": 11,
     "metadata": {},
     "output_type": "execute_result"
    }
   ],
   "source": [
    "np.mean([1,2,3,5,12])"
   ]
  },
  {
   "cell_type": "code",
   "execution_count": 12,
   "id": "brutal-custom",
   "metadata": {},
   "outputs": [
    {
     "data": {
      "text/plain": [
       "3.0"
      ]
     },
     "execution_count": 12,
     "metadata": {},
     "output_type": "execute_result"
    }
   ],
   "source": [
    "np.median([1,2,3,5,12])"
   ]
  },
  {
   "cell_type": "code",
   "execution_count": 13,
   "id": "premium-covering",
   "metadata": {},
   "outputs": [
    {
     "data": {
      "text/plain": [
       "12"
      ]
     },
     "execution_count": 13,
     "metadata": {},
     "output_type": "execute_result"
    }
   ],
   "source": [
    "np.max([1,2,3,5,12])"
   ]
  },
  {
   "cell_type": "code",
   "execution_count": 14,
   "id": "challenging-transparency",
   "metadata": {},
   "outputs": [
    {
     "data": {
      "text/plain": [
       "1"
      ]
     },
     "execution_count": 14,
     "metadata": {},
     "output_type": "execute_result"
    }
   ],
   "source": [
    "np.min([1,2,3,5,12])"
   ]
  },
  {
   "cell_type": "code",
   "execution_count": 15,
   "id": "continuing-content",
   "metadata": {},
   "outputs": [
    {
     "data": {
      "text/plain": [
       "3.9293765408777004"
      ]
     },
     "execution_count": 15,
     "metadata": {},
     "output_type": "execute_result"
    }
   ],
   "source": [
    "np.std([1,2,3,5,12])"
   ]
  },
  {
   "cell_type": "code",
   "execution_count": null,
   "id": "studied-africa",
   "metadata": {},
   "outputs": [],
   "source": []
  }
 ],
 "metadata": {
  "kernelspec": {
   "display_name": "Python 3",
   "language": "python",
   "name": "python3"
  },
  "language_info": {
   "codemirror_mode": {
    "name": "ipython",
    "version": 3
   },
   "file_extension": ".py",
   "mimetype": "text/x-python",
   "name": "python",
   "nbconvert_exporter": "python",
   "pygments_lexer": "ipython3",
   "version": "3.8.5"
  }
 },
 "nbformat": 4,
 "nbformat_minor": 5
}
