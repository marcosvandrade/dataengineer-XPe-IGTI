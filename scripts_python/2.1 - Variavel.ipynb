{
 "cells": [
  {
   "cell_type": "markdown",
   "id": "frequent-sculpture",
   "metadata": {},
   "source": [
    "# Variáveis e tipos"
   ]
  },
  {
   "cell_type": "code",
   "execution_count": 2,
   "id": "broken-somalia",
   "metadata": {},
   "outputs": [],
   "source": [
    "idade = 18\n",
    "nome = \"Maria\"\n",
    "salario = 1000.2"
   ]
  },
  {
   "cell_type": "code",
   "execution_count": 3,
   "id": "specified-shanghai",
   "metadata": {},
   "outputs": [
    {
     "data": {
      "text/plain": [
       "18"
      ]
     },
     "execution_count": 3,
     "metadata": {},
     "output_type": "execute_result"
    }
   ],
   "source": [
    "idade"
   ]
  },
  {
   "cell_type": "code",
   "execution_count": 4,
   "id": "charming-prediction",
   "metadata": {},
   "outputs": [
    {
     "data": {
      "text/plain": [
       "int"
      ]
     },
     "execution_count": 4,
     "metadata": {},
     "output_type": "execute_result"
    }
   ],
   "source": [
    "type(idade)"
   ]
  },
  {
   "cell_type": "code",
   "execution_count": 5,
   "id": "concerned-neighbor",
   "metadata": {},
   "outputs": [
    {
     "data": {
      "text/plain": [
       "18"
      ]
     },
     "execution_count": 5,
     "metadata": {},
     "output_type": "execute_result"
    }
   ],
   "source": [
    "#método do int\n",
    "idade"
   ]
  },
  {
   "cell_type": "code",
   "execution_count": 6,
   "id": "driven-manner",
   "metadata": {},
   "outputs": [
    {
     "data": {
      "text/plain": [
       "'Maria'"
      ]
     },
     "execution_count": 6,
     "metadata": {},
     "output_type": "execute_result"
    }
   ],
   "source": [
    "nome"
   ]
  },
  {
   "cell_type": "code",
   "execution_count": 7,
   "id": "common-administrator",
   "metadata": {},
   "outputs": [
    {
     "data": {
      "text/plain": [
       "str"
      ]
     },
     "execution_count": 7,
     "metadata": {},
     "output_type": "execute_result"
    }
   ],
   "source": [
    "type(nome)"
   ]
  },
  {
   "cell_type": "code",
   "execution_count": 8,
   "id": "false-plastic",
   "metadata": {},
   "outputs": [
    {
     "data": {
      "text/plain": [
       "'Maria'"
      ]
     },
     "execution_count": 8,
     "metadata": {},
     "output_type": "execute_result"
    }
   ],
   "source": [
    "#método da string\n",
    "nome"
   ]
  },
  {
   "cell_type": "code",
   "execution_count": 9,
   "id": "regular-extent",
   "metadata": {},
   "outputs": [
    {
     "data": {
      "text/plain": [
       "1000.2"
      ]
     },
     "execution_count": 9,
     "metadata": {},
     "output_type": "execute_result"
    }
   ],
   "source": [
    "salario"
   ]
  },
  {
   "cell_type": "code",
   "execution_count": 10,
   "id": "organizational-float",
   "metadata": {},
   "outputs": [
    {
     "data": {
      "text/plain": [
       "float"
      ]
     },
     "execution_count": 10,
     "metadata": {},
     "output_type": "execute_result"
    }
   ],
   "source": [
    "type(salario)"
   ]
  },
  {
   "cell_type": "code",
   "execution_count": 11,
   "id": "coupled-mixer",
   "metadata": {},
   "outputs": [
    {
     "data": {
      "text/plain": [
       "1000.2"
      ]
     },
     "execution_count": 11,
     "metadata": {},
     "output_type": "execute_result"
    }
   ],
   "source": [
    "#metodo\n",
    "salario"
   ]
  },
  {
   "cell_type": "code",
   "execution_count": 12,
   "id": "representative-magnet",
   "metadata": {},
   "outputs": [
    {
     "ename": "NameError",
     "evalue": "name 'teste' is not defined",
     "output_type": "error",
     "traceback": [
      "\u001b[1;31m---------------------------------------------------------------------------\u001b[0m",
      "\u001b[1;31mNameError\u001b[0m                                 Traceback (most recent call last)",
      "\u001b[1;32md:\\OneDrive\\School\\XPe-IGTI\\scripts_python\\2.1 - Variavel.ipynb Cell 12\u001b[0m line \u001b[0;36m1\n\u001b[1;32m----> <a href='vscode-notebook-cell:/d%3A/OneDrive/School/XPe-IGTI/scripts_python/2.1%20-%20Variavel.ipynb#X14sZmlsZQ%3D%3D?line=0'>1</a>\u001b[0m teste\n",
      "\u001b[1;31mNameError\u001b[0m: name 'teste' is not defined"
     ]
    }
   ],
   "source": [
    "teste"
   ]
  },
  {
   "cell_type": "code",
   "execution_count": null,
   "id": "subjective-memorial",
   "metadata": {},
   "outputs": [],
   "source": []
  },
  {
   "cell_type": "code",
   "execution_count": null,
   "id": "historical-swift",
   "metadata": {},
   "outputs": [],
   "source": []
  },
  {
   "cell_type": "markdown",
   "id": "capital-fifth",
   "metadata": {},
   "source": [
    "# Declaração mútipla"
   ]
  },
  {
   "cell_type": "code",
   "execution_count": 13,
   "id": "relative-extraction",
   "metadata": {},
   "outputs": [],
   "source": [
    "aluno1, aluno2, aluno3, aluno4 = \"ana\", \"maria\",\"joão\",\"josé\""
   ]
  },
  {
   "cell_type": "code",
   "execution_count": 14,
   "id": "floating-producer",
   "metadata": {},
   "outputs": [
    {
     "data": {
      "text/plain": [
       "'ana'"
      ]
     },
     "execution_count": 14,
     "metadata": {},
     "output_type": "execute_result"
    }
   ],
   "source": [
    "aluno1"
   ]
  },
  {
   "cell_type": "code",
   "execution_count": 15,
   "id": "geological-trinidad",
   "metadata": {},
   "outputs": [
    {
     "data": {
      "text/plain": [
       "'maria'"
      ]
     },
     "execution_count": 15,
     "metadata": {},
     "output_type": "execute_result"
    }
   ],
   "source": [
    "aluno2"
   ]
  },
  {
   "cell_type": "code",
   "execution_count": 16,
   "id": "polyphonic-guest",
   "metadata": {},
   "outputs": [
    {
     "data": {
      "text/plain": [
       "'joão'"
      ]
     },
     "execution_count": 16,
     "metadata": {},
     "output_type": "execute_result"
    }
   ],
   "source": [
    "aluno3"
   ]
  },
  {
   "cell_type": "code",
   "execution_count": 17,
   "id": "alpine-saturday",
   "metadata": {},
   "outputs": [
    {
     "data": {
      "text/plain": [
       "'josé'"
      ]
     },
     "execution_count": 17,
     "metadata": {},
     "output_type": "execute_result"
    }
   ],
   "source": [
    "aluno4"
   ]
  },
  {
   "cell_type": "code",
   "execution_count": 18,
   "id": "working-saudi",
   "metadata": {},
   "outputs": [],
   "source": [
    "idade1 = idade2 = 12"
   ]
  },
  {
   "cell_type": "code",
   "execution_count": 19,
   "id": "convenient-railway",
   "metadata": {},
   "outputs": [
    {
     "data": {
      "text/plain": [
       "12"
      ]
     },
     "execution_count": 19,
     "metadata": {},
     "output_type": "execute_result"
    }
   ],
   "source": [
    "idade1"
   ]
  },
  {
   "cell_type": "code",
   "execution_count": 20,
   "id": "obvious-librarian",
   "metadata": {},
   "outputs": [
    {
     "data": {
      "text/plain": [
       "12"
      ]
     },
     "execution_count": 20,
     "metadata": {},
     "output_type": "execute_result"
    }
   ],
   "source": [
    "idade2"
   ]
  },
  {
   "cell_type": "markdown",
   "id": "hazardous-marijuana",
   "metadata": {},
   "source": [
    "# Nome das variáveis\n",
    "podemos usar letras, números e underline (mas não se pode começar com números)"
   ]
  },
  {
   "cell_type": "code",
   "execution_count": 21,
   "id": "anonymous-handy",
   "metadata": {},
   "outputs": [],
   "source": [
    "idade1=18"
   ]
  },
  {
   "cell_type": "code",
   "execution_count": 22,
   "id": "decreased-iraqi",
   "metadata": {},
   "outputs": [
    {
     "ename": "SyntaxError",
     "evalue": "invalid decimal literal (205645877.py, line 1)",
     "output_type": "error",
     "traceback": [
      "\u001b[1;36m  Cell \u001b[1;32mIn[22], line 1\u001b[1;36m\u001b[0m\n\u001b[1;33m    1dade=18\u001b[0m\n\u001b[1;37m    ^\u001b[0m\n\u001b[1;31mSyntaxError\u001b[0m\u001b[1;31m:\u001b[0m invalid decimal literal\n"
     ]
    }
   ],
   "source": [
    "1dade=18"
   ]
  },
  {
   "cell_type": "code",
   "execution_count": null,
   "id": "stuffed-louisville",
   "metadata": {},
   "outputs": [],
   "source": [
    "idade-18 = 18"
   ]
  },
  {
   "cell_type": "markdown",
   "id": "competitive-switzerland",
   "metadata": {},
   "source": [
    "## palavras reservadas"
   ]
  },
  {
   "cell_type": "code",
   "execution_count": null,
   "id": "occasional-scratch",
   "metadata": {},
   "outputs": [],
   "source": [
    "class = 1"
   ]
  },
  {
   "cell_type": "code",
   "execution_count": null,
   "id": "concerned-activation",
   "metadata": {},
   "outputs": [],
   "source": [
    "def = 5"
   ]
  },
  {
   "cell_type": "code",
   "execution_count": null,
   "id": "foreign-labor",
   "metadata": {},
   "outputs": [],
   "source": [
    "None "
   ]
  },
  {
   "cell_type": "code",
   "execution_count": null,
   "id": "suspended-mongolia",
   "metadata": {},
   "outputs": [],
   "source": [
    "email@ = \"barbarasilveiraf@gmail.com\""
   ]
  },
  {
   "cell_type": "code",
   "execution_count": null,
   "id": "operational-modern",
   "metadata": {},
   "outputs": [],
   "source": [
    "#o python permite o ç mas não é uma boa prática.\n",
    "endereço = 1"
   ]
  },
  {
   "cell_type": "markdown",
   "id": "parallel-satin",
   "metadata": {},
   "source": [
    "# Convertendo tipos"
   ]
  },
  {
   "cell_type": "code",
   "execution_count": null,
   "id": "fatal-vector",
   "metadata": {},
   "outputs": [],
   "source": [
    "int(2.3)"
   ]
  },
  {
   "cell_type": "code",
   "execution_count": null,
   "id": "regular-testing",
   "metadata": {},
   "outputs": [],
   "source": [
    "float(5)"
   ]
  },
  {
   "cell_type": "code",
   "execution_count": null,
   "id": "neutral-empty",
   "metadata": {},
   "outputs": [],
   "source": [
    "int(\"5.6\")"
   ]
  },
  {
   "cell_type": "code",
   "execution_count": null,
   "id": "amino-medicare",
   "metadata": {},
   "outputs": [],
   "source": [
    "int(float(\"5.6\"))"
   ]
  },
  {
   "cell_type": "code",
   "execution_count": null,
   "id": "solid-costume",
   "metadata": {},
   "outputs": [],
   "source": [
    "hex(5)"
   ]
  },
  {
   "cell_type": "code",
   "execution_count": null,
   "id": "functional-cause",
   "metadata": {},
   "outputs": [],
   "source": [
    "bin(2)"
   ]
  },
  {
   "cell_type": "code",
   "execution_count": null,
   "id": "massive-powell",
   "metadata": {},
   "outputs": [],
   "source": [
    "bin(4)"
   ]
  },
  {
   "cell_type": "markdown",
   "id": "unlimited-incidence",
   "metadata": {},
   "source": [
    "# Alguns métodos"
   ]
  },
  {
   "cell_type": "code",
   "execution_count": 23,
   "id": "naked-ghost",
   "metadata": {},
   "outputs": [
    {
     "data": {
      "text/plain": [
       "8"
      ]
     },
     "execution_count": 23,
     "metadata": {},
     "output_type": "execute_result"
    }
   ],
   "source": [
    "abs(8)"
   ]
  },
  {
   "cell_type": "code",
   "execution_count": 24,
   "id": "literary-antibody",
   "metadata": {},
   "outputs": [
    {
     "data": {
      "text/plain": [
       "100"
      ]
     },
     "execution_count": 24,
     "metadata": {},
     "output_type": "execute_result"
    }
   ],
   "source": [
    "abs(-100)"
   ]
  },
  {
   "cell_type": "code",
   "execution_count": 25,
   "id": "impaired-seeker",
   "metadata": {},
   "outputs": [
    {
     "data": {
      "text/plain": [
       "100.56"
      ]
     },
     "execution_count": 25,
     "metadata": {},
     "output_type": "execute_result"
    }
   ],
   "source": [
    "round(100.5555,2)"
   ]
  },
  {
   "cell_type": "code",
   "execution_count": null,
   "id": "filled-fraction",
   "metadata": {},
   "outputs": [],
   "source": []
  }
 ],
 "metadata": {
  "kernelspec": {
   "display_name": "Python 3",
   "language": "python",
   "name": "python3"
  },
  "language_info": {
   "codemirror_mode": {
    "name": "ipython",
    "version": 3
   },
   "file_extension": ".py",
   "mimetype": "text/x-python",
   "name": "python",
   "nbconvert_exporter": "python",
   "pygments_lexer": "ipython3",
   "version": "3.10.13"
  }
 },
 "nbformat": 4,
 "nbformat_minor": 5
}
