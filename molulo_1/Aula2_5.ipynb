{
  "nbformat": 4,
  "nbformat_minor": 0,
  "metadata": {
    "colab": {
      "provenance": [],
      "authorship_tag": "ABX9TyOQzTluCkdIgp6Qidnaid3k",
      "include_colab_link": true
    },
    "kernelspec": {
      "name": "python3",
      "display_name": "Python 3"
    },
    "language_info": {
      "name": "python"
    }
  },
  "cells": [
    {
      "cell_type": "markdown",
      "metadata": {
        "id": "view-in-github",
        "colab_type": "text"
      },
      "source": [
        "<a href=\"https://colab.research.google.com/github/marcosvandrade/dataengineer-XPe-IGTI/blob/main/Aula2_5.ipynb\" target=\"_parent\"><img src=\"https://colab.research.google.com/assets/colab-badge.svg\" alt=\"Open In Colab\"/></a>"
      ]
    },
    {
      "cell_type": "code",
      "execution_count": 4,
      "metadata": {
        "id": "XdhzllDV0fiw"
      },
      "outputs": [],
      "source": [
        "from google.colab import drive\n",
        "import os"
      ]
    },
    {
      "cell_type": "code",
      "source": [
        "drive.mount('/content/drive')"
      ],
      "metadata": {
        "colab": {
          "base_uri": "https://localhost:8080/"
        },
        "id": "r4kE8kK03IP3",
        "outputId": "e945c572-5a9a-407b-8b87-3bb18090ab13"
      },
      "execution_count": 5,
      "outputs": [
        {
          "output_type": "stream",
          "name": "stdout",
          "text": [
            "Drive already mounted at /content/drive; to attempt to forcibly remount, call drive.mount(\"/content/drive\", force_remount=True).\n"
          ]
        }
      ]
    },
    {
      "cell_type": "code",
      "source": [
        "dir = '/content/drive/MyDrive/xpe/data'\n",
        "\n",
        "list_files = os.listdir(dir)\n",
        "list_files"
      ],
      "metadata": {
        "colab": {
          "base_uri": "https://localhost:8080/"
        },
        "id": "YOVDRTIA04CB",
        "outputId": "76c008e4-f181-41f4-9965-456c10b3c842"
      },
      "execution_count": 7,
      "outputs": [
        {
          "output_type": "execute_result",
          "data": {
            "text/plain": [
              "['2022_Passagem.csv', 'compras.csv']"
            ]
          },
          "metadata": {},
          "execution_count": 7
        }
      ]
    },
    {
      "cell_type": "code",
      "source": [
        "! pip install pyspark"
      ],
      "metadata": {
        "colab": {
          "base_uri": "https://localhost:8080/"
        },
        "id": "C1EXE1Zn3P-E",
        "outputId": "bd018065-d6de-4150-c138-7ca44723cc53"
      },
      "execution_count": 8,
      "outputs": [
        {
          "output_type": "stream",
          "name": "stdout",
          "text": [
            "Collecting pyspark\n",
            "  Downloading pyspark-3.5.0.tar.gz (316.9 MB)\n",
            "\u001b[2K     \u001b[90m━━━━━━━━━━━━━━━━━━━━━━━━━━━━━━━━━━━━━━━━\u001b[0m \u001b[32m316.9/316.9 MB\u001b[0m \u001b[31m2.4 MB/s\u001b[0m eta \u001b[36m0:00:00\u001b[0m\n",
            "\u001b[?25h  Preparing metadata (setup.py) ... \u001b[?25l\u001b[?25hdone\n",
            "Requirement already satisfied: py4j==0.10.9.7 in /usr/local/lib/python3.10/dist-packages (from pyspark) (0.10.9.7)\n",
            "Building wheels for collected packages: pyspark\n",
            "  Building wheel for pyspark (setup.py) ... \u001b[?25l\u001b[?25hdone\n",
            "  Created wheel for pyspark: filename=pyspark-3.5.0-py2.py3-none-any.whl size=317425344 sha256=1c05a7006f96c023f34133cafc190d6ed6a0f89e6b909c58bf8aae39326c4345\n",
            "  Stored in directory: /root/.cache/pip/wheels/41/4e/10/c2cf2467f71c678cfc8a6b9ac9241e5e44a01940da8fbb17fc\n",
            "Successfully built pyspark\n",
            "Installing collected packages: pyspark\n",
            "Successfully installed pyspark-3.5.0\n"
          ]
        }
      ]
    },
    {
      "cell_type": "code",
      "source": [
        "from pyspark.sql import SparkSession\n",
        "\n",
        "spark = SparkSession.builder.appName(\"Aula2.5\").getOrCreate()"
      ],
      "metadata": {
        "id": "nzJ1Bver4GQ7"
      },
      "execution_count": 9,
      "outputs": []
    },
    {
      "cell_type": "code",
      "source": [
        "from IPython.utils.sysinfo import encoding\n",
        "\n",
        "csv_file = \"2022_Passagem.csv\"\n",
        "df = spark.read.csv(f\"{dir}/{csv_file}\", header = True, encoding=\"iso-8859-1\", sep=\";\")\n",
        "\n",
        "df.show(5)"
      ],
      "metadata": {
        "colab": {
          "base_uri": "https://localhost:8080/"
        },
        "id": "NWqt4BJ74gq1",
        "outputId": "9d1cb214-d538-4860-c572-258b51a1ff98"
      },
      "execution_count": 12,
      "outputs": [
        {
          "output_type": "stream",
          "name": "stdout",
          "text": [
            "+-----------------------------------+-------------------------+------------------+-----------------+---------------+-------------------+------------------+----------------+--------------------+-------------------+-----------------+---------------------+--------------------+------------------+----------------------+-----------------+---------------+----------------------+----------------------+\n",
            "|Identificador do processo de viagem|Número da Proposta (PCDP)|Meio de transporte|País - Origem ida|UF - Origem ida|Cidade - Origem ida|País - Destino ida|UF - Destino ida|Cidade - Destino ida|País - Origem volta|UF - Origem volta|Cidade - Origem volta|Pais - Destino volta|UF - Destino volta|Cidade - Destino volta|Valor da passagem|Taxa de serviço|Data da emissão/compra|Hora da emissão/compra|\n",
            "+-----------------------------------+-------------------------+------------------+-----------------+---------------+-------------------+------------------+----------------+--------------------+-------------------+-----------------+---------------------+--------------------+------------------+----------------------+-----------------+---------------+----------------------+----------------------+\n",
            "|                0000000000017563956|             000002/22-2C|             Aéreo|           Brasil|     Pernambuco|             Recife|            Brasil|      Pernambuco| Fernando de Noronha|     Sem Informação|   Sem Informação|       Sem Informação|      Sem Informação|    Sem Informação|        Sem Informação|          1753,24|           0,00|            02/09/2021|                 11:01|\n",
            "|                0000000000017563956|             000002/22-2C|             Aéreo|           Brasil|         Paraná|           Londrina|            Brasil|      Pernambuco| Fernando de Noronha|     Sem Informação|   Sem Informação|       Sem Informação|      Sem Informação|    Sem Informação|        Sem Informação|          1144,24|           0,00|            20/12/2021|                 18:27|\n",
            "|                0000000000017563956|             000002/22-2C|             Aéreo|           Brasil|     Pernambuco|Fernando de Noronha|            Brasil|          Paraná|            Londrina|     Sem Informação|   Sem Informação|       Sem Informação|      Sem Informação|    Sem Informação|        Sem Informação|          1529,86|           0,00|            20/12/2021|                 18:27|\n",
            "|                0000000000017563956|             000002/22-2C|             Aéreo|           Brasil|     Pernambuco|Fernando de Noronha|            Brasil|      Pernambuco|              Recife|     Sem Informação|   Sem Informação|       Sem Informação|      Sem Informação|    Sem Informação|        Sem Informação|          2491,86|           0,00|            02/09/2021|                 11:01|\n",
            "|                0000000000017564009|             000001/22-2C|             Aéreo|           Brasil|     Pernambuco|Fernando de Noronha|            Brasil|      Pernambuco|              Recife|     Sem Informação|   Sem Informação|       Sem Informação|      Sem Informação|    Sem Informação|        Sem Informação|          2491,86|           0,00|            02/09/2021|                 10:58|\n",
            "+-----------------------------------+-------------------------+------------------+-----------------+---------------+-------------------+------------------+----------------+--------------------+-------------------+-----------------+---------------------+--------------------+------------------+----------------------+-----------------+---------------+----------------------+----------------------+\n",
            "only showing top 5 rows\n",
            "\n"
          ]
        }
      ]
    },
    {
      "cell_type": "code",
      "source": [
        "df.printSchema()"
      ],
      "metadata": {
        "colab": {
          "base_uri": "https://localhost:8080/"
        },
        "id": "Dnk6dbgQ5Z0R",
        "outputId": "7fb55c09-7e2f-412d-c788-e392b0befb53"
      },
      "execution_count": 13,
      "outputs": [
        {
          "output_type": "stream",
          "name": "stdout",
          "text": [
            "root\n",
            " |-- Identificador do processo de viagem: string (nullable = true)\n",
            " |-- Número da Proposta (PCDP): string (nullable = true)\n",
            " |-- Meio de transporte: string (nullable = true)\n",
            " |-- País - Origem ida: string (nullable = true)\n",
            " |-- UF - Origem ida: string (nullable = true)\n",
            " |-- Cidade - Origem ida: string (nullable = true)\n",
            " |-- País - Destino ida: string (nullable = true)\n",
            " |-- UF - Destino ida: string (nullable = true)\n",
            " |-- Cidade - Destino ida: string (nullable = true)\n",
            " |-- País - Origem volta: string (nullable = true)\n",
            " |-- UF - Origem volta: string (nullable = true)\n",
            " |-- Cidade - Origem volta: string (nullable = true)\n",
            " |-- Pais - Destino volta: string (nullable = true)\n",
            " |-- UF - Destino volta: string (nullable = true)\n",
            " |-- Cidade - Destino volta: string (nullable = true)\n",
            " |-- Valor da passagem: string (nullable = true)\n",
            " |-- Taxa de serviço: string (nullable = true)\n",
            " |-- Data da emissão/compra: string (nullable = true)\n",
            " |-- Hora da emissão/compra: string (nullable = true)\n",
            "\n"
          ]
        }
      ]
    },
    {
      "cell_type": "code",
      "source": [
        "import pyspark.sql.functions as F\n",
        "\n",
        "df_ = df.select([F.col(x).alias(x.replace(\"-\",\"\").replace(\" \", \"_\").lower()) for x in df.columns])\n",
        "\n",
        "df_"
      ],
      "metadata": {
        "colab": {
          "base_uri": "https://localhost:8080/"
        },
        "id": "QiiKGSM96ltb",
        "outputId": "17221678-0942-4dbb-a50d-0f54471c1e6b"
      },
      "execution_count": 14,
      "outputs": [
        {
          "output_type": "execute_result",
          "data": {
            "text/plain": [
              "DataFrame[identificador_do_processo_de_viagem: string, número_da_proposta_(pcdp): string, meio_de_transporte: string, país__origem_ida: string, uf__origem_ida: string, cidade__origem_ida: string, país__destino_ida: string, uf__destino_ida: string, cidade__destino_ida: string, país__origem_volta: string, uf__origem_volta: string, cidade__origem_volta: string, pais__destino_volta: string, uf__destino_volta: string, cidade__destino_volta: string, valor_da_passagem: string, taxa_de_serviço: string, data_da_emissão/compra: string, hora_da_emissão/compra: string]"
            ]
          },
          "metadata": {},
          "execution_count": 14
        }
      ]
    },
    {
      "cell_type": "code",
      "source": [
        "df_.printSchema()"
      ],
      "metadata": {
        "colab": {
          "base_uri": "https://localhost:8080/"
        },
        "id": "wH_uIoMn9VlT",
        "outputId": "e7bac69a-f6af-4e49-b33d-66830f4df8ab"
      },
      "execution_count": 15,
      "outputs": [
        {
          "output_type": "stream",
          "name": "stdout",
          "text": [
            "root\n",
            " |-- identificador_do_processo_de_viagem: string (nullable = true)\n",
            " |-- número_da_proposta_(pcdp): string (nullable = true)\n",
            " |-- meio_de_transporte: string (nullable = true)\n",
            " |-- país__origem_ida: string (nullable = true)\n",
            " |-- uf__origem_ida: string (nullable = true)\n",
            " |-- cidade__origem_ida: string (nullable = true)\n",
            " |-- país__destino_ida: string (nullable = true)\n",
            " |-- uf__destino_ida: string (nullable = true)\n",
            " |-- cidade__destino_ida: string (nullable = true)\n",
            " |-- país__origem_volta: string (nullable = true)\n",
            " |-- uf__origem_volta: string (nullable = true)\n",
            " |-- cidade__origem_volta: string (nullable = true)\n",
            " |-- pais__destino_volta: string (nullable = true)\n",
            " |-- uf__destino_volta: string (nullable = true)\n",
            " |-- cidade__destino_volta: string (nullable = true)\n",
            " |-- valor_da_passagem: string (nullable = true)\n",
            " |-- taxa_de_serviço: string (nullable = true)\n",
            " |-- data_da_emissão/compra: string (nullable = true)\n",
            " |-- hora_da_emissão/compra: string (nullable = true)\n",
            "\n"
          ]
        }
      ]
    },
    {
      "cell_type": "code",
      "source": [
        "df_1 = df_.withColumn(\"valor_da_passagem\", F.expr(\"cast(replace(valor_da_passagem, ',', '.') as float)\"))\\\n",
        "          .withColumn(\"taxa_de_serviço\", F.expr(\"cast(replace(`taxa_de_serviço`, ',', '.') as float)\"))\n",
        "\n",
        "df_1.printSchema()"
      ],
      "metadata": {
        "colab": {
          "base_uri": "https://localhost:8080/"
        },
        "id": "edrqu7Up9bUg",
        "outputId": "8315bfb9-0cee-493a-e212-08be930957fd"
      },
      "execution_count": 17,
      "outputs": [
        {
          "output_type": "stream",
          "name": "stdout",
          "text": [
            "root\n",
            " |-- identificador_do_processo_de_viagem: string (nullable = true)\n",
            " |-- número_da_proposta_(pcdp): string (nullable = true)\n",
            " |-- meio_de_transporte: string (nullable = true)\n",
            " |-- país__origem_ida: string (nullable = true)\n",
            " |-- uf__origem_ida: string (nullable = true)\n",
            " |-- cidade__origem_ida: string (nullable = true)\n",
            " |-- país__destino_ida: string (nullable = true)\n",
            " |-- uf__destino_ida: string (nullable = true)\n",
            " |-- cidade__destino_ida: string (nullable = true)\n",
            " |-- país__origem_volta: string (nullable = true)\n",
            " |-- uf__origem_volta: string (nullable = true)\n",
            " |-- cidade__origem_volta: string (nullable = true)\n",
            " |-- pais__destino_volta: string (nullable = true)\n",
            " |-- uf__destino_volta: string (nullable = true)\n",
            " |-- cidade__destino_volta: string (nullable = true)\n",
            " |-- valor_da_passagem: float (nullable = true)\n",
            " |-- taxa_de_serviço: float (nullable = true)\n",
            " |-- data_da_emissão/compra: string (nullable = true)\n",
            " |-- hora_da_emissão/compra: string (nullable = true)\n",
            "\n"
          ]
        }
      ]
    },
    {
      "cell_type": "code",
      "source": [
        "df_1.show()"
      ],
      "metadata": {
        "colab": {
          "base_uri": "https://localhost:8080/"
        },
        "id": "BsDDN8tf-nkR",
        "outputId": "1545c30e-7111-4023-de61-4135496d2a2d"
      },
      "execution_count": 18,
      "outputs": [
        {
          "output_type": "stream",
          "name": "stdout",
          "text": [
            "+-----------------------------------+-------------------------+------------------+----------------+--------------+-------------------+-----------------+----------------+-------------------+------------------+----------------+--------------------+-------------------+-----------------+---------------------+-----------------+---------------+----------------------+----------------------+\n",
            "|identificador_do_processo_de_viagem|número_da_proposta_(pcdp)|meio_de_transporte|país__origem_ida|uf__origem_ida| cidade__origem_ida|país__destino_ida| uf__destino_ida|cidade__destino_ida|país__origem_volta|uf__origem_volta|cidade__origem_volta|pais__destino_volta|uf__destino_volta|cidade__destino_volta|valor_da_passagem|taxa_de_serviço|data_da_emissão/compra|hora_da_emissão/compra|\n",
            "+-----------------------------------+-------------------------+------------------+----------------+--------------+-------------------+-----------------+----------------+-------------------+------------------+----------------+--------------------+-------------------+-----------------+---------------------+-----------------+---------------+----------------------+----------------------+\n",
            "|                0000000000017563956|             000002/22-2C|             Aéreo|          Brasil|    Pernambuco|             Recife|           Brasil|      Pernambuco|Fernando de Noronha|    Sem Informação|  Sem Informação|      Sem Informação|     Sem Informação|   Sem Informação|       Sem Informação|          1753.24|            0.0|            02/09/2021|                 11:01|\n",
            "|                0000000000017563956|             000002/22-2C|             Aéreo|          Brasil|        Paraná|           Londrina|           Brasil|      Pernambuco|Fernando de Noronha|    Sem Informação|  Sem Informação|      Sem Informação|     Sem Informação|   Sem Informação|       Sem Informação|          1144.24|            0.0|            20/12/2021|                 18:27|\n",
            "|                0000000000017563956|             000002/22-2C|             Aéreo|          Brasil|    Pernambuco|Fernando de Noronha|           Brasil|          Paraná|           Londrina|    Sem Informação|  Sem Informação|      Sem Informação|     Sem Informação|   Sem Informação|       Sem Informação|          1529.86|            0.0|            20/12/2021|                 18:27|\n",
            "|                0000000000017563956|             000002/22-2C|             Aéreo|          Brasil|    Pernambuco|Fernando de Noronha|           Brasil|      Pernambuco|             Recife|    Sem Informação|  Sem Informação|      Sem Informação|     Sem Informação|   Sem Informação|       Sem Informação|          2491.86|            0.0|            02/09/2021|                 11:01|\n",
            "|                0000000000017564009|             000001/22-2C|             Aéreo|          Brasil|    Pernambuco|Fernando de Noronha|           Brasil|      Pernambuco|             Recife|    Sem Informação|  Sem Informação|      Sem Informação|     Sem Informação|   Sem Informação|       Sem Informação|          2491.86|            0.0|            02/09/2021|                 10:58|\n",
            "|                0000000000017564009|             000001/22-2C|             Aéreo|          Brasil|    Pernambuco|Fernando de Noronha|           Brasil|      Pernambuco|             Recife|    Sem Informação|  Sem Informação|      Sem Informação|     Sem Informação|   Sem Informação|       Sem Informação|          1783.86|            0.0|            20/12/2021|                 17:44|\n",
            "|                0000000000017564009|             000001/22-2C|             Aéreo|          Brasil|    Pernambuco|             Recife|           Brasil|      Pernambuco|Fernando de Noronha|    Sem Informação|  Sem Informação|      Sem Informação|     Sem Informação|   Sem Informação|       Sem Informação|          1532.24|            0.0|            20/12/2021|                 17:44|\n",
            "|                0000000000017564009|             000001/22-2C|             Aéreo|          Brasil|    Pernambuco|             Recife|           Brasil|      Pernambuco|Fernando de Noronha|    Sem Informação|  Sem Informação|      Sem Informação|     Sem Informação|   Sem Informação|       Sem Informação|          1753.24|            0.0|            02/09/2021|                 10:58|\n",
            "|                0000000000017569036|             000002/22-3C|             Aéreo|           Haiti|          NULL|     Porto Príncipe|           Brasil|Distrito Federal|           Brasília|    Sem Informação|  Sem Informação|      Sem Informação|     Sem Informação|   Sem Informação|       Sem Informação|          2801.39|            0.0|            25/02/2022|                 15:46|\n",
            "|                0000000000017582605|                000003/22|             Aéreo|          Zâmbia|          NULL|             Lusaca|           Brasil|Distrito Federal|           Brasília|    Sem Informação|  Sem Informação|      Sem Informação|     Sem Informação|   Sem Informação|       Sem Informação|          5106.38|            0.0|            10/09/2021|                 11:43|\n",
            "|                0000000000017582617|                000004/22|             Aéreo|          Zâmbia|          NULL|             Lusaca|           Brasil|Distrito Federal|           Brasília|    Sem Informação|  Sem Informação|      Sem Informação|     Sem Informação|   Sem Informação|       Sem Informação|          4213.64|            0.0|            10/09/2021|                 11:47|\n",
            "|                0000000000017582629|                000005/22|             Aéreo|          Zâmbia|          NULL|             Lusaca|           Brasil|Distrito Federal|           Brasília|    Sem Informação|  Sem Informação|      Sem Informação|     Sem Informação|   Sem Informação|       Sem Informação|          4213.64|            0.0|            10/09/2021|                 11:50|\n",
            "|                0000000000017582631|                000006/22|             Aéreo|          Zâmbia|          NULL|             Lusaca|           Brasil|Distrito Federal|           Brasília|    Sem Informação|  Sem Informação|      Sem Informação|     Sem Informação|   Sem Informação|       Sem Informação|          4213.64|            0.0|            10/09/2021|                 11:52|\n",
            "|                0000000000017603621|             000001/22-1C|             Aéreo|          Brasil|       Paraíba|     Campina Grande|           Brasil|          Paraná|           Curitiba|    Sem Informação|  Sem Informação|      Sem Informação|     Sem Informação|   Sem Informação|       Sem Informação|           743.79|            0.0|            21/09/2021|                 11:34|\n",
            "|                0000000000017603621|             000001/22-1C|             Aéreo|          Brasil|        Paraná|           Curitiba|           Brasil|         Paraíba|     Campina Grande|    Sem Informação|  Sem Informação|      Sem Informação|     Sem Informação|   Sem Informação|       Sem Informação|          1416.96|            0.0|            21/09/2021|                 11:34|\n",
            "|                0000000000017620401|                000001/22|             Aéreo|          Brasil|     São Paulo|          Guarulhos|           Brasil|           Ceará|          Fortaleza|    Sem Informação|  Sem Informação|      Sem Informação|     Sem Informação|   Sem Informação|       Sem Informação|           705.66|            0.0|            20/10/2021|                 16:03|\n",
            "|                0000000000017620401|                000001/22|             Aéreo|          Brasil|         Ceará|          Fortaleza|           Brasil|       São Paulo|          Guarulhos|    Sem Informação|  Sem Informação|      Sem Informação|     Sem Informação|   Sem Informação|       Sem Informação|           855.66|            0.0|            20/10/2021|                 16:03|\n",
            "|                0000000000017620488|                000002/22|             Aéreo|          Brasil|         Ceará|          Fortaleza|           Brasil|       São Paulo|          Guarulhos|    Sem Informação|  Sem Informação|      Sem Informação|     Sem Informação|   Sem Informação|       Sem Informação|           855.66|            0.0|            20/10/2021|                 16:58|\n",
            "|                0000000000017620488|                000002/22|             Aéreo|          Brasil|     São Paulo|          Guarulhos|           Brasil|           Ceará|          Fortaleza|    Sem Informação|  Sem Informação|      Sem Informação|     Sem Informação|   Sem Informação|       Sem Informação|           705.41|            0.0|            20/10/2021|                 16:58|\n",
            "|                0000000000017634205|                000007/22|             Aéreo|          Brasil|  Minas Gerais|     Belo Horizonte|           França|            NULL|              Paris|    Sem Informação|  Sem Informação|      Sem Informação|     Sem Informação|   Sem Informação|       Sem Informação|          8076.67|            0.0|            05/10/2021|                 10:14|\n",
            "+-----------------------------------+-------------------------+------------------+----------------+--------------+-------------------+-----------------+----------------+-------------------+------------------+----------------+--------------------+-------------------+-----------------+---------------------+-----------------+---------------+----------------------+----------------------+\n",
            "only showing top 20 rows\n",
            "\n"
          ]
        }
      ]
    },
    {
      "cell_type": "code",
      "source": [
        "df_1.write.mode(\"overwrite\").parquet(f\"{dir}/2022_Passagem.parquet\")"
      ],
      "metadata": {
        "id": "c7rDEqZc-3Lq"
      },
      "execution_count": 19,
      "outputs": []
    },
    {
      "cell_type": "code",
      "source": [
        "os.listdir(dir)"
      ],
      "metadata": {
        "colab": {
          "base_uri": "https://localhost:8080/"
        },
        "id": "40eczYfp_OJz",
        "outputId": "1f0b2171-f00b-4304-8fb6-f1984b7ad64f"
      },
      "execution_count": 20,
      "outputs": [
        {
          "output_type": "execute_result",
          "data": {
            "text/plain": [
              "['2022_Passagem.csv', 'compras.csv', '2022_Passagem.parquet']"
            ]
          },
          "metadata": {},
          "execution_count": 20
        }
      ]
    },
    {
      "cell_type": "code",
      "source": [
        "csv_size = os.path.getsize(f\"{dir}/{csv_file}\")\n",
        "csv_size"
      ],
      "metadata": {
        "colab": {
          "base_uri": "https://localhost:8080/"
        },
        "id": "hHEHPneF_T_D",
        "outputId": "768d699a-16d6-42f7-8c0e-fddbe5c50c35"
      },
      "execution_count": 21,
      "outputs": [
        {
          "output_type": "execute_result",
          "data": {
            "text/plain": [
              "68818335"
            ]
          },
          "metadata": {},
          "execution_count": 21
        }
      ]
    },
    {
      "cell_type": "code",
      "source": [
        "parquet_size = os.path.getsize(f\"{dir}/2022_Passagem.parquet\")\n",
        "parquet_size"
      ],
      "metadata": {
        "colab": {
          "base_uri": "https://localhost:8080/"
        },
        "id": "9xHIEjwy_pMe",
        "outputId": "2f80e5ac-3b9e-4e4f-e4bf-6aab05f2c911"
      },
      "execution_count": 24,
      "outputs": [
        {
          "output_type": "execute_result",
          "data": {
            "text/plain": [
              "4096"
            ]
          },
          "metadata": {},
          "execution_count": 24
        }
      ]
    },
    {
      "cell_type": "code",
      "source": [
        "df_parquet = spark.read.parquet(f\"{dir}/2022_Passagem.parquet\")\n",
        "\n",
        "df_parquet.printSchema()"
      ],
      "metadata": {
        "colab": {
          "base_uri": "https://localhost:8080/"
        },
        "id": "WF6zYiD1_7NC",
        "outputId": "d9bc7952-7f40-4536-d58b-e5b1da9225c6"
      },
      "execution_count": 26,
      "outputs": [
        {
          "output_type": "stream",
          "name": "stdout",
          "text": [
            "root\n",
            " |-- identificador_do_processo_de_viagem: string (nullable = true)\n",
            " |-- número_da_proposta_(pcdp): string (nullable = true)\n",
            " |-- meio_de_transporte: string (nullable = true)\n",
            " |-- país__origem_ida: string (nullable = true)\n",
            " |-- uf__origem_ida: string (nullable = true)\n",
            " |-- cidade__origem_ida: string (nullable = true)\n",
            " |-- país__destino_ida: string (nullable = true)\n",
            " |-- uf__destino_ida: string (nullable = true)\n",
            " |-- cidade__destino_ida: string (nullable = true)\n",
            " |-- país__origem_volta: string (nullable = true)\n",
            " |-- uf__origem_volta: string (nullable = true)\n",
            " |-- cidade__origem_volta: string (nullable = true)\n",
            " |-- pais__destino_volta: string (nullable = true)\n",
            " |-- uf__destino_volta: string (nullable = true)\n",
            " |-- cidade__destino_volta: string (nullable = true)\n",
            " |-- valor_da_passagem: float (nullable = true)\n",
            " |-- taxa_de_serviço: float (nullable = true)\n",
            " |-- data_da_emissão/compra: string (nullable = true)\n",
            " |-- hora_da_emissão/compra: string (nullable = true)\n",
            "\n"
          ]
        }
      ]
    }
  ]
}