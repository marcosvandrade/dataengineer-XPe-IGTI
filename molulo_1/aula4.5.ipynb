{
 "cells": [
  {
   "cell_type": "code",
   "execution_count": 13,
   "metadata": {},
   "outputs": [],
   "source": [
    "import requests\n",
    "from bs4 import BeautifulSoup\n",
    "import pandas as pd"
   ]
  },
  {
   "cell_type": "code",
   "execution_count": 3,
   "metadata": {},
   "outputs": [],
   "source": [
    "URL = \"https://www.mercadolivre.com.br/ofertas?container_id=MLB779362-1&page=\"\n",
    "\n",
    "data = requests.get(URL).text"
   ]
  },
  {
   "cell_type": "code",
   "execution_count": 4,
   "metadata": {},
   "outputs": [
    {
     "data": {
      "text/plain": [
       "str"
      ]
     },
     "execution_count": 4,
     "metadata": {},
     "output_type": "execute_result"
    }
   ],
   "source": [
    "type(data)"
   ]
  },
  {
   "cell_type": "code",
   "execution_count": 6,
   "metadata": {},
   "outputs": [],
   "source": [
    "with open('mercadolivreoferdia.html', 'w', encoding='utf-8') as f:\n",
    "          f.write(data)"
   ]
  },
  {
   "cell_type": "code",
   "execution_count": 9,
   "metadata": {},
   "outputs": [],
   "source": [
    "# retorna titulos dos produtos nas tags\n",
    "def get_itens_title(doc):\n",
    "    title_tags = doc.find_all('p', class_ = 'promotion-item__title')\n",
    "    titles = []\n",
    "    for tags in title_tags:\n",
    "        titles.append(tags.text)\n",
    "    \n",
    "    return titles"
   ]
  },
  {
   "cell_type": "code",
   "execution_count": 10,
   "metadata": {},
   "outputs": [],
   "source": [
    "# retorna precos dos produtos\n",
    "def get_itens_price(doc):\n",
    "    price_tags = doc.find_all('p', class_ = 'promotion-item__price')\n",
    "    prices = []\n",
    "    for tags in price_tags:\n",
    "        prices.append(tags.text)\n",
    "    \n",
    "    return prices"
   ]
  },
  {
   "cell_type": "code",
   "execution_count": 12,
   "metadata": {},
   "outputs": [],
   "source": [
    "def get_doc(URL):\n",
    "    response = requests.get(URL)\n",
    "    doc = BeautifulSoup(response.text, 'html.parser')\n",
    "    if response.status_code != 200:\n",
    "        raise Exception(\"Falha ao carregar a página\")\n",
    "    \n",
    "    return doc"
   ]
  },
  {
   "cell_type": "code",
   "execution_count": 14,
   "metadata": {},
   "outputs": [],
   "source": [
    "def scrape_multiple_pages(n):\n",
    "    titles, prices = [], []\n",
    "\n",
    "    for page in range (1, n+1):\n",
    "        doc = get_doc(URL + str(page))\n",
    "        titles.extend(get_itens_title(doc))\n",
    "        prices.extend(get_itens_price(doc))\n",
    "    \n",
    "    itens = {\n",
    "        'TITLE': titles,\n",
    "        'PRICE': prices\n",
    "    }\n",
    "\n",
    "    return pd.DataFrame(itens)"
   ]
  },
  {
   "cell_type": "code",
   "execution_count": null,
   "metadata": {},
   "outputs": [],
   "source": []
  }
 ],
 "metadata": {
  "kernelspec": {
   "display_name": "XPe-IGTI",
   "language": "python",
   "name": "python3"
  },
  "language_info": {
   "codemirror_mode": {
    "name": "ipython",
    "version": 3
   },
   "file_extension": ".py",
   "mimetype": "text/x-python",
   "name": "python",
   "nbconvert_exporter": "python",
   "pygments_lexer": "ipython3",
   "version": "3.8.18"
  }
 },
 "nbformat": 4,
 "nbformat_minor": 2
}
