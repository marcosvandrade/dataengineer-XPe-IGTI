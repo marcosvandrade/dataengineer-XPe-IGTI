{
 "cells": [
  {
   "cell_type": "code",
   "execution_count": 6,
   "metadata": {},
   "outputs": [],
   "source": [
    "import requests\n",
    "from bs4 import BeautifulSoup\n",
    "import pandas as pd\n",
    "from datetime import datetime"
   ]
  },
  {
   "cell_type": "code",
   "execution_count": 16,
   "metadata": {},
   "outputs": [],
   "source": [
    "url = \"https://www.mercadolivre.com.br/ofertas?container_id=MLB779362-1&page=\"\n",
    "\n",
    "data = requests.get(url).text"
   ]
  },
  {
   "cell_type": "code",
   "execution_count": 8,
   "metadata": {},
   "outputs": [
    {
     "data": {
      "text/plain": [
       "str"
      ]
     },
     "execution_count": 8,
     "metadata": {},
     "output_type": "execute_result"
    }
   ],
   "source": [
    "type(data)"
   ]
  },
  {
   "cell_type": "code",
   "execution_count": 19,
   "metadata": {},
   "outputs": [],
   "source": [
    "with open('mercadolivre.html', 'w', encoding='utf-8') as f:\n",
    "          f.write(data)\n",
    "\n",
    "doc = BeautifulSoup(data, 'html.parser')"
   ]
  },
  {
   "cell_type": "code",
   "execution_count": 10,
   "metadata": {},
   "outputs": [],
   "source": [
    "# retorna titulos dos produtos nas tags\n",
    "def get_itens_title(doc):\n",
    "    title_tags = doc.find_all('p', class_ = 'promotion-item__title')\n",
    "    titles = []\n",
    "    for tags in title_tags:\n",
    "        titles.append(tags.text)\n",
    "    \n",
    "    return titles"
   ]
  },
  {
   "cell_type": "code",
   "execution_count": 20,
   "metadata": {},
   "outputs": [],
   "source": [
    "# retorna precos dos produtos\n",
    "def get_itens_price(doc):\n",
    "    price_tags = doc.find_all('div', class_ = 'andes-money-amount-combo__main-container')\n",
    "    price = []\n",
    "    for tags in price_tags:\n",
    "        price.append(tags.text.replace('Â', ''))\n",
    "    \n",
    "    return price"
   ]
  },
  {
   "cell_type": "code",
   "execution_count": 21,
   "metadata": {},
   "outputs": [],
   "source": [
    "def get_doc(url):\n",
    "    response = requests.get(url)\n",
    "    doc = BeautifulSoup(response.text, 'html.parser')\n",
    "    if response.status_code != 200:\n",
    "        raise Exception('Failed to load page {}'.format(response))\n",
    "    return doc"
   ]
  },
  {
   "cell_type": "code",
   "execution_count": 22,
   "metadata": {},
   "outputs": [],
   "source": [
    "def scrape_multiple_pages(n):\n",
    "    titles, prices = [], []\n",
    "\n",
    "    for page in range (1, n+1):\n",
    "        doc = get_doc(url + str(page))\n",
    "        titles.extend(get_itens_title(doc))\n",
    "        prices.extend(get_itens_price(doc))\n",
    "    \n",
    "    itens = {\n",
    "        'TITLE': titles,\n",
    "        'PRICE': prices\n",
    "    }\n",
    "\n",
    "    return pd.DataFrame(itens)"
   ]
  },
  {
   "cell_type": "code",
   "execution_count": 26,
   "metadata": {},
   "outputs": [
    {
     "data": {
      "text/html": [
       "<div>\n",
       "<style scoped>\n",
       "    .dataframe tbody tr th:only-of-type {\n",
       "        vertical-align: middle;\n",
       "    }\n",
       "\n",
       "    .dataframe tbody tr th {\n",
       "        vertical-align: top;\n",
       "    }\n",
       "\n",
       "    .dataframe thead th {\n",
       "        text-align: right;\n",
       "    }\n",
       "</style>\n",
       "<table border=\"1\" class=\"dataframe\">\n",
       "  <thead>\n",
       "    <tr style=\"text-align: right;\">\n",
       "      <th></th>\n",
       "      <th>TITLE</th>\n",
       "      <th>PRICE</th>\n",
       "      <th>SCRAPY_DATETIME</th>\n",
       "    </tr>\n",
       "  </thead>\n",
       "  <tbody>\n",
       "    <tr>\n",
       "      <th>0</th>\n",
       "      <td>Samsung Galaxy A14 (Exynos) 5G Dual SIM 128 GB...</td>\n",
       "      <td>799</td>\n",
       "      <td>2023-11-25 15:19:17</td>\n",
       "    </tr>\n",
       "    <tr>\n",
       "      <th>1</th>\n",
       "      <td>Smart TV Philco Ptv32m8gagcmblh LED Android TV...</td>\n",
       "      <td>859</td>\n",
       "      <td>2023-11-25 15:19:17</td>\n",
       "    </tr>\n",
       "    <tr>\n",
       "      <th>2</th>\n",
       "      <td>Samsung Galaxy Tab S6 Lite 128gb 4gb Ram Cinza</td>\n",
       "      <td>1599</td>\n",
       "      <td>2023-11-25 15:19:17</td>\n",
       "    </tr>\n",
       "    <tr>\n",
       "      <th>3</th>\n",
       "      <td>Robô Aspirador Wap Robot W90 3 Modos De Limpez...</td>\n",
       "      <td>294</td>\n",
       "      <td>2023-11-25 15:19:17</td>\n",
       "    </tr>\n",
       "    <tr>\n",
       "      <th>4</th>\n",
       "      <td>Playstation 5 825gb Disco + Bundle Ea Sports F...</td>\n",
       "      <td>3999</td>\n",
       "      <td>2023-11-25 15:19:17</td>\n",
       "    </tr>\n",
       "    <tr>\n",
       "      <th>...</th>\n",
       "      <td>...</td>\n",
       "      <td>...</td>\n",
       "      <td>...</td>\n",
       "    </tr>\n",
       "    <tr>\n",
       "      <th>475</th>\n",
       "      <td>Aspirador extrator é industrial Tambor Wap Car...</td>\n",
       "      <td>1499</td>\n",
       "      <td>2023-11-25 15:19:17</td>\n",
       "    </tr>\n",
       "    <tr>\n",
       "      <th>476</th>\n",
       "      <td>Tablet  Multilaser Kid Pad NB380 7\" 32GB laran...</td>\n",
       "      <td>299</td>\n",
       "      <td>2023-11-25 15:19:17</td>\n",
       "    </tr>\n",
       "    <tr>\n",
       "      <th>477</th>\n",
       "      <td>Samsung Galaxy A54 5g 256gb 8gb Ram Violeta</td>\n",
       "      <td>1799</td>\n",
       "      <td>2023-11-25 15:19:17</td>\n",
       "    </tr>\n",
       "    <tr>\n",
       "      <th>478</th>\n",
       "      <td>Tablet Multilaser Patrulha Canina Skye Wi-fi 1...</td>\n",
       "      <td>369</td>\n",
       "      <td>2023-11-25 15:19:17</td>\n",
       "    </tr>\n",
       "    <tr>\n",
       "      <th>479</th>\n",
       "      <td>Fritadeira sem Óleo Arno Airfry Super Inox com...</td>\n",
       "      <td>399</td>\n",
       "      <td>2023-11-25 15:19:17</td>\n",
       "    </tr>\n",
       "  </tbody>\n",
       "</table>\n",
       "<p>480 rows × 3 columns</p>\n",
       "</div>"
      ],
      "text/plain": [
       "                                                 TITLE PRICE  \\\n",
       "0    Samsung Galaxy A14 (Exynos) 5G Dual SIM 128 GB...   799   \n",
       "1    Smart TV Philco Ptv32m8gagcmblh LED Android TV...   859   \n",
       "2       Samsung Galaxy Tab S6 Lite 128gb 4gb Ram Cinza  1599   \n",
       "3    Robô Aspirador Wap Robot W90 3 Modos De Limpez...   294   \n",
       "4    Playstation 5 825gb Disco + Bundle Ea Sports F...  3999   \n",
       "..                                                 ...   ...   \n",
       "475  Aspirador extrator é industrial Tambor Wap Car...  1499   \n",
       "476  Tablet  Multilaser Kid Pad NB380 7\" 32GB laran...   299   \n",
       "477        Samsung Galaxy A54 5g 256gb 8gb Ram Violeta  1799   \n",
       "478  Tablet Multilaser Patrulha Canina Skye Wi-fi 1...   369   \n",
       "479  Fritadeira sem Óleo Arno Airfry Super Inox com...   399   \n",
       "\n",
       "         SCRAPY_DATETIME  \n",
       "0    2023-11-25 15:19:17  \n",
       "1    2023-11-25 15:19:17  \n",
       "2    2023-11-25 15:19:17  \n",
       "3    2023-11-25 15:19:17  \n",
       "4    2023-11-25 15:19:17  \n",
       "..                   ...  \n",
       "475  2023-11-25 15:19:17  \n",
       "476  2023-11-25 15:19:17  \n",
       "477  2023-11-25 15:19:17  \n",
       "478  2023-11-25 15:19:17  \n",
       "479  2023-11-25 15:19:17  \n",
       "\n",
       "[480 rows x 3 columns]"
      ]
     },
     "execution_count": 26,
     "metadata": {},
     "output_type": "execute_result"
    }
   ],
   "source": [
    "df_mercado_livre = scrape_multiple_pages(10)\n",
    "df_mercado_livre[\"SCRAPY_DATETIME\"] = datetime.now().strftime('%Y-%m-%d %H:%M:%S')\n",
    "df_mercado_livre['PRICE'] = df_mercado_livre['PRICE'].str.extract(r'(\\d+[\\.,]?\\d*)')\n",
    "df_mercado_livre"
   ]
  }
 ],
 "metadata": {
  "kernelspec": {
   "display_name": "XPe-IGTI",
   "language": "python",
   "name": "python3"
  },
  "language_info": {
   "codemirror_mode": {
    "name": "ipython",
    "version": 3
   },
   "file_extension": ".py",
   "mimetype": "text/x-python",
   "name": "python",
   "nbconvert_exporter": "python",
   "pygments_lexer": "ipython3",
   "version": "3.8.18"
  }
 },
 "nbformat": 4,
 "nbformat_minor": 2
}
