{
 "cells": [
  {
   "cell_type": "code",
   "execution_count": 7,
   "metadata": {},
   "outputs": [],
   "source": [
    "import requests\n",
    "import pandas as pd\n",
    "import io"
   ]
  },
  {
   "cell_type": "code",
   "execution_count": 8,
   "metadata": {},
   "outputs": [
    {
     "data": {
      "text/plain": [
       "200"
      ]
     },
     "execution_count": 8,
     "metadata": {},
     "output_type": "execute_result"
    }
   ],
   "source": [
    "url = 'http://compras.dados.gov.br/servicos/v1/servicos.csv'\n",
    "\n",
    "requests.get(url).status_code"
   ]
  },
  {
   "cell_type": "code",
   "execution_count": 9,
   "metadata": {},
   "outputs": [],
   "source": [
    "data = requests.get(url).content"
   ]
  },
  {
   "cell_type": "code",
   "execution_count": 13,
   "metadata": {},
   "outputs": [
    {
     "data": {
      "text/plain": [
       "bytes"
      ]
     },
     "execution_count": 13,
     "metadata": {},
     "output_type": "execute_result"
    }
   ],
   "source": [
    "type(data)"
   ]
  },
  {
   "cell_type": "code",
   "execution_count": 10,
   "metadata": {},
   "outputs": [],
   "source": [
    "parse_data = io.StringIO(data.decode('utf-8'))"
   ]
  },
  {
   "cell_type": "code",
   "execution_count": 11,
   "metadata": {},
   "outputs": [
    {
     "data": {
      "text/html": [
       "<div>\n",
       "<style scoped>\n",
       "    .dataframe tbody tr th:only-of-type {\n",
       "        vertical-align: middle;\n",
       "    }\n",
       "\n",
       "    .dataframe tbody tr th {\n",
       "        vertical-align: top;\n",
       "    }\n",
       "\n",
       "    .dataframe thead th {\n",
       "        text-align: right;\n",
       "    }\n",
       "</style>\n",
       "<table border=\"1\" class=\"dataframe\">\n",
       "  <thead>\n",
       "    <tr style=\"text-align: right;\">\n",
       "      <th></th>\n",
       "      <th>Código</th>\n",
       "      <th>Descrição</th>\n",
       "      <th>Unidade medida</th>\n",
       "      <th>CPC</th>\n",
       "      <th>Seção</th>\n",
       "      <th>Divisão</th>\n",
       "      <th>Grupo</th>\n",
       "      <th>Classe</th>\n",
       "      <th>Subclasse</th>\n",
       "    </tr>\n",
       "  </thead>\n",
       "  <tbody>\n",
       "    <tr>\n",
       "      <th>0</th>\n",
       "      <td>19</td>\n",
       "      <td>Estudos e Projetos Viabilidade Técnico - Econô...</td>\n",
       "      <td>UN</td>\n",
       "      <td>8319.0</td>\n",
       "      <td>8: SERVIÇOS DE ARQUITETURA, DESENHOS TÉCNICOS,...</td>\n",
       "      <td>83: OUTROS SERVIÇOS DE NEGÓCIOS, TÉCNICOS E PR...</td>\n",
       "      <td>831: SERVIÇOS DE CONSULTORIA E DE GERÊNCIA/GES...</td>\n",
       "      <td>8319: OUTROS SERVIÇOS DE GERÊNCIA/GESTÃO, EXCE...</td>\n",
       "      <td>NaN</td>\n",
       "    </tr>\n",
       "    <tr>\n",
       "      <th>1</th>\n",
       "      <td>27</td>\n",
       "      <td>Estudos e Projetos de Viabilidade Técnico - Ec...</td>\n",
       "      <td>UN</td>\n",
       "      <td>8319.0</td>\n",
       "      <td>8: SERVIÇOS DE ARQUITETURA, DESENHOS TÉCNICOS,...</td>\n",
       "      <td>83: OUTROS SERVIÇOS DE NEGÓCIOS, TÉCNICOS E PR...</td>\n",
       "      <td>831: SERVIÇOS DE CONSULTORIA E DE GERÊNCIA/GES...</td>\n",
       "      <td>8319: OUTROS SERVIÇOS DE GERÊNCIA/GESTÃO, EXCE...</td>\n",
       "      <td>NaN</td>\n",
       "    </tr>\n",
       "    <tr>\n",
       "      <th>2</th>\n",
       "      <td>35</td>\n",
       "      <td>Estudos e Projetos de Viabilidade Técnico - Ec...</td>\n",
       "      <td>UN</td>\n",
       "      <td>8319.0</td>\n",
       "      <td>8: SERVIÇOS DE ARQUITETURA, DESENHOS TÉCNICOS,...</td>\n",
       "      <td>83: OUTROS SERVIÇOS DE NEGÓCIOS, TÉCNICOS E PR...</td>\n",
       "      <td>831: SERVIÇOS DE CONSULTORIA E DE GERÊNCIA/GES...</td>\n",
       "      <td>8319: OUTROS SERVIÇOS DE GERÊNCIA/GESTÃO, EXCE...</td>\n",
       "      <td>NaN</td>\n",
       "    </tr>\n",
       "    <tr>\n",
       "      <th>3</th>\n",
       "      <td>43</td>\n",
       "      <td>Estudos e Projetos Viabilidade Técnico - Econô...</td>\n",
       "      <td>UN</td>\n",
       "      <td>8319.0</td>\n",
       "      <td>8: SERVIÇOS DE ARQUITETURA, DESENHOS TÉCNICOS,...</td>\n",
       "      <td>83: OUTROS SERVIÇOS DE NEGÓCIOS, TÉCNICOS E PR...</td>\n",
       "      <td>831: SERVIÇOS DE CONSULTORIA E DE GERÊNCIA/GES...</td>\n",
       "      <td>8319: OUTROS SERVIÇOS DE GERÊNCIA/GESTÃO, EXCE...</td>\n",
       "      <td>NaN</td>\n",
       "    </tr>\n",
       "    <tr>\n",
       "      <th>4</th>\n",
       "      <td>51</td>\n",
       "      <td>Estudos e Projetos Urbanísticos / Paisagístico...</td>\n",
       "      <td>UN</td>\n",
       "      <td>8319.0</td>\n",
       "      <td>8: SERVIÇOS DE ARQUITETURA, DESENHOS TÉCNICOS,...</td>\n",
       "      <td>83: OUTROS SERVIÇOS DE NEGÓCIOS, TÉCNICOS E PR...</td>\n",
       "      <td>831: SERVIÇOS DE CONSULTORIA E DE GERÊNCIA/GES...</td>\n",
       "      <td>8319: OUTROS SERVIÇOS DE GERÊNCIA/GESTÃO, EXCE...</td>\n",
       "      <td>NaN</td>\n",
       "    </tr>\n",
       "  </tbody>\n",
       "</table>\n",
       "</div>"
      ],
      "text/plain": [
       "   Código                                          Descrição Unidade medida  \\\n",
       "0      19  Estudos e Projetos Viabilidade Técnico - Econô...             UN   \n",
       "1      27  Estudos e Projetos de Viabilidade Técnico - Ec...             UN   \n",
       "2      35  Estudos e Projetos de Viabilidade Técnico - Ec...             UN   \n",
       "3      43  Estudos e Projetos Viabilidade Técnico - Econô...             UN   \n",
       "4      51  Estudos e Projetos Urbanísticos / Paisagístico...             UN   \n",
       "\n",
       "      CPC                                              Seção  \\\n",
       "0  8319.0  8: SERVIÇOS DE ARQUITETURA, DESENHOS TÉCNICOS,...   \n",
       "1  8319.0  8: SERVIÇOS DE ARQUITETURA, DESENHOS TÉCNICOS,...   \n",
       "2  8319.0  8: SERVIÇOS DE ARQUITETURA, DESENHOS TÉCNICOS,...   \n",
       "3  8319.0  8: SERVIÇOS DE ARQUITETURA, DESENHOS TÉCNICOS,...   \n",
       "4  8319.0  8: SERVIÇOS DE ARQUITETURA, DESENHOS TÉCNICOS,...   \n",
       "\n",
       "                                             Divisão  \\\n",
       "0  83: OUTROS SERVIÇOS DE NEGÓCIOS, TÉCNICOS E PR...   \n",
       "1  83: OUTROS SERVIÇOS DE NEGÓCIOS, TÉCNICOS E PR...   \n",
       "2  83: OUTROS SERVIÇOS DE NEGÓCIOS, TÉCNICOS E PR...   \n",
       "3  83: OUTROS SERVIÇOS DE NEGÓCIOS, TÉCNICOS E PR...   \n",
       "4  83: OUTROS SERVIÇOS DE NEGÓCIOS, TÉCNICOS E PR...   \n",
       "\n",
       "                                               Grupo  \\\n",
       "0  831: SERVIÇOS DE CONSULTORIA E DE GERÊNCIA/GES...   \n",
       "1  831: SERVIÇOS DE CONSULTORIA E DE GERÊNCIA/GES...   \n",
       "2  831: SERVIÇOS DE CONSULTORIA E DE GERÊNCIA/GES...   \n",
       "3  831: SERVIÇOS DE CONSULTORIA E DE GERÊNCIA/GES...   \n",
       "4  831: SERVIÇOS DE CONSULTORIA E DE GERÊNCIA/GES...   \n",
       "\n",
       "                                              Classe Subclasse  \n",
       "0  8319: OUTROS SERVIÇOS DE GERÊNCIA/GESTÃO, EXCE...       NaN  \n",
       "1  8319: OUTROS SERVIÇOS DE GERÊNCIA/GESTÃO, EXCE...       NaN  \n",
       "2  8319: OUTROS SERVIÇOS DE GERÊNCIA/GESTÃO, EXCE...       NaN  \n",
       "3  8319: OUTROS SERVIÇOS DE GERÊNCIA/GESTÃO, EXCE...       NaN  \n",
       "4  8319: OUTROS SERVIÇOS DE GERÊNCIA/GESTÃO, EXCE...       NaN  "
      ]
     },
     "execution_count": 11,
     "metadata": {},
     "output_type": "execute_result"
    }
   ],
   "source": [
    "df = pd.read_csv(parse_data)\n",
    "df.head()"
   ]
  }
 ],
 "metadata": {
  "kernelspec": {
   "display_name": "XPe-IGTI",
   "language": "python",
   "name": "python3"
  },
  "language_info": {
   "codemirror_mode": {
    "name": "ipython",
    "version": 3
   },
   "file_extension": ".py",
   "mimetype": "text/x-python",
   "name": "python",
   "nbconvert_exporter": "python",
   "pygments_lexer": "ipython3",
   "version": "3.8.18"
  }
 },
 "nbformat": 4,
 "nbformat_minor": 2
}
