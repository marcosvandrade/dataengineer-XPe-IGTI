{
  "cells": [
    {
      "cell_type": "markdown",
      "metadata": {
        "colab_type": "text",
        "id": "view-in-github"
      },
      "source": [
        "<a href=\"https://colab.research.google.com/github/marcosvandrade/dataengineer-XPe-IGTI/blob/main/1_7_1_pratica_pipeline_dados.ipynb\" target=\"_parent\"><img src=\"https://colab.research.google.com/assets/colab-badge.svg\" alt=\"Open In Colab\"/></a>"
      ]
    },
    {
      "cell_type": "markdown",
      "metadata": {
        "id": "5vWQdsGmX8xh"
      },
      "source": [
        "* Extrair dados públicos, de compras governamentais\n",
        "* Tratar os dados\n",
        "* Armazenar os dados em um arquivo"
      ]
    },
    {
      "cell_type": "markdown",
      "metadata": {
        "id": "2nvAyFQUa7YX"
      },
      "source": [
        "# Extract"
      ]
    },
    {
      "cell_type": "code",
      "execution_count": null,
      "metadata": {
        "colab": {
          "base_uri": "https://localhost:8080/"
        },
        "id": "QMNyzB_pYJo8",
        "outputId": "59204ac0-6d5b-40fd-f4f3-f00e8e26a30d"
      },
      "outputs": [],
      "source": [
        "! pip install pyspark"
      ]
    },
    {
      "cell_type": "code",
      "execution_count": 1,
      "metadata": {
        "id": "aoVjf-GqX8xk"
      },
      "outputs": [],
      "source": [
        "import requests\n",
        "import io\n",
        "import pandas as pd\n",
        "from pyspark.sql import SparkSession"
      ]
    },
    {
      "cell_type": "code",
      "execution_count": 2,
      "metadata": {
        "id": "W6smBb0mX8xl"
      },
      "outputs": [
        {
          "data": {
            "text/plain": [
              "200"
            ]
          },
          "execution_count": 2,
          "metadata": {},
          "output_type": "execute_result"
        }
      ],
      "source": [
        "url = 'http://compras.dados.gov.br/servicos/v1/servicos.csv?descricao=educação'\n",
        "\n",
        "requests.get(url).status_code"
      ]
    },
    {
      "cell_type": "code",
      "execution_count": null,
      "metadata": {
        "colab": {
          "base_uri": "https://localhost:8080/"
        },
        "id": "BKQCZQUnX8xm",
        "outputId": "7574e805-cf82-4aee-93d8-9fcf3b6c0f49"
      },
      "outputs": [],
      "source": [
        "data = requests.get(url).content\n",
        "type(data)"
      ]
    },
    {
      "cell_type": "code",
      "execution_count": null,
      "metadata": {
        "colab": {
          "base_uri": "https://localhost:8080/"
        },
        "id": "ElU2tzYzX8xn",
        "outputId": "79792df4-da8c-420a-a9ad-13b9318c2b4a"
      },
      "outputs": [],
      "source": [
        "parse_data = io.StringIO(data.decode(\"utf-8\"))\n",
        "print(parse_data)"
      ]
    },
    {
      "cell_type": "code",
      "execution_count": null,
      "metadata": {
        "colab": {
          "base_uri": "https://localhost:8080/",
          "height": 490
        },
        "id": "_P3zcDq0X8xn",
        "outputId": "58eb097b-f316-43f0-9d32-8555c9adf484"
      },
      "outputs": [],
      "source": [
        "df = pd.read_csv(parse_data)\n",
        "df.head()"
      ]
    },
    {
      "cell_type": "code",
      "execution_count": null,
      "metadata": {
        "id": "Q8XAjaHjX8xo"
      },
      "outputs": [],
      "source": [
        "spark = SparkSession.builder.appName(\"Aula1\").getOrCreate()"
      ]
    },
    {
      "cell_type": "code",
      "execution_count": null,
      "metadata": {
        "id": "xaoted02X8xo"
      },
      "outputs": [],
      "source": [
        "df = spark.createDataFrame(df)"
      ]
    },
    {
      "cell_type": "code",
      "execution_count": null,
      "metadata": {
        "colab": {
          "base_uri": "https://localhost:8080/"
        },
        "id": "O9iO-rKYaqH7",
        "outputId": "73677017-3dac-422e-ca99-a0cb5e2d3a36"
      },
      "outputs": [],
      "source": [
        "type(df)"
      ]
    },
    {
      "cell_type": "markdown",
      "metadata": {
        "id": "wdx8kzahbFuk"
      },
      "source": [
        "# Transform"
      ]
    },
    {
      "cell_type": "code",
      "execution_count": null,
      "metadata": {
        "colab": {
          "base_uri": "https://localhost:8080/"
        },
        "id": "9Y8wltoPX8xo",
        "outputId": "7120e7ca-d794-4ce4-e5ae-525dd1a8cde3"
      },
      "outputs": [],
      "source": [
        "df.printSchema()"
      ]
    },
    {
      "cell_type": "code",
      "execution_count": null,
      "metadata": {
        "colab": {
          "base_uri": "https://localhost:8080/"
        },
        "id": "G_0fFp6qbgcy",
        "outputId": "a630a9cc-ad6f-4e08-8876-ed7966df7b2d"
      },
      "outputs": [],
      "source": [
        "df.show(50)"
      ]
    },
    {
      "cell_type": "code",
      "execution_count": null,
      "metadata": {
        "id": "sxWIdOCib52F"
      },
      "outputs": [],
      "source": [
        "df = (df.withColumnRenamed(\"Código\", \"Codigo\")\n",
        "    .withColumnRenamed(\"Descrição\", \"Descricao\")\n",
        "    .withColumnRenamed(\"Unidade medida\", \"Unidade_medida\")\n",
        "    .withColumnRenamed(\"Seção\", \"Secao\")\n",
        "    .withColumnRenamed(\"Divisão\", \"Divisao\")\n",
        ")"
      ]
    },
    {
      "cell_type": "code",
      "execution_count": null,
      "metadata": {
        "id": "K8mekgGleMgX"
      },
      "outputs": [],
      "source": [
        "import pyspark.sql.functions as F"
      ]
    },
    {
      "cell_type": "code",
      "execution_count": null,
      "metadata": {
        "colab": {
          "base_uri": "https://localhost:8080/"
        },
        "id": "QuG82moddCRQ",
        "outputId": "e6d9372d-40c3-4a53-e58d-07dbefb69a38"
      },
      "outputs": [],
      "source": [
        "df = df.select([x.lower() for x in df.columns])\n",
        "df.printSchema()"
      ]
    },
    {
      "cell_type": "code",
      "execution_count": null,
      "metadata": {
        "colab": {
          "base_uri": "https://localhost:8080/"
        },
        "id": "_0Ed6m0Df1Mq",
        "outputId": "32e570f1-1c06-41b2-8627-7f1c38c1e509"
      },
      "outputs": [],
      "source": [
        "df.head()"
      ]
    },
    {
      "cell_type": "code",
      "execution_count": null,
      "metadata": {
        "id": "z07XxJNKdb46"
      },
      "outputs": [],
      "source": [
        "from google.colab import drive"
      ]
    },
    {
      "cell_type": "code",
      "execution_count": null,
      "metadata": {
        "colab": {
          "base_uri": "https://localhost:8080/"
        },
        "id": "z_g46JT8hSfZ",
        "outputId": "3d4a79c5-3a72-4af2-e7fa-736a0a1f690a"
      },
      "outputs": [],
      "source": [
        "drive.mount('/content/drive')"
      ]
    },
    {
      "cell_type": "code",
      "execution_count": null,
      "metadata": {
        "id": "wFCYM3LjhZQi"
      },
      "outputs": [],
      "source": [
        "dir = \"/content/drive/MyDrive/xpe/data\""
      ]
    },
    {
      "cell_type": "code",
      "execution_count": null,
      "metadata": {
        "id": "StHaIXYXh5My"
      },
      "outputs": [],
      "source": [
        "df.write.mode(\"overwrite\").csv(f\"{dir}/compras.csv\")"
      ]
    },
    {
      "cell_type": "code",
      "execution_count": null,
      "metadata": {
        "id": "u4Q7BWkeiD1G"
      },
      "outputs": [],
      "source": [
        "import os"
      ]
    },
    {
      "cell_type": "code",
      "execution_count": null,
      "metadata": {
        "colab": {
          "base_uri": "https://localhost:8080/"
        },
        "id": "ITHV5gTcjesd",
        "outputId": "606f18d6-8873-4ae5-c43f-06d173b19ba5"
      },
      "outputs": [],
      "source": [
        "print(spark.read.csv(\"/content/drive/MyDrive/xpe/data/compras.csv\").head())"
      ]
    }
  ],
  "metadata": {
    "colab": {
      "include_colab_link": true,
      "provenance": []
    },
    "kernelspec": {
      "display_name": "XPe-IGTI",
      "language": "python",
      "name": "python3"
    },
    "language_info": {
      "codemirror_mode": {
        "name": "ipython",
        "version": 3
      },
      "file_extension": ".py",
      "mimetype": "text/x-python",
      "name": "python",
      "nbconvert_exporter": "python",
      "pygments_lexer": "ipython3",
      "version": "3.8.18"
    }
  },
  "nbformat": 4,
  "nbformat_minor": 0
}
